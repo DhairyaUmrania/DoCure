{
 "cells": [
  {
   "cell_type": "code",
   "execution_count": 1,
   "id": "78a5d59f",
   "metadata": {},
   "outputs": [],
   "source": [
    "import re\n",
    "import requests\n",
    "import pdfplumber\n",
    "import pandas as pd"
   ]
  },
  {
   "cell_type": "code",
   "execution_count": 2,
   "id": "1672d3c1",
   "metadata": {},
   "outputs": [],
   "source": [
    "def download_file(url):\n",
    "    local_filename = url.split(\"/\")[-1]\n",
    "    \n",
    "    with requests.get(url) as r:\n",
    "        with open(local_filename, 'wb') as f:\n",
    "            f.write(r.content)\n",
    "            \n",
    "    return local_filename"
   ]
  },
  {
   "cell_type": "code",
   "execution_count": 3,
   "id": "4c760156",
   "metadata": {},
   "outputs": [],
   "source": [
    "cbc_url = 'file:///E:/Programming/Data%20Science/Jupyter/Home/KJ%20Somaiya/LY%20Proj/Report-812014520000923_Mr_HIMATBHAIUMRANIA_05Sep2020_175117.pdf'"
   ]
  },
  {
   "cell_type": "code",
   "execution_count": 4,
   "id": "1846d3bd",
   "metadata": {},
   "outputs": [],
   "source": [
    "cbc = 'Report-812014520000923_Mr_HIMATBHAIUMRANIA_05Sep2020_175117.pdf'"
   ]
  },
  {
   "cell_type": "code",
   "execution_count": 2,
   "id": "d0693d0a",
   "metadata": {},
   "outputs": [],
   "source": [
    "cbc = '2022_04_15 1_42 pm Office Lens.pdf'"
   ]
  },
  {
   "cell_type": "code",
   "execution_count": 3,
   "id": "14d39597",
   "metadata": {},
   "outputs": [],
   "source": [
    "pass1 = '9821714272'"
   ]
  },
  {
   "cell_type": "code",
   "execution_count": 4,
   "id": "9aab2ed5",
   "metadata": {},
   "outputs": [],
   "source": [
    "with pdfplumber.open(cbc, password = pass1) as pdf:\n",
    "    page = pdf.pages[0]\n",
    "    text = page.extract_text()"
   ]
  },
  {
   "cell_type": "code",
   "execution_count": 5,
   "id": "3a04c46c",
   "metadata": {},
   "outputs": [
    {
     "name": "stdout",
     "output_type": "stream",
     "text": [
      "None\n"
     ]
    }
   ],
   "source": [
    "print(text)"
   ]
  },
  {
   "cell_type": "code",
   "execution_count": 8,
   "id": "4d2a83ff",
   "metadata": {},
   "outputs": [
    {
     "data": {
      "text/plain": [
       "'Mr. HIMATBHAI UMRANIA Reference: Dr.HEMAL  SHAH VID: 812014520000923\\nMUM,  MUMBAI Sample Collected At:   Registered On:\\nTel No  : 9821714272 Navjivan cc mhl 05/09/2020 05:51 PM\\nShop no  10 ground floor navjivan co \\nPIN No: 400008 operative premisies ltd lamington road  Collected On:\\nPID NO: P812000020262 mumbai central  zone: w-02b(44) 05/09/2020 5:51PM\\nAge: 76.0 Year(s) Sex: Male PROCESSING LOCATION:- Metropolis  Reported On:\\nHealthcare Ltd, Unit No. 409- 416, 4th \\n08/09/2020 11:22 AM\\nFloor, Commercial Building-1, Kohinoor \\nMall, Mumbai-70\\nCBC Haemogram\\nInvestigation Observed Value Unit Biological Reference Interval\\nErythrocytes\\nHaemoglobin (Hb) 11.4 gm/dL 14-18\\nErythrocyte (RBC) Count  3.72 mill/cu.mm 4.4-6.0\\nPCV (Packed Cell Volume)  34.9 % 42-52\\nMCV (Mean Corpuscular Volume) 93.9 fL 82-101\\nMCH (Mean Corpuscular Hb)  30.8 pg 27-34\\nMCHC (Mean Corpuscular Hb Concn.)  32.8 g/dL 31.5-36\\nRDW (Red Cell Distribution Width)  15.5 % 11.5-14.0\\nRBC Morphology\\nRemark Normochromic Normocytic\\nLeucocytes\\nTotal Leucocytes (WBC) count  10,000 cells/cu.mm 4300-10300\\nAbsolute Neutrophils Count 6800 /c.mm 2000-7000\\nAbsolute Lymphocyte Count 1600 /c.mm 1000-3000\\nAbsolute Monocyte Count 1400 /c.mm 200-1000\\nAbsolute Eosinophil Count 200 /c.mm 20-500\\nAbsolute Basophil Count  0 /c.mm 20-100\\nNeutrophils  68 % 40-80\\nLymphocytes  16 % 20-40\\nMonocytes  14 % 2.0-10\\nEosinophils  2 % 1-6\\nBasophils  0 % 0-2\\nPlatelets\\nPlatelet count  308 10^3 / µl 140-440\\nMPV (Mean Platelet Volume)  7.5 fL 7.8-11\\nPCT ( Platelet crit)  0.229 % 0.2-0.5\\nPDW (Platelet Distribution Width)  17.4 % 9-17\\nPathologist Remark  Kindly correlate clinically\\nNote:- Kindly note change in reference ranges.\\nEDTA Whole Blood-Tests done on Automated Five Part Cell Counter. (RBC and Platelet count by impedance/Hydrodynamic \\nfocusing,WBC and differential by VCS technology/Impedance/Flow cytometry.Rest are calculated parameters).All Abnormal \\nHaemograms are reviewed confirmed microscopically.Differential count is based on approximately 10,000 cells.\\nPage 1 of 3\\nDr. Talat Khan \\nMBBS, MD (PATHOLOGY)'"
      ]
     },
     "execution_count": 8,
     "metadata": {},
     "output_type": "execute_result"
    }
   ],
   "source": [
    "text"
   ]
  },
  {
   "cell_type": "markdown",
   "id": "90649152",
   "metadata": {},
   "source": [
    "# Only filtering the required rows"
   ]
  },
  {
   "cell_type": "code",
   "execution_count": 9,
   "id": "d6cab5b4",
   "metadata": {},
   "outputs": [],
   "source": [
    "data_re = re.compile(r'^\\w+.* \\d+')"
   ]
  },
  {
   "cell_type": "code",
   "execution_count": 10,
   "id": "de3a3c18",
   "metadata": {},
   "outputs": [],
   "source": [
    "new_text = ''\n",
    "for line in text.split('\\n'):\n",
    "    if data_re.match(line):\n",
    "        new_text += line+'\\n'"
   ]
  },
  {
   "cell_type": "code",
   "execution_count": 11,
   "id": "4aa7765a",
   "metadata": {},
   "outputs": [
    {
     "name": "stdout",
     "output_type": "stream",
     "text": [
      "Mr. HIMATBHAI UMRANIA Reference: Dr.HEMAL  SHAH VID: 812014520000923\n",
      "Tel No  : 9821714272 Navjivan cc mhl 05/09/2020 05:51 PM\n",
      "Shop no  10 ground floor navjivan co \n",
      "PIN No: 400008 operative premisies ltd lamington road  Collected On:\n",
      "PID NO: P812000020262 mumbai central  zone: w-02b(44) 05/09/2020 5:51PM\n",
      "Age: 76.0 Year(s) Sex: Male PROCESSING LOCATION:- Metropolis  Reported On:\n",
      "Healthcare Ltd, Unit No. 409- 416, 4th \n",
      "08/09/2020 11:22 AM\n",
      "Haemoglobin (Hb) 11.4 gm/dL 14-18\n",
      "Erythrocyte (RBC) Count  3.72 mill/cu.mm 4.4-6.0\n",
      "PCV (Packed Cell Volume)  34.9 % 42-52\n",
      "MCV (Mean Corpuscular Volume) 93.9 fL 82-101\n",
      "MCH (Mean Corpuscular Hb)  30.8 pg 27-34\n",
      "MCHC (Mean Corpuscular Hb Concn.)  32.8 g/dL 31.5-36\n",
      "RDW (Red Cell Distribution Width)  15.5 % 11.5-14.0\n",
      "Total Leucocytes (WBC) count  10,000 cells/cu.mm 4300-10300\n",
      "Absolute Neutrophils Count 6800 /c.mm 2000-7000\n",
      "Absolute Lymphocyte Count 1600 /c.mm 1000-3000\n",
      "Absolute Monocyte Count 1400 /c.mm 200-1000\n",
      "Absolute Eosinophil Count 200 /c.mm 20-500\n",
      "Absolute Basophil Count  0 /c.mm 20-100\n",
      "Neutrophils  68 % 40-80\n",
      "Lymphocytes  16 % 20-40\n",
      "Monocytes  14 % 2.0-10\n",
      "Eosinophils  2 % 1-6\n",
      "Basophils  0 % 0-2\n",
      "Platelet count  308 10^3 / µl 140-440\n",
      "MPV (Mean Platelet Volume)  7.5 fL 7.8-11\n",
      "PCT ( Platelet crit)  0.229 % 0.2-0.5\n",
      "PDW (Platelet Distribution Width)  17.4 % 9-17\n",
      "Haemograms are reviewed confirmed microscopically.Differential count is based on approximately 10,000 cells.\n",
      "Page 1 of 3\n",
      "\n"
     ]
    }
   ],
   "source": [
    "print(new_text)"
   ]
  },
  {
   "cell_type": "code",
   "execution_count": 12,
   "id": "cbc0386f",
   "metadata": {},
   "outputs": [
    {
     "data": {
      "text/plain": [
       "'Mr. HIMATBHAI UMRANIA Reference: Dr.HEMAL  SHAH VID: 812014520000923\\nTel No  : 9821714272 Navjivan cc mhl 05/09/2020 05:51 PM\\nShop no  10 ground floor navjivan co \\nPIN No: 400008 operative premisies ltd lamington road  Collected On:\\nPID NO: P812000020262 mumbai central  zone: w-02b(44) 05/09/2020 5:51PM\\nAge: 76.0 Year(s) Sex: Male PROCESSING LOCATION:- Metropolis  Reported On:\\nHealthcare Ltd, Unit No. 409- 416, 4th \\n08/09/2020 11:22 AM\\nHaemoglobin (Hb) 11.4 gm/dL 14-18\\nErythrocyte (RBC) Count  3.72 mill/cu.mm 4.4-6.0\\nPCV (Packed Cell Volume)  34.9 % 42-52\\nMCV (Mean Corpuscular Volume) 93.9 fL 82-101\\nMCH (Mean Corpuscular Hb)  30.8 pg 27-34\\nMCHC (Mean Corpuscular Hb Concn.)  32.8 g/dL 31.5-36\\nRDW (Red Cell Distribution Width)  15.5 % 11.5-14.0\\nTotal Leucocytes (WBC) count  10,000 cells/cu.mm 4300-10300\\nAbsolute Neutrophils Count 6800 /c.mm 2000-7000\\nAbsolute Lymphocyte Count 1600 /c.mm 1000-3000\\nAbsolute Monocyte Count 1400 /c.mm 200-1000\\nAbsolute Eosinophil Count 200 /c.mm 20-500\\nAbsolute Basophil Count  0 /c.mm 20-100\\nNeutrophils  68 % 40-80\\nLymphocytes  16 % 20-40\\nMonocytes  14 % 2.0-10\\nEosinophils  2 % 1-6\\nBasophils  0 % 0-2\\nPlatelet count  308 10^3 / µl 140-440\\nMPV (Mean Platelet Volume)  7.5 fL 7.8-11\\nPCT ( Platelet crit)  0.229 % 0.2-0.5\\nPDW (Platelet Distribution Width)  17.4 % 9-17\\nHaemograms are reviewed confirmed microscopically.Differential count is based on approximately 10,000 cells.\\nPage 1 of 3\\n'"
      ]
     },
     "execution_count": 12,
     "metadata": {},
     "output_type": "execute_result"
    }
   ],
   "source": [
    "new_text"
   ]
  },
  {
   "cell_type": "markdown",
   "id": "d1bbebe0",
   "metadata": {},
   "source": [
    "# Second report"
   ]
  },
  {
   "cell_type": "code",
   "execution_count": 13,
   "id": "81c306b4",
   "metadata": {},
   "outputs": [],
   "source": [
    "cbc2 = 'Z390.pdf'"
   ]
  },
  {
   "cell_type": "code",
   "execution_count": 14,
   "id": "7809f4d4",
   "metadata": {},
   "outputs": [],
   "source": [
    "with pdfplumber.open(cbc2) as pdf2:\n",
    "    page2 = pdf2.pages[0]\n",
    "    text2 = page2.extract_text()"
   ]
  },
  {
   "cell_type": "code",
   "execution_count": 15,
   "id": "61cb99b9",
   "metadata": {},
   "outputs": [
    {
     "name": "stdout",
     "output_type": "stream",
     "text": [
      ".\n",
      "LPL - LPL-ROHINI (NATIONAL REFERENCE \n",
      "LAB)\n",
      "SECTOR - 18, BLOCK -E ROHINI\n",
      "DELHI 110085\n",
      "Name         :    Z390 Collected         : 20/1/2017  12:00:00AM\n",
      "Received             : 20/1/2017  10:29:11AM\n",
      "Lab No.     : 134315810 Age:  Unknown Gender:  Unknown Reported         : 21/1/2017  10:48:25AM\n",
      "A/c Status  : P Ref By :  Unknown Report Status     : Final\n",
      "Test Name Results Units Bio. Ref. Interval\n",
      "FEVER  PANEL 1\n",
      "COMPLETE BLOOD COUNT (CBC)\n",
      "(Electrical Impedance & VCS,Photometry )\n",
      "Hemoglobin 14.40   \n",
      "Packed Cell Volume (PCV) 43.80   \n",
      "RBC Count 5.27   \n",
      "MCV 83.00   \n",
      "MCH 27.20   \n",
      "MCHC 32.80   \n",
      "Red Cell Distribution Width (RDW) 14.50   \n",
      "Total Leukocyte Count  (TLC) 11.00   \n",
      "Differential Leucocyte Count (DLC)\n",
      "Segmented Neutrophils 66.40   \n",
      "Lymphocytes 24.70   \n",
      "Monocytes 4.90   \n",
      "Eosinophils 3.10   \n",
      "Basophils 0.90   \n",
      "Absolute Leucocyte Count\n",
      "Neutrophils 7.30   \n",
      "Lymphocytes 2.72   \n",
      "Monocytes 0.54   \n",
      "Eosinophils 0.34   \n",
      "Basophils 0.10   \n",
      "Platelet Count 290.0   \n",
      "Note\n",
      "1. As per the recommendation of International council for Standardization in Hematology, the differential\n",
      "    leucocyte counts are additionally being reported as absolute numbers of each cell in per unit volume of\n",
      "    blood  \n",
      "                    \n",
      "2. Test conducted on EDTA whole blood\n",
      "*134315810*\n",
      "Page 1 of 4\n"
     ]
    }
   ],
   "source": [
    "print(text2)"
   ]
  },
  {
   "cell_type": "code",
   "execution_count": 16,
   "id": "afc7d5eb",
   "metadata": {},
   "outputs": [],
   "source": [
    "new_text2 = ''\n",
    "for line in text2.split('\\n'):\n",
    "    if data_re.match(line):\n",
    "        new_text2 += line+'\\n'"
   ]
  },
  {
   "cell_type": "code",
   "execution_count": 17,
   "id": "880390bb",
   "metadata": {},
   "outputs": [
    {
     "name": "stdout",
     "output_type": "stream",
     "text": [
      "SECTOR - 18, BLOCK -E ROHINI\n",
      "DELHI 110085\n",
      "Name         :    Z390 Collected         : 20/1/2017  12:00:00AM\n",
      "Received             : 20/1/2017  10:29:11AM\n",
      "Lab No.     : 134315810 Age:  Unknown Gender:  Unknown Reported         : 21/1/2017  10:48:25AM\n",
      "FEVER  PANEL 1\n",
      "Hemoglobin 14.40   \n",
      "Packed Cell Volume (PCV) 43.80   \n",
      "RBC Count 5.27   \n",
      "MCV 83.00   \n",
      "MCH 27.20   \n",
      "MCHC 32.80   \n",
      "Red Cell Distribution Width (RDW) 14.50   \n",
      "Total Leukocyte Count  (TLC) 11.00   \n",
      "Segmented Neutrophils 66.40   \n",
      "Lymphocytes 24.70   \n",
      "Monocytes 4.90   \n",
      "Eosinophils 3.10   \n",
      "Basophils 0.90   \n",
      "Neutrophils 7.30   \n",
      "Lymphocytes 2.72   \n",
      "Monocytes 0.54   \n",
      "Eosinophils 0.34   \n",
      "Basophils 0.10   \n",
      "Platelet Count 290.0   \n",
      "Page 1 of 4\n",
      "\n"
     ]
    }
   ],
   "source": [
    "print(new_text2)"
   ]
  },
  {
   "cell_type": "markdown",
   "id": "cce52fb2",
   "metadata": {},
   "source": [
    "# Regular expressions"
   ]
  },
  {
   "cell_type": "code",
   "execution_count": 18,
   "id": "74b904fd",
   "metadata": {},
   "outputs": [],
   "source": [
    "wbc_re = re.compile(r'(.*[Ll]eu[ck]ocyte.*|.*WBC.*|.*White Blood Cell.*) ([\\d,.]+) ')"
   ]
  },
  {
   "cell_type": "code",
   "execution_count": 19,
   "id": "31cc3864",
   "metadata": {},
   "outputs": [],
   "source": [
    "wbc = wbc_re.search(new_text).group(2)"
   ]
  },
  {
   "cell_type": "code",
   "execution_count": 20,
   "id": "1da52f66",
   "metadata": {},
   "outputs": [
    {
     "data": {
      "text/plain": [
       "'10,000'"
      ]
     },
     "execution_count": 20,
     "metadata": {},
     "output_type": "execute_result"
    }
   ],
   "source": [
    "wbc"
   ]
  },
  {
   "cell_type": "code",
   "execution_count": 21,
   "id": "d1d3e6d4",
   "metadata": {},
   "outputs": [
    {
     "data": {
      "text/plain": [
       "<re.Match object; span=(418, 453), match='Total Leukocyte Count  (TLC) 11.00 '>"
      ]
     },
     "execution_count": 21,
     "metadata": {},
     "output_type": "execute_result"
    }
   ],
   "source": [
    "wbc_re.search(new_text2)"
   ]
  },
  {
   "cell_type": "code",
   "execution_count": 22,
   "id": "13d384c8",
   "metadata": {},
   "outputs": [],
   "source": [
    "rbc_re = re.compile(r'(.*[eE]rythrocyte.*|.*[r,R][b,B][c,C].*|.*Red Blood Cell.*) ([\\d,.]+) ')"
   ]
  },
  {
   "cell_type": "code",
   "execution_count": 23,
   "id": "c428a9c3",
   "metadata": {},
   "outputs": [],
   "source": [
    "rbc = rbc_re.search(new_text).group(2)"
   ]
  },
  {
   "cell_type": "code",
   "execution_count": 24,
   "id": "87c054ba",
   "metadata": {},
   "outputs": [
    {
     "data": {
      "text/plain": [
       "'3.72'"
      ]
     },
     "execution_count": 24,
     "metadata": {},
     "output_type": "execute_result"
    }
   ],
   "source": [
    "rbc"
   ]
  },
  {
   "cell_type": "code",
   "execution_count": 25,
   "id": "6d36a789",
   "metadata": {},
   "outputs": [],
   "source": [
    "rbc2 = rbc_re.search(new_text2).group(2)"
   ]
  },
  {
   "cell_type": "code",
   "execution_count": 26,
   "id": "a1bc3b65",
   "metadata": {},
   "outputs": [
    {
     "data": {
      "text/plain": [
       "'5.27'"
      ]
     },
     "execution_count": 26,
     "metadata": {},
     "output_type": "execute_result"
    }
   ],
   "source": [
    "rbc2"
   ]
  },
  {
   "cell_type": "code",
   "execution_count": 27,
   "id": "10ba3323",
   "metadata": {},
   "outputs": [],
   "source": [
    "hgb_re = re.compile(r'(.*[Hh][a]*emoglobin.*) ([\\d,.]+) ')"
   ]
  },
  {
   "cell_type": "code",
   "execution_count": 28,
   "id": "6198dfb3",
   "metadata": {},
   "outputs": [],
   "source": [
    "hgb = hgb_re.search(new_text).group(2)"
   ]
  },
  {
   "cell_type": "code",
   "execution_count": 29,
   "id": "dd22f474",
   "metadata": {},
   "outputs": [
    {
     "data": {
      "text/plain": [
       "'11.4'"
      ]
     },
     "execution_count": 29,
     "metadata": {},
     "output_type": "execute_result"
    }
   ],
   "source": [
    "hgb"
   ]
  },
  {
   "cell_type": "code",
   "execution_count": 30,
   "id": "a377ad6a",
   "metadata": {},
   "outputs": [],
   "source": [
    "hgb2 = hgb_re.search(new_text2).group(2)"
   ]
  },
  {
   "cell_type": "code",
   "execution_count": 31,
   "id": "beef7359",
   "metadata": {},
   "outputs": [
    {
     "data": {
      "text/plain": [
       "'14.40'"
      ]
     },
     "execution_count": 31,
     "metadata": {},
     "output_type": "execute_result"
    }
   ],
   "source": [
    "hgb2"
   ]
  },
  {
   "cell_type": "markdown",
   "id": "3a7cf7db",
   "metadata": {},
   "source": [
    "## PCV"
   ]
  },
  {
   "cell_type": "code",
   "execution_count": 32,
   "id": "2fff7630",
   "metadata": {},
   "outputs": [],
   "source": [
    "pcv_re = re.compile(r'(.*[Pp]acked [Cc]ell [Vv]olume.*|.*[pP][cC][vV].*) ([\\d,.]+) ')"
   ]
  },
  {
   "cell_type": "code",
   "execution_count": 33,
   "id": "365fe7c8",
   "metadata": {},
   "outputs": [
    {
     "name": "stdout",
     "output_type": "stream",
     "text": [
      "34.9\n"
     ]
    }
   ],
   "source": [
    "pcv = pcv_re.search(new_text).group(2)\n",
    "print(pcv)"
   ]
  },
  {
   "cell_type": "code",
   "execution_count": 34,
   "id": "4732aed6",
   "metadata": {},
   "outputs": [
    {
     "name": "stdout",
     "output_type": "stream",
     "text": [
      "43.80\n"
     ]
    }
   ],
   "source": [
    "pcv2 = pcv_re.search(new_text2).group(2)\n",
    "print(pcv2)"
   ]
  },
  {
   "cell_type": "markdown",
   "id": "1a8fb9ce",
   "metadata": {},
   "source": [
    "## MCV"
   ]
  },
  {
   "cell_type": "code",
   "execution_count": 35,
   "id": "6ffbdc04",
   "metadata": {},
   "outputs": [],
   "source": [
    "mcv_re = re.compile(r'(.*[Mm]ean [Cc]orpuscular [Vv]olume.*|.*[mM][cC][vV].*) ([\\d,.]+) ')"
   ]
  },
  {
   "cell_type": "code",
   "execution_count": 36,
   "id": "65307e27",
   "metadata": {},
   "outputs": [
    {
     "name": "stdout",
     "output_type": "stream",
     "text": [
      "93.9\n"
     ]
    }
   ],
   "source": [
    "mcv = mcv_re.search(new_text).group(2)\n",
    "print(mcv)"
   ]
  },
  {
   "cell_type": "code",
   "execution_count": 37,
   "id": "195e3a8c",
   "metadata": {},
   "outputs": [
    {
     "name": "stdout",
     "output_type": "stream",
     "text": [
      "83.00\n"
     ]
    }
   ],
   "source": [
    "mcv2 = mcv_re.search(new_text2).group(2)\n",
    "print(mcv2)"
   ]
  },
  {
   "cell_type": "markdown",
   "id": "3f4a548f",
   "metadata": {},
   "source": [
    "## MCH"
   ]
  },
  {
   "cell_type": "code",
   "execution_count": 38,
   "id": "05e5ca81",
   "metadata": {},
   "outputs": [],
   "source": [
    "mch_re = re.compile(r'(.*[Mm]ean [Cc]orpuscular [Hh]b.*|.*[mM][cC][hH].*) ([\\d,.]+) ')"
   ]
  },
  {
   "cell_type": "code",
   "execution_count": 39,
   "id": "e23b39fb",
   "metadata": {},
   "outputs": [
    {
     "name": "stdout",
     "output_type": "stream",
     "text": [
      "30.8\n"
     ]
    }
   ],
   "source": [
    "mch = mch_re.search(new_text).group(2)\n",
    "print(mch)"
   ]
  },
  {
   "cell_type": "code",
   "execution_count": 40,
   "id": "7d9893c7",
   "metadata": {},
   "outputs": [
    {
     "name": "stdout",
     "output_type": "stream",
     "text": [
      "27.20\n"
     ]
    }
   ],
   "source": [
    "mch2 = mch_re.search(new_text2).group(2)\n",
    "print(mch2)"
   ]
  },
  {
   "cell_type": "markdown",
   "id": "c37db0f3",
   "metadata": {},
   "source": [
    "## MCHC"
   ]
  },
  {
   "cell_type": "code",
   "execution_count": 41,
   "id": "bf0e79a4",
   "metadata": {},
   "outputs": [],
   "source": [
    "mchc_re = re.compile(r'(.*[Mm]ean [Cc]ell [Hh]b Conc.*|.*[mM][cC][hH][cC].*) ([\\d,.]+) ')"
   ]
  },
  {
   "cell_type": "code",
   "execution_count": 42,
   "id": "696b4145",
   "metadata": {},
   "outputs": [
    {
     "name": "stdout",
     "output_type": "stream",
     "text": [
      "32.8\n"
     ]
    }
   ],
   "source": [
    "mchc = mchc_re.search(new_text).group(2)\n",
    "print(mchc)"
   ]
  },
  {
   "cell_type": "code",
   "execution_count": 43,
   "id": "71567a38",
   "metadata": {},
   "outputs": [
    {
     "name": "stdout",
     "output_type": "stream",
     "text": [
      "32.80\n"
     ]
    }
   ],
   "source": [
    "mchc2 = mchc_re.search(new_text2).group(2)\n",
    "print(mchc2)"
   ]
  },
  {
   "cell_type": "markdown",
   "id": "2cb0ac8e",
   "metadata": {},
   "source": [
    "## RCD"
   ]
  },
  {
   "cell_type": "code",
   "execution_count": 44,
   "id": "4919612a",
   "metadata": {},
   "outputs": [],
   "source": [
    "rcd_re = re.compile(r'(.*[Rr]ed [Cc]ell [Dd]ist.*|.*[Rr][cC][Dd].*|.*[Rr][Dd][Ww].*) ([\\d,.]+) ')"
   ]
  },
  {
   "cell_type": "code",
   "execution_count": 45,
   "id": "ccb14662",
   "metadata": {},
   "outputs": [
    {
     "name": "stdout",
     "output_type": "stream",
     "text": [
      "15.5\n"
     ]
    }
   ],
   "source": [
    "rcd = rcd_re.search(new_text).group(2)\n",
    "print(rcd)"
   ]
  },
  {
   "cell_type": "code",
   "execution_count": 46,
   "id": "6904df80",
   "metadata": {},
   "outputs": [
    {
     "name": "stdout",
     "output_type": "stream",
     "text": [
      "14.50\n"
     ]
    }
   ],
   "source": [
    "rcd2 = rcd_re.search(new_text2).group(2)\n",
    "print(rcd2)"
   ]
  },
  {
   "cell_type": "markdown",
   "id": "2d4356ff",
   "metadata": {},
   "source": [
    "## Platelet Count"
   ]
  },
  {
   "cell_type": "code",
   "execution_count": 47,
   "id": "e0655623",
   "metadata": {},
   "outputs": [],
   "source": [
    "pc_re = re.compile(r'(.*[Pp]la[Ee]*telet [Cc]ount.*) ([\\d,.]+) ')"
   ]
  },
  {
   "cell_type": "code",
   "execution_count": 48,
   "id": "8276efd0",
   "metadata": {},
   "outputs": [
    {
     "name": "stdout",
     "output_type": "stream",
     "text": [
      "308\n"
     ]
    }
   ],
   "source": [
    "pc = pc_re.search(new_text).group(2)\n",
    "print(pc)"
   ]
  },
  {
   "cell_type": "code",
   "execution_count": 49,
   "id": "10b52415",
   "metadata": {},
   "outputs": [
    {
     "name": "stdout",
     "output_type": "stream",
     "text": [
      "290.0\n"
     ]
    }
   ],
   "source": [
    "pc2 = pc_re.search(new_text2).group(2)\n",
    "print(pc2)"
   ]
  },
  {
   "cell_type": "markdown",
   "id": "345a8645",
   "metadata": {},
   "source": [
    "## Mean Platelet Volume"
   ]
  },
  {
   "cell_type": "code",
   "execution_count": 50,
   "id": "3eb9fde8",
   "metadata": {},
   "outputs": [],
   "source": [
    "mpv_re = re.compile(r'(.*[Mm]ean Pla[eE]*telet [Vv]olume.*|.*[Mm][Pp][Vv].*) ([\\d,.]+) ')"
   ]
  },
  {
   "cell_type": "code",
   "execution_count": 51,
   "id": "e2e35987",
   "metadata": {},
   "outputs": [
    {
     "name": "stdout",
     "output_type": "stream",
     "text": [
      "7.5\n"
     ]
    }
   ],
   "source": [
    "mpv = mpv_re.search(new_text).group(2)\n",
    "print(mpv)"
   ]
  },
  {
   "cell_type": "code",
   "execution_count": 52,
   "id": "9e0e97e7",
   "metadata": {},
   "outputs": [
    {
     "name": "stdout",
     "output_type": "stream",
     "text": [
      "None\n"
     ]
    }
   ],
   "source": [
    "mpv2 = mpv_re.search(new_text2)\n",
    "print(mpv2)"
   ]
  },
  {
   "cell_type": "code",
   "execution_count": 53,
   "id": "5e57174a",
   "metadata": {},
   "outputs": [
    {
     "name": "stdout",
     "output_type": "stream",
     "text": [
      "None\n"
     ]
    }
   ],
   "source": [
    "mpv2 = mpv_re.search(new_text2)\n",
    "print(mpv2)"
   ]
  },
  {
   "cell_type": "code",
   "execution_count": null,
   "id": "23685027",
   "metadata": {},
   "outputs": [],
   "source": []
  },
  {
   "cell_type": "code",
   "execution_count": 54,
   "id": "34c622a7",
   "metadata": {},
   "outputs": [],
   "source": [
    "for row in new_text.split('\\n'):\n",
    "    if wbc_re.search(row):\n",
    "        wbc_count = wbc_re.search(row).group(2)\n",
    "    if rbc_re.search(row):\n",
    "        rbc_count = rbc_re.search(new_text).group(2)\n",
    "    if row.startswith('Haemoglobin'):\n",
    "        hgb = row.split()[3]\n",
    "    if row.startswith('Hematocrit'):\n",
    "        hct = row.split()[2]\n",
    "    if row.startswith('Mean Cell Volume'):\n",
    "        mcv = row.split()[4]\n",
    "    if row.startswith('Mean Cell Hemoglobin'):\n",
    "        mch = row.split()[4]\n",
    "    if row.startswith('Mean Cell Hb Conc'):\n",
    "        mchc = row.split()[5]\n",
    "    if row.startswith('Red Cell Dist'):\n",
    "        rdw = row.split()[5]\n",
    "    if row.startswith('Platelet count'):\n",
    "        pc = row.split()[2]\n",
    "    if row.startswith('Mean PlaEtelet Volume'):\n",
    "        mpv = row.split()[3]"
   ]
  },
  {
   "cell_type": "markdown",
   "id": "6db37496",
   "metadata": {},
   "source": [
    "# Compilation"
   ]
  },
  {
   "cell_type": "code",
   "execution_count": 55,
   "id": "bca83ec3",
   "metadata": {},
   "outputs": [
    {
     "data": {
      "text/plain": [
       "'10,000'"
      ]
     },
     "execution_count": 55,
     "metadata": {},
     "output_type": "execute_result"
    }
   ],
   "source": [
    "wbc"
   ]
  },
  {
   "cell_type": "code",
   "execution_count": 56,
   "id": "e576d2c9",
   "metadata": {},
   "outputs": [],
   "source": [
    "wbc = float(wbc.replace(',',''))\n"
   ]
  },
  {
   "cell_type": "code",
   "execution_count": 57,
   "id": "07d7a455",
   "metadata": {},
   "outputs": [
    {
     "data": {
      "text/plain": [
       "10000.0"
      ]
     },
     "execution_count": 57,
     "metadata": {},
     "output_type": "execute_result"
    }
   ],
   "source": [
    "wbc"
   ]
  },
  {
   "cell_type": "code",
   "execution_count": 58,
   "id": "384734d4",
   "metadata": {},
   "outputs": [],
   "source": [
    "wbc_re = re.compile(r'(.*[Ll]eu[ck]ocyte.*|.*WBC.*|.*White Blood Cell.*) ([\\d,.]+) ')\n",
    "rbc_re = re.compile(r'(.*[eE]rythrocyte.*|.*[r,R][b,B][c,C].*|.*Red Blood Cell.*) ([\\d,.]+) ')\n",
    "hgb_re = re.compile(r'(.*[Hh][a]*emoglobin.*) ([\\d,.]+) ')\n",
    "pcv_re = re.compile(r'(.*[Pp]acked [Cc]ell [Vv]olume.*|.*[pP][cC][vV].*) ([\\d,.]+) ')\n",
    "mcv_re = re.compile(r'(.*[Mm]ean [Cc]orpuscular [Vv]olume.*|.*[mM][cC][vV].*) ([\\d,.]+) ')\n",
    "mch_re = re.compile(r'(.*[Mm]ean [Cc]orpuscular [Hh]b.*|.*[mM][cC][hH].*) ([\\d,.]+) ')\n",
    "mchc_re = re.compile(r'(.*[Mm]ean [Cc]ell [Hh]b Conc.*|.*[mM][cC][hH][cC].*) ([\\d,.]+) ')\n",
    "rcd_re = re.compile(r'(.*[Rr]ed [Cc]ell [Dd]ist.*|.*[Rr][cC][Dd].*|.*[Rr][Dd][Ww].*) ([\\d,.]+) ')\n",
    "pc_re = re.compile(r'(.*[Pp]la[Ee]*telet [Cc]ount.*) ([\\d,.]+) ')\n",
    "mpv_re = re.compile(r'(.*[Mm]ean Pla[eE]*telet [Vv]olume.*|.*[Mm][Pp][Vv].*) ([\\d,.]+) ')"
   ]
  },
  {
   "cell_type": "code",
   "execution_count": 74,
   "id": "6ca4f434",
   "metadata": {},
   "outputs": [],
   "source": [
    "def extract(text):\n",
    "    wbc_re = re.compile(r'(.*[Ll]eu[ck]ocyte.*|.*WBC.*|.*White Blood Cell.*) ([\\d,.]+) ')\n",
    "    rbc_re = re.compile(r'(.*[eE]rythrocyte.*|.*[r,R][b,B][c,C].*|.*[Rr]ed [Bb]lood [Cb]ell.*|.*[Rr]ed [Cc]ell [Cc]ount.*) ([\\d,.]+) ')\n",
    "    hgb_re = re.compile(r'(.*[Hh][a]*emoglobin.*) ([\\d,.]+) ')\n",
    "    pcv_re = re.compile(r'(.*[Pp]acked [Cc]ell [Vv]olume.*|.*[pP][cC][vV].*|.*[Hh][a]*ematocrit) ([\\d,.]+) ')\n",
    "    mcv_re = re.compile(r'(.*[Mm]ean [Cc]orpuscular [Vv]olume.*|.*[mM][cC][vV].*) ([\\d,.]+) ')\n",
    "    mch_re = re.compile(r'(.*[Mm]ean [Cc]orpuscular [Hh]b.*|.*[mM][cC][hH].*) ([\\d,.]+) ')\n",
    "    mchc_re = re.compile(r'(.*[Mm]ean [Cc]ell [Hh]b Conc.*|.*[mM][cC][hH][cC].*) ([\\d,.]+) ')\n",
    "    rcd_re = re.compile(r'(.*[Rr]ed [Cc]ell [Dd]ist.*|.*[Rr][cC][Dd].*|.*[Rr][Dd][Ww].*) ([\\d,.]+) ')\n",
    "    pc_re = re.compile(r'(.*[Pp]la[Ee]*telet [Cc]ount.*) ([\\d,.]+) ')\n",
    "    mpv_re = re.compile(r'(.*[Mm]ean Pla[eE]*telet [Vv]olume.*|.*[Mm][Pp][Vv].*) ([\\d,.]+) ')\n",
    "#     neu_re = re.compile(r'([Nn]eutrophils) ([\\d,.]+) ')\n",
    "#     lym_re = re.compile(r'(.*[Ll]ymphocyte.*) ([\\d,.]+) ')\n",
    "#     mon_re = re.compile(r'(.*[Mm]onocyte.*) ([\\d,.]+) ')\n",
    "#     eos_re = re.compile(r'(.*[Ee]osinophils.*) ([\\d,.]+) ')\n",
    "#     bas_re = re.compile(r'(.*[Bb]asophils.*) ([\\d,.]+) ')\n",
    "    \n",
    "    flag = 0\n",
    "    \n",
    "    wbc = wbc_re.search(text)\n",
    "    if(wbc != None):\n",
    "        wbc = wbc_re.search(text).group(2)\n",
    "        wbc = float(wbc.replace(',',''))\n",
    "        if(wbc>1000 and wbc<100000):\n",
    "            wbc /= 1000\n",
    "    else:\n",
    "        wbc = \"Not Available\"\n",
    "        flag += 1\n",
    "        \n",
    "    rbc = rbc_re.search(text)\n",
    "    if(rbc != None):\n",
    "        rbc = rbc_re.search(text).group(2)\n",
    "        rbc = float(rbc.replace(',',''))\n",
    "    else:\n",
    "        rbc = \"Not Available\"\n",
    "        flag += 1\n",
    "        \n",
    "    hgb = hgb_re.search(text)\n",
    "    if(hgb != None):\n",
    "        hgb = hgb_re.search(text).group(2)\n",
    "        hgb = float(hgb.replace(',',''))\n",
    "    else:\n",
    "        hgb = \"Not Available\"\n",
    "        flag += 1\n",
    "        \n",
    "    pcv = pcv_re.search(text)\n",
    "    if(pcv != None):\n",
    "        pcv = pcv_re.search(text).group(2)\n",
    "        pcv = float(pcv.replace(',',''))\n",
    "    else:\n",
    "        pcv = \"Not Available\"\n",
    "        flag += 1\n",
    "        \n",
    "    mcv = mcv_re.search(text)\n",
    "    if(mcv != None):\n",
    "        mcv = mcv_re.search(text).group(2)\n",
    "        mcv = float(mcv.replace(',',''))\n",
    "    else:\n",
    "        mcv = \"Not Available\"\n",
    "        flag += 1\n",
    "        \n",
    "    mch = mch_re.search(text)\n",
    "    if(mch != None):\n",
    "        mch = mch_re.search(text).group(2)\n",
    "        mch = float(mch.replace(',',''))\n",
    "    else:\n",
    "        mch = \"Not Available\"\n",
    "        flag += 1\n",
    "        \n",
    "    mchc = mchc_re.search(text)\n",
    "    if(mchc != None):\n",
    "        mchc = mchc_re.search(text).group(2)\n",
    "        mchc = float(mchc.replace(',',''))\n",
    "    else:\n",
    "        mchc = \"Not Available\"\n",
    "        flag += 1\n",
    "        \n",
    "    rcd = rcd_re.search(text)\n",
    "    if(rcd != None):\n",
    "        rcd = rcd_re.search(text).group(2)\n",
    "        rcd = float(rcd.replace(',',''))\n",
    "    else:\n",
    "        rcd = \"Not Available\"\n",
    "        flag += 1\n",
    "        \n",
    "    pc = pc_re.search(text)\n",
    "    if(pc != None):\n",
    "        pc = pc_re.search(text).group(2)\n",
    "        pc = float(pc.replace(',',''))\n",
    "    else:\n",
    "        pc = \"Not Available\"\n",
    "        flag += 1\n",
    "        \n",
    "    mpv = mpv_re.search(text)\n",
    "    if(mpv != None):\n",
    "        mpv = mpv_re.search(text).group(2)\n",
    "        mpv = float(mpv.replace(',',''))\n",
    "    else:\n",
    "        mpv = \"Not Available\"\n",
    "        flag += 1\n",
    "        \n",
    "#     if(flag > 5):\n",
    "#         print(\"Could not find values. Please check if the correct report is uploaded.\")\n",
    "#     else:\n",
    "#         print(\"Leukocyte count: \", wbc)\n",
    "#         print(\"Red Blood Cell count: \", rbc)\n",
    "#         print(\"Haemoglobin Count: \", hgb)\n",
    "#         print(\"Packed Cell Volume: \", pcv)\n",
    "#         print(\"Mean Cell Volume: \", mcv)\n",
    "#         print(\"Mean Corpuscular Hb Conc.: \", mchc)\n",
    "#         print(\"Red Cell Dist.: \", rcd)\n",
    "#         print(\"Platelet Count: \", pc)\n",
    "#         print(\"Mean Platelet Volume: \", mpv)\n",
    "        \n",
    "    return rbc, wbc, pc"
   ]
  },
  {
   "cell_type": "code",
   "execution_count": 78,
   "id": "17cc3c40",
   "metadata": {},
   "outputs": [
    {
     "name": "stdout",
     "output_type": "stream",
     "text": [
      "308.0\n"
     ]
    }
   ],
   "source": [
    "rbc, wbc, pc = extract(text)\n",
    "print(pc)"
   ]
  },
  {
   "cell_type": "code",
   "execution_count": 61,
   "id": "0255e3be",
   "metadata": {
    "scrolled": true
   },
   "outputs": [
    {
     "name": "stdout",
     "output_type": "stream",
     "text": [
      "Leukocyte count:  11.0\n",
      "Red Blood Cell count:  5.27\n",
      "Haemoglobin Count:  14.4\n",
      "Packed Cell Volume:  43.8\n",
      "Mean Cell Volume:  83.0\n",
      "Mean Corpuscular Hb Conc.:  32.8\n",
      "Red Cell Dist.:  14.5\n",
      "Platelet Count:  290.0\n",
      "Mean Platelet Volume:  Not Available\n"
     ]
    }
   ],
   "source": [
    "extract(text2)"
   ]
  },
  {
   "cell_type": "code",
   "execution_count": 62,
   "id": "beb76052",
   "metadata": {},
   "outputs": [],
   "source": [
    "ocr_text = '''mmohan Roy Road,\n",
    "Samaj, Girgaon,\n",
    "Mumbai - 400004\n",
    "1800221166\n",
    "\n",
    "yvww.rfhospital.org\n",
    "\n",
    "\n",
    "\n",
    "\n",
    "\n",
    "Ty WY!\n",
    "\n",
    "Car 4\n",
    "Or ri\n",
    "\n",
    "» Reliance\n",
    "\n",
    "e\n",
    "\n",
    "and Re\n",
    "\n",
    "=\n",
    "\n",
    "\n",
    "\n",
    "\n",
    "\n",
    "\n",
    "\n",
    "\n",
    "\n",
    "Name - Himatbhai Hirabhai Umarania Age/Gender - 73y/M Collected : 24/08/2018 05:02\n",
    "Patient ID: 0010137028 Visit Type :OP Received : 24/08/2018 05:02\n",
    "Referred By : Dr. Hemal Shah Contact - 8080750123 Reported 24/08/2018 10:04\n",
    "Accession : 1800073147\n",
    "DEPARTMENT OF LABORATORY MEDICINE - HAEMATOLOGY\n",
    "—@ est Name Result Units Biological Reference Range\n",
    "Complete Blood Count\n",
    "Red cell count 5.96 H x10412/L 4.5-5.5\n",
    "EDTA Whole Blood\n",
    "Haemoglobin 15.0 g/dL 13.0-17.0\n",
    "EDTA Whole Blood)\n",
    "Haematocrit 46.4 % 40.0-50.0\n",
    "EDTA Whole Blood\n",
    "MCV . 779 L fl 83-101\n",
    "MCH 252 © pg 27 .0-32.0\n",
    "EDTA Whole Biood\n",
    "MCHC 32.0 g/dL 31.5-34.5\n",
    "EDTA Whole Blood\n",
    "RDW 18.8 H % 11.6-14.0\n",
    "EDTA Whole Blood)\n",
    "= a leukocyte count 13.96 H X 10°9N. 4-10\n",
    "is OTA Whole Biloos Auiomated)\n",
    "Neutrophils 132 fo 40-80\n",
    "(EDTA Whole Blood)\n",
    "Lymphocytes 17 £ %o 20-40\n",
    "EDTA Whole Blood)\n",
    "Monocytes 8.3 %o 2-10\n",
    "EDTA Whole Blood)\n",
    "DR. SEENA GEORGE\n",
    "\n",
    "DR. ARCHANA VAZIFDAR\n",
    "\n",
    "M.D ( Pathology)\n",
    "Consultant Hematopathologist\n",
    "Laboratory Medicine\n",
    "\n",
    "M.D.,Fellowship Oncopath —\n",
    "Consultant Surgical Pathologist\n",
    "Laboratory Medicine\n",
    "\n",
    "‘siete sinner TAT\n",
    "\n",
    "\n",
    "\n",
    "me NN Nei\n",
    "♀'''"
   ]
  },
  {
   "cell_type": "code",
   "execution_count": 63,
   "id": "22d679cf",
   "metadata": {},
   "outputs": [
    {
     "name": "stdout",
     "output_type": "stream",
     "text": [
      "Leukocyte count:  13.96\n",
      "Red Blood Cell count:  5.96\n",
      "Haemoglobin Count:  15.0\n",
      "Packed Cell Volume:  46.4\n",
      "Mean Cell Volume:  779.0\n",
      "Mean Corpuscular Hb Conc.:  32.0\n",
      "Red Cell Dist.:  18.8\n",
      "Platelet Count:  Not Available\n",
      "Mean Platelet Volume:  Not Available\n"
     ]
    }
   ],
   "source": [
    "extract(ocr_text)"
   ]
  },
  {
   "cell_type": "code",
   "execution_count": 64,
   "id": "690dcf90",
   "metadata": {},
   "outputs": [
    {
     "data": {
      "text/plain": [
       "'mmohan Roy Road,\\nSamaj, Girgaon,\\nMumbai - 400004\\n1800221166\\n\\nyvww.rfhospital.org\\n\\n\\n\\n\\n\\nTy WY!\\n\\nCar 4\\nOr ri\\n\\n» Reliance\\n\\ne\\n\\nand Re\\n\\n=\\n\\n\\n\\n\\n\\n\\n\\n\\n\\nName - Himatbhai Hirabhai Umarania Age/Gender - 73y/M Collected : 24/08/2018 05:02\\nPatient ID: 0010137028 Visit Type :OP Received : 24/08/2018 05:02\\nReferred By : Dr. Hemal Shah Contact - 8080750123 Reported 24/08/2018 10:04\\nAccession : 1800073147\\nDEPARTMENT OF LABORATORY MEDICINE - HAEMATOLOGY\\n—@ est Name Result Units Biological Reference Range\\nComplete Blood Count\\nRed cell count 5.96 H x10412/L 4.5-5.5\\nEDTA Whole Blood\\nHaemoglobin 15.0 g/dL 13.0-17.0\\nEDTA Whole Blood)\\nHaematocrit 46.4 % 40.0-50.0\\nEDTA Whole Blood\\nMCV . 779 L fl 83-101\\nMCH 252 © pg 27 .0-32.0\\nEDTA Whole Biood\\nMCHC 32.0 g/dL 31.5-34.5\\nEDTA Whole Blood\\nRDW 18.8 H % 11.6-14.0\\nEDTA Whole Blood)\\n= a leukocyte count 13.96 H X 10°9N. 4-10\\nis OTA Whole Biloos Auiomated)\\nNeutrophils 132 fo 40-80\\n(EDTA Whole Blood)\\nLymphocytes 17 £ %o 20-40\\nEDTA Whole Blood)\\nMonocytes 8.3 %o 2-10\\nEDTA Whole Blood)\\nDR. SEENA GEORGE\\n\\nDR. ARCHANA VAZIFDAR\\n\\nM.D ( Pathology)\\nConsultant Hematopathologist\\nLaboratory Medicine\\n\\nM.D.,Fellowship Oncopath —\\nConsultant Surgical Pathologist\\nLaboratory Medicine\\n\\n‘siete sinner TAT\\n\\n\\n\\nme NN Nei\\n♀'"
      ]
     },
     "execution_count": 64,
     "metadata": {},
     "output_type": "execute_result"
    }
   ],
   "source": [
    "ocr_text"
   ]
  },
  {
   "cell_type": "code",
   "execution_count": 65,
   "id": "2b777f1e",
   "metadata": {},
   "outputs": [],
   "source": [
    "ocr_text2 = '\\n\\nmmohan Roy Road,\\nSamaj, Girgaon,\\nMumbai - 400004\\n1800221166\\n\\nyvww.rfhospital.org\\n\\n \\n\\n \\n\\nTy WY!\\n\\nCar 4\\nOr ri\\n\\n» Reliance\\n\\ne\\n\\nand Re\\n\\n=\\n\\n \\n\\n \\n\\n \\n\\n \\n\\nName - Himatbhai Hirabhai Umarania Age/Gender - 73y/M Collected : 24/08/2018 05:02\\nPatient ID: 0010137028 Visit Type :OP Received : 24/08/2018 05:02\\nReferred By : Dr. Hemal Shah Contact - 8080750123 Reported 24/08/2018 10:04\\nAccession : 1800073147\\nDEPARTMENT OF LABORATORY MEDICINE - HAEMATOLOGY\\n—@ est Name Result Units Biological Reference Range\\nComplete Blood Count\\nRed cell count 5.96 H x10412/L 4.5-5.5\\nEDTA Whole Blood\\nHaemoglobin 15.0 g/dL 13.0-17.0\\nEDTA Whole Blood)\\nHaematocrit 46.4 % 40.0-50.0\\nEDTA Whole Blood\\nMCV . 779 L fl 83-101\\nMCH 252 © pg 27 .0-32.0\\nEDTA Whole Biood\\nMCHC 32.0 g/dL 31.5-34.5\\nEDTA Whole Blood\\nRDW 18.8 H % 11.6-14.0\\nEDTA Whole Blood)\\n= a leukocyte count 13.96 H X 10°9N. 4-10\\nis OTA Whole Biloos Auiomated)\\nNeutrophils 132 fo 40-80\\n(EDTA Whole Blood)\\nLymphocytes 17 £ %o 20-40\\nEDTA Whole Blood)\\nMonocytes 8.3 %o 2-10\\nEDTA Whole Blood)\\nDR. SEENA GEORGE\\n\\nDR. ARCHANA VAZIFDAR\\n\\nM.D ( Pathology)\\nConsultant Hematopathologist\\nLaboratory Medicine\\n\\nM.D.,Fellowship Oncopath —\\nConsultant Surgical Pathologist\\nLaboratory Medicine\\n\\n‘siete sinner TAT\\n\\n  \\n\\nme NN Nei\\n\\x0c'"
   ]
  },
  {
   "cell_type": "code",
   "execution_count": 66,
   "id": "c3a7c0aa",
   "metadata": {},
   "outputs": [
    {
     "name": "stdout",
     "output_type": "stream",
     "text": [
      "Leukocyte count:  13.96\n",
      "Red Blood Cell count:  5.96\n",
      "Haemoglobin Count:  15.0\n",
      "Packed Cell Volume:  46.4\n",
      "Mean Cell Volume:  779.0\n",
      "Mean Corpuscular Hb Conc.:  32.0\n",
      "Red Cell Dist.:  18.8\n",
      "Platelet Count:  Not Available\n",
      "Mean Platelet Volume:  Not Available\n"
     ]
    }
   ],
   "source": [
    "extract(ocr_text2)"
   ]
  },
  {
   "cell_type": "code",
   "execution_count": 67,
   "id": "b21dd657",
   "metadata": {},
   "outputs": [
    {
     "name": "stdout",
     "output_type": "stream",
     "text": [
      "Requirement already satisfied: cryptography in e:\\programming\\anaconda\\lib\\site-packages (3.4.7)\n",
      "Requirement already satisfied: cffi>=1.12 in e:\\programming\\anaconda\\lib\\site-packages (from cryptography) (1.14.5)\n",
      "Requirement already satisfied: pycparser in e:\\programming\\anaconda\\lib\\site-packages (from cffi>=1.12->cryptography) (2.20)\n",
      "Note: you may need to restart the kernel to use updated packages.\n"
     ]
    }
   ],
   "source": [
    "pip install cryptography"
   ]
  },
  {
   "cell_type": "code",
   "execution_count": 68,
   "id": "34296777",
   "metadata": {},
   "outputs": [
    {
     "name": "stdout",
     "output_type": "stream",
     "text": [
      "original string:  hola\n",
      "encrypted string:  b'gAAAAABh5-ZiCKkthpoC7zL0ve8PZQ089YJAHHsr8HtH6iIGJrhK6pUGOW9zASs9WSSsm6X7hfPhrWb8IfJg8kTQNA2FkfXesQ=='\n",
      "decrypted string:  hola\n"
     ]
    }
   ],
   "source": [
    "from cryptography.fernet import Fernet\n",
    " \n",
    "# we will be encryting the below string.\n",
    "message = \"hola\"\n",
    " \n",
    "# generate a key for encryptio and decryption\n",
    "# You can use fernet to generate\n",
    "# the key or use random key generator\n",
    "# here I'm using fernet to generate key\n",
    " \n",
    "key = Fernet.generate_key()\n",
    " \n",
    "# Instance the Fernet class with the key\n",
    " \n",
    "fernet = Fernet(key)\n",
    " \n",
    "# then use the Fernet class instance\n",
    "# to encrypt the string string must must\n",
    "# be encoded to byte string before encryption\n",
    "encMessage = fernet.encrypt(message.encode())\n",
    " \n",
    "print(\"original string: \", message)\n",
    "print(\"encrypted string: \", encMessage)\n",
    " \n",
    "# decrypt the encrypted string with the\n",
    "# Fernet instance of the key,\n",
    "# that was used for encrypting the string\n",
    "# encoded byte string is returned by decrypt method,\n",
    "# so decode it to string with decode methods\n",
    "decMessage = fernet.decrypt(encMessage).decode()\n",
    " \n",
    "print(\"decrypted string: \", decMessage)"
   ]
  },
  {
   "cell_type": "code",
   "execution_count": 69,
   "id": "b42e3fd9",
   "metadata": {},
   "outputs": [
    {
     "name": "stdout",
     "output_type": "stream",
     "text": [
      "Requirement already satisfied: rsa in e:\\programming\\anaconda\\lib\\site-packages (4.7.2)\n",
      "Requirement already satisfied: pyasn1>=0.1.3 in e:\\programming\\anaconda\\lib\\site-packages (from rsa) (0.4.8)\n",
      "Note: you may need to restart the kernel to use updated packages.\n"
     ]
    }
   ],
   "source": [
    "pip install rsa"
   ]
  },
  {
   "cell_type": "code",
   "execution_count": 70,
   "id": "ae776fe6",
   "metadata": {},
   "outputs": [
    {
     "name": "stdout",
     "output_type": "stream",
     "text": [
      "<class 'Crypto.PublicKey.RSA.RsaKey'> <class 'Crypto.PublicKey.RSA.RsaKey'>\n"
     ]
    }
   ],
   "source": [
    "from Crypto.PublicKey import RSA\n",
    "private_key = RSA.generate(1024)\n",
    "public_key = private_key.publickey()\n",
    "print(type(private_key), type(public_key))"
   ]
  },
  {
   "cell_type": "code",
   "execution_count": null,
   "id": "bc8c90ba",
   "metadata": {},
   "outputs": [],
   "source": []
  }
 ],
 "metadata": {
  "kernelspec": {
   "display_name": "Python 3",
   "language": "python",
   "name": "python3"
  },
  "language_info": {
   "codemirror_mode": {
    "name": "ipython",
    "version": 3
   },
   "file_extension": ".py",
   "mimetype": "text/x-python",
   "name": "python",
   "nbconvert_exporter": "python",
   "pygments_lexer": "ipython3",
   "version": "3.8.8"
  }
 },
 "nbformat": 4,
 "nbformat_minor": 5
}
