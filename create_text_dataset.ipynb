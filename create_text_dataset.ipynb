{
 "cells": [
  {
   "cell_type": "code",
   "execution_count": 2,
   "id": "6ea54620",
   "metadata": {},
   "outputs": [],
   "source": [
    "import numpy as np\n",
    "import os\n",
    "import cv2\n",
    "from PIL import Image\n",
    "import pytesseract\n",
    "import matplotlib as plt\n",
    "from PIL import Image"
   ]
  },
  {
   "cell_type": "code",
   "execution_count": 13,
   "id": "b7f8fe4c",
   "metadata": {},
   "outputs": [],
   "source": [
    "DATADIR = \"data/OCR Dataset\"\n",
    "\n",
    "CATEGORIES = [\"Biochemistry\", \"Cbc\", \"Urine\", \"Other\"]"
   ]
  },
  {
   "cell_type": "code",
   "execution_count": 4,
   "id": "01c2f34e",
   "metadata": {},
   "outputs": [],
   "source": [
    "pytesseract.pytesseract.tesseract_cmd = r'C:\\Program Files\\Tesseract-OCR\\tesseract.exe'"
   ]
  },
  {
   "cell_type": "code",
   "execution_count": 35,
   "id": "08ed1961",
   "metadata": {},
   "outputs": [],
   "source": [
    "data = []\n",
    "\n",
    "def create_data():\n",
    "    for category in CATEGORIES:\n",
    "        path = os.path.join(DATADIR, category)\n",
    "        class_num = CATEGORIES.index(category)\n",
    "        for idx, img in enumerate(os.listdir(path)):\n",
    "            text = pytesseract.image_to_string(os.path.join(path,img))\n",
    "            f= open(\"data/text_dataset/{}/{}.txt\".format(category, idx),\"w+\", encoding='utf-8')\n",
    "            f.write(text)\n",
    "            f.close()\n",
    "            \n",
    "            "
   ]
  },
  {
   "cell_type": "code",
   "execution_count": 36,
   "id": "cf1d9a06",
   "metadata": {},
   "outputs": [],
   "source": [
    "create_data()"
   ]
  },
  {
   "cell_type": "code",
   "execution_count": 9,
   "id": "f751f5d3",
   "metadata": {},
   "outputs": [
    {
     "name": "stdout",
     "output_type": "stream",
     "text": [
      "2022_04_24 4_57 pm Office Lens (1).jpg\n",
      "IMG-20211108-WA0016.jpg\n",
      "IMG-20211108-WA0019.jpg\n",
      "IMG_20210920_175000.jpg\n",
      "IMG_20210920_175011.jpg\n",
      "IMG_20210920_175102.jpg\n",
      "IMG_20210920_175110.jpg\n",
      "IMG_20210920_175315.jpg\n",
      "IMG_20210920_180404.jpg\n",
      "IMG_20210920_180409.jpg\n",
      "IMG_20220415_134806.jpg\n",
      "IMG_20220415_134839.jpg\n",
      "IMG_20220415_134942.jpg\n",
      "IMG_20220415_135226.jpg\n",
      "IMG_20220415_135539.jpg\n",
      "IMG_20220415_140136.jpg\n",
      "IMG_20220415_140311.jpg\n",
      "IMG_20220415_141056.jpg\n",
      "IMG_20220415_141256.jpg\n",
      "IMG_20220415_141357.jpg\n",
      "IMG_20220415_141508.jpg\n",
      "IMG_20220415_141556.jpg\n",
      "IMG_20220415_141634.jpg\n",
      "IMG_20220415_141658.jpg\n",
      "IMG_20220415_141827.jpg\n",
      "IMG_20220415_141914.jpg\n",
      "IMG_20220415_142156.jpg\n",
      "IMG_20220415_142254.jpg\n",
      "IMG_20220415_142327.jpg\n",
      "IMG_20220415_142434.jpg\n",
      "IMG_20220415_142511.jpg\n",
      "IMG_20220415_142552.jpg\n",
      "IMG_20220415_142647.jpg\n",
      "IMG_20220415_142649.jpg\n",
      "IMG_20220415_142801.jpg\n",
      "IMG_20220415_143011.jpg\n",
      "IMG_20220415_143107.jpg\n",
      "IMG_20220415_143458.jpg\n",
      "IMG_20220424_170957.jpg\n",
      "IMG_20220424_171118.jpg\n",
      "IMG_20220424_171139.jpg\n",
      "IMG_20220424_171147.jpg\n",
      "IMG_20220424_171200.jpg\n",
      "IMG_20220424_171210.jpg\n",
      "IMG_20220424_171233.jpg\n",
      "IMG_20220424_171444.jpg\n",
      "IMG_20220424_171520.jpg\n",
      "IMG_20220424_171609.jpg\n"
     ]
    }
   ],
   "source": [
    "DATADIR = \"E:/Programming/Data Science/Jupyter/Home/KJ Somaiya/LY Proj/data/OCR Dataset/Cbc/\"\n",
    "i=0\n",
    "for idx, img in enumerate(os.listdir(DATADIR)):\n",
    "    print(img)\n",
    "    text = pytesseract.image_to_string(DATADIR+img)\n",
    "    f= open(\"data/Text_dataset/Cbc/new_cbc/uts{}.txt\".format(idx),\"w+\", encoding='utf-8')\n",
    "    f.write(text)\n",
    "    f.close()"
   ]
  },
  {
   "cell_type": "code",
   "execution_count": null,
   "id": "63143b5e",
   "metadata": {},
   "outputs": [],
   "source": []
  }
 ],
 "metadata": {
  "kernelspec": {
   "display_name": "Python 3",
   "language": "python",
   "name": "python3"
  },
  "language_info": {
   "codemirror_mode": {
    "name": "ipython",
    "version": 3
   },
   "file_extension": ".py",
   "mimetype": "text/x-python",
   "name": "python",
   "nbconvert_exporter": "python",
   "pygments_lexer": "ipython3",
   "version": "3.8.8"
  }
 },
 "nbformat": 4,
 "nbformat_minor": 5
}
