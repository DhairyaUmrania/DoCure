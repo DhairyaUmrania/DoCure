{
 "cells": [
  {
   "cell_type": "code",
   "execution_count": null,
   "id": "08fb9014",
   "metadata": {},
   "outputs": [],
   "source": [
    "from django.shortcuts import render\n",
    "from .forms import StudentRegistrationForm\n",
    "\n",
    "import environ\n",
    "env = environ.Env()\n",
    "environ.Env.read_env()\n",
    "from cryptography.fernet import Fernet\n",
    "from tempp import *\n",
    "from .models import Student\n",
    "\n",
    "\n",
    "key: bytes = bytes(env('KEY'),'ascii')\n",
    "print(key)\n",
    "print(type(key))\n",
    "def sign_up(request):\n",
    "    context = {}\n",
    "    form = StudentRegistrationForm(request.POST or None)\n",
    "    if request.method == \"POST\":\n",
    "        if form.is_valid():   \n",
    "            roll_no = form.cleaned_data.get('roll_no')\n",
    "\n",
    "            f = Fernet(key)\n",
    "            stringBytes = bytes(roll_no,'UTF-8')\n",
    "            token = f.encrypt(stringBytes)\n",
    "\n",
    "            s = Student(roll_no=token)\n",
    "            s.save()\n",
    "\n",
    "            return render(request,'accounts/index.html')        \n",
    "    context['form'] = form\n",
    "    return render(request,'registration/sign_up.html',{'form': form})\n",
    "\n",
    "\n",
    "def get(request):\n",
    "    objs = Student.objects.all()\n",
    "    print(objs)\n",
    "    f = Fernet(key)\n",
    "    for obj in objs:\n",
    "        obj.roll_no = obj.roll_no[2:]\n",
    "        obj.roll_no = obj.roll_no[:-1]\n",
    "        print(obj.roll_no)\n",
    "        obj.roll_no = f.decrypt(obj.roll_no).decode('UTF-8')\n",
    "    return render(request, 'accounts/get.html', {'students': objs})\n",
    "        \n",
    "\n",
    "def getForm(request):\n",
    "    return render(request,'accounts/getForm.html')"
   ]
  },
  {
   "cell_type": "code",
   "execution_count": 2,
   "id": "33a1d235",
   "metadata": {},
   "outputs": [],
   "source": [
    "from cryptography.fernet import Fernet\n"
   ]
  },
  {
   "cell_type": "code",
   "execution_count": 3,
   "id": "103087c2",
   "metadata": {},
   "outputs": [
    {
     "name": "stdout",
     "output_type": "stream",
     "text": [
      "b'nMkhkaca8wdcK9NDPKmNCFOggEp0OwfPOqLl3BhpyHI='\n",
      "<class 'bytes'>\n"
     ]
    }
   ],
   "source": [
    "key = Fernet.generate_key() \n",
    "print(key)\n",
    "print(type(key))\n"
   ]
  },
  {
   "cell_type": "code",
   "execution_count": 10,
   "id": "644d8c9d",
   "metadata": {},
   "outputs": [
    {
     "ename": "Error",
     "evalue": "Incorrect padding",
     "output_type": "error",
     "traceback": [
      "\u001b[1;31m---------------------------------------------------------------------------\u001b[0m",
      "\u001b[1;31mError\u001b[0m                                     Traceback (most recent call last)",
      "\u001b[1;32m<ipython-input-10-5066882048cf>\u001b[0m in \u001b[0;36m<module>\u001b[1;34m\u001b[0m\n\u001b[0;32m      1\u001b[0m \u001b[0mroll_no\u001b[0m \u001b[1;33m=\u001b[0m \u001b[1;36m63\u001b[0m\u001b[1;33m\u001b[0m\u001b[1;33m\u001b[0m\u001b[0m\n\u001b[0;32m      2\u001b[0m \u001b[1;33m\u001b[0m\u001b[0m\n\u001b[1;32m----> 3\u001b[1;33m \u001b[0mf\u001b[0m \u001b[1;33m=\u001b[0m \u001b[0mFernet\u001b[0m\u001b[1;33m(\u001b[0m\u001b[0mkey\u001b[0m\u001b[1;33m)\u001b[0m\u001b[1;33m\u001b[0m\u001b[1;33m\u001b[0m\u001b[0m\n\u001b[0m\u001b[0;32m      4\u001b[0m \u001b[0mstringBytes\u001b[0m \u001b[1;33m=\u001b[0m \u001b[0mbytes\u001b[0m\u001b[1;33m(\u001b[0m\u001b[0mroll_no\u001b[0m\u001b[1;33m,\u001b[0m\u001b[1;34m'UTF-8'\u001b[0m\u001b[1;33m)\u001b[0m\u001b[1;33m\u001b[0m\u001b[1;33m\u001b[0m\u001b[0m\n\u001b[0;32m      5\u001b[0m \u001b[0mtoken\u001b[0m \u001b[1;33m=\u001b[0m \u001b[0mf\u001b[0m\u001b[1;33m.\u001b[0m\u001b[0mencrypt\u001b[0m\u001b[1;33m(\u001b[0m\u001b[0mstringBytes\u001b[0m\u001b[1;33m)\u001b[0m\u001b[1;33m\u001b[0m\u001b[1;33m\u001b[0m\u001b[0m\n",
      "\u001b[1;32mE:\\Programming\\Anaconda\\lib\\site-packages\\cryptography\\fernet.py\u001b[0m in \u001b[0;36m__init__\u001b[1;34m(self, key, backend)\u001b[0m\n\u001b[0;32m     30\u001b[0m         \u001b[0mbackend\u001b[0m \u001b[1;33m=\u001b[0m \u001b[0m_get_backend\u001b[0m\u001b[1;33m(\u001b[0m\u001b[0mbackend\u001b[0m\u001b[1;33m)\u001b[0m\u001b[1;33m\u001b[0m\u001b[1;33m\u001b[0m\u001b[0m\n\u001b[0;32m     31\u001b[0m \u001b[1;33m\u001b[0m\u001b[0m\n\u001b[1;32m---> 32\u001b[1;33m         \u001b[0mkey\u001b[0m \u001b[1;33m=\u001b[0m \u001b[0mbase64\u001b[0m\u001b[1;33m.\u001b[0m\u001b[0murlsafe_b64decode\u001b[0m\u001b[1;33m(\u001b[0m\u001b[0mkey\u001b[0m\u001b[1;33m)\u001b[0m\u001b[1;33m\u001b[0m\u001b[1;33m\u001b[0m\u001b[0m\n\u001b[0m\u001b[0;32m     33\u001b[0m         \u001b[1;32mif\u001b[0m \u001b[0mlen\u001b[0m\u001b[1;33m(\u001b[0m\u001b[0mkey\u001b[0m\u001b[1;33m)\u001b[0m \u001b[1;33m!=\u001b[0m \u001b[1;36m32\u001b[0m\u001b[1;33m:\u001b[0m\u001b[1;33m\u001b[0m\u001b[1;33m\u001b[0m\u001b[0m\n\u001b[0;32m     34\u001b[0m             raise ValueError(\n",
      "\u001b[1;32mE:\\Programming\\Anaconda\\lib\\base64.py\u001b[0m in \u001b[0;36murlsafe_b64decode\u001b[1;34m(s)\u001b[0m\n\u001b[0;32m    131\u001b[0m     \u001b[0ms\u001b[0m \u001b[1;33m=\u001b[0m \u001b[0m_bytes_from_decode_data\u001b[0m\u001b[1;33m(\u001b[0m\u001b[0ms\u001b[0m\u001b[1;33m)\u001b[0m\u001b[1;33m\u001b[0m\u001b[1;33m\u001b[0m\u001b[0m\n\u001b[0;32m    132\u001b[0m     \u001b[0ms\u001b[0m \u001b[1;33m=\u001b[0m \u001b[0ms\u001b[0m\u001b[1;33m.\u001b[0m\u001b[0mtranslate\u001b[0m\u001b[1;33m(\u001b[0m\u001b[0m_urlsafe_decode_translation\u001b[0m\u001b[1;33m)\u001b[0m\u001b[1;33m\u001b[0m\u001b[1;33m\u001b[0m\u001b[0m\n\u001b[1;32m--> 133\u001b[1;33m     \u001b[1;32mreturn\u001b[0m \u001b[0mb64decode\u001b[0m\u001b[1;33m(\u001b[0m\u001b[0ms\u001b[0m\u001b[1;33m)\u001b[0m\u001b[1;33m\u001b[0m\u001b[1;33m\u001b[0m\u001b[0m\n\u001b[0m\u001b[0;32m    134\u001b[0m \u001b[1;33m\u001b[0m\u001b[0m\n\u001b[0;32m    135\u001b[0m \u001b[1;33m\u001b[0m\u001b[0m\n",
      "\u001b[1;32mE:\\Programming\\Anaconda\\lib\\base64.py\u001b[0m in \u001b[0;36mb64decode\u001b[1;34m(s, altchars, validate)\u001b[0m\n\u001b[0;32m     85\u001b[0m     \u001b[1;32mif\u001b[0m \u001b[0mvalidate\u001b[0m \u001b[1;32mand\u001b[0m \u001b[1;32mnot\u001b[0m \u001b[0mre\u001b[0m\u001b[1;33m.\u001b[0m\u001b[0mfullmatch\u001b[0m\u001b[1;33m(\u001b[0m\u001b[1;34mb'[A-Za-z0-9+/]*={0,2}'\u001b[0m\u001b[1;33m,\u001b[0m \u001b[0ms\u001b[0m\u001b[1;33m)\u001b[0m\u001b[1;33m:\u001b[0m\u001b[1;33m\u001b[0m\u001b[1;33m\u001b[0m\u001b[0m\n\u001b[0;32m     86\u001b[0m         \u001b[1;32mraise\u001b[0m \u001b[0mbinascii\u001b[0m\u001b[1;33m.\u001b[0m\u001b[0mError\u001b[0m\u001b[1;33m(\u001b[0m\u001b[1;34m'Non-base64 digit found'\u001b[0m\u001b[1;33m)\u001b[0m\u001b[1;33m\u001b[0m\u001b[1;33m\u001b[0m\u001b[0m\n\u001b[1;32m---> 87\u001b[1;33m     \u001b[1;32mreturn\u001b[0m \u001b[0mbinascii\u001b[0m\u001b[1;33m.\u001b[0m\u001b[0ma2b_base64\u001b[0m\u001b[1;33m(\u001b[0m\u001b[0ms\u001b[0m\u001b[1;33m)\u001b[0m\u001b[1;33m\u001b[0m\u001b[1;33m\u001b[0m\u001b[0m\n\u001b[0m\u001b[0;32m     88\u001b[0m \u001b[1;33m\u001b[0m\u001b[0m\n\u001b[0;32m     89\u001b[0m \u001b[1;33m\u001b[0m\u001b[0m\n",
      "\u001b[1;31mError\u001b[0m: Incorrect padding"
     ]
    }
   ],
   "source": [
    "\n",
    "roll_no = 63\n",
    "\n",
    "f = Fernet(key)\n",
    "stringBytes = bytes(roll_no,'UTF-8')\n",
    "token = f.encrypt(stringBytes)\n"
   ]
  },
  {
   "cell_type": "code",
   "execution_count": 3,
   "id": "d94146a2",
   "metadata": {},
   "outputs": [
    {
     "name": "stdout",
     "output_type": "stream",
     "text": [
      "6.3\n",
      "<class 'bytes'>\n",
      "6.3\n"
     ]
    }
   ],
   "source": [
    "# Fernet module is imported from the \n",
    "# cryptography package\n",
    "from cryptography.fernet import Fernet\n",
    "\n",
    "\n",
    "# key is generated\n",
    "key = Fernet.generate_key()  \n",
    "# value of key is assigned to a variable\n",
    "f = Fernet(key)\n",
    "  \n",
    "# the plaintext is converted to ciphertext\n",
    "v = 6.3\n",
    "print(v)\n",
    "stringBytes = bytes(str(v),'UTF-8')\n",
    "token = f.encrypt(stringBytes)\n",
    "  \n",
    "# display the ciphertext\n",
    "print(type(token))\n",
    "  \n",
    "# decrypting the ciphertext\n",
    "d = f.decrypt(token)\n",
    "  \n",
    "# display the plaintext\n",
    "print(float(d))\n",
    "# import struct\n",
    "# struct.pack('f', d)"
   ]
  },
  {
   "cell_type": "code",
   "execution_count": 30,
   "id": "89f94ee0",
   "metadata": {},
   "outputs": [
    {
     "data": {
      "text/plain": [
       "3.1415927410125732"
      ]
     },
     "execution_count": 30,
     "metadata": {},
     "output_type": "execute_result"
    }
   ],
   "source": [
    "[x] = struct.unpack('f', b'\\xdb\\x0fI@')\n",
    "x"
   ]
  },
  {
   "cell_type": "code",
   "execution_count": null,
   "id": "03b42899",
   "metadata": {},
   "outputs": [],
   "source": []
  }
 ],
 "metadata": {
  "kernelspec": {
   "display_name": "Python 3 (ipykernel)",
   "language": "python",
   "name": "python3"
  },
  "language_info": {
   "codemirror_mode": {
    "name": "ipython",
    "version": 3
   },
   "file_extension": ".py",
   "mimetype": "text/x-python",
   "name": "python",
   "nbconvert_exporter": "python",
   "pygments_lexer": "ipython3",
   "version": "3.12.6"
  }
 },
 "nbformat": 4,
 "nbformat_minor": 5
}
