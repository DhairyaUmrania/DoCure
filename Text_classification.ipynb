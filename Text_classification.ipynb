{
 "cells": [
  {
   "cell_type": "code",
   "execution_count": 2,
   "id": "441d6a84",
   "metadata": {},
   "outputs": [],
   "source": [
    "import cv2\n",
    "import os"
   ]
  },
  {
   "cell_type": "code",
   "execution_count": 3,
   "id": "3aa0d27b",
   "metadata": {},
   "outputs": [
    {
     "name": "stdout",
     "output_type": "stream",
     "text": [
      "Collecting classy-classification\n",
      "  Downloading classy_classification-0.4.1-py3-none-any.whl (13 kB)\n",
      "Collecting sentence-transformers<3.0,>=2.0\n",
      "  Downloading sentence-transformers-2.2.0.tar.gz (79 kB)\n",
      "     -------------------------------------- 79.7/79.7 KB 201.8 kB/s eta 0:00:00\n",
      "  Preparing metadata (setup.py): started\n",
      "  Preparing metadata (setup.py): finished with status 'done'\n",
      "Requirement already satisfied: spacy[transformers]<4.0,>=3.0 in e:\\programming\\anaconda\\lib\\site-packages (from classy-classification) (3.2.3)\n",
      "Collecting scikit-learn<2.0,>=1.0\n",
      "  Downloading scikit_learn-1.0.2-cp38-cp38-win_amd64.whl (7.2 MB)\n",
      "     ---------------------------------------- 7.2/7.2 MB 3.9 MB/s eta 0:00:00\n",
      "Requirement already satisfied: numpy>=1.14.6 in e:\\programming\\anaconda\\lib\\site-packages (from scikit-learn<2.0,>=1.0->classy-classification) (1.22.3)\n",
      "Requirement already satisfied: joblib>=0.11 in e:\\programming\\anaconda\\lib\\site-packages (from scikit-learn<2.0,>=1.0->classy-classification) (1.0.1)\n",
      "Requirement already satisfied: scipy>=1.1.0 in e:\\programming\\anaconda\\lib\\site-packages (from scikit-learn<2.0,>=1.0->classy-classification) (1.6.2)\n",
      "Requirement already satisfied: threadpoolctl>=2.0.0 in e:\\programming\\anaconda\\lib\\site-packages (from scikit-learn<2.0,>=1.0->classy-classification) (2.1.0)\n",
      "Collecting transformers<5.0.0,>=4.6.0\n",
      "  Downloading transformers-4.18.0-py3-none-any.whl (4.0 MB)\n",
      "     ---------------------------------------- 4.0/4.0 MB 959.2 kB/s eta 0:00:00\n",
      "Requirement already satisfied: tqdm in e:\\programming\\anaconda\\lib\\site-packages (from sentence-transformers<3.0,>=2.0->classy-classification) (4.59.0)\n",
      "Requirement already satisfied: torch>=1.6.0 in e:\\programming\\anaconda\\lib\\site-packages (from sentence-transformers<3.0,>=2.0->classy-classification) (1.10.2)\n",
      "Requirement already satisfied: torchvision in e:\\programming\\anaconda\\lib\\site-packages (from sentence-transformers<3.0,>=2.0->classy-classification) (0.11.3)\n",
      "Requirement already satisfied: nltk in e:\\programming\\anaconda\\lib\\site-packages (from sentence-transformers<3.0,>=2.0->classy-classification) (3.6.1)\n",
      "Collecting sentencepiece\n",
      "  Downloading sentencepiece-0.1.96-cp38-cp38-win_amd64.whl (1.1 MB)\n",
      "     ---------------------------------------- 1.1/1.1 MB 9.9 MB/s eta 0:00:00\n",
      "Collecting huggingface-hub\n",
      "  Downloading huggingface_hub-0.5.1-py3-none-any.whl (77 kB)\n",
      "     ---------------------------------------- 77.9/77.9 KB 4.2 MB/s eta 0:00:00\n",
      "Requirement already satisfied: preshed<3.1.0,>=3.0.2 in e:\\programming\\anaconda\\lib\\site-packages (from spacy[transformers]<4.0,>=3.0->classy-classification) (3.0.6)\n",
      "Requirement already satisfied: typer<0.5.0,>=0.3.0 in e:\\programming\\anaconda\\lib\\site-packages (from spacy[transformers]<4.0,>=3.0->classy-classification) (0.4.0)\n",
      "Requirement already satisfied: requests<3.0.0,>=2.13.0 in e:\\programming\\anaconda\\lib\\site-packages (from spacy[transformers]<4.0,>=3.0->classy-classification) (2.25.1)\n",
      "Requirement already satisfied: wasabi<1.1.0,>=0.8.1 in e:\\programming\\anaconda\\lib\\site-packages (from spacy[transformers]<4.0,>=3.0->classy-classification) (0.9.0)\n",
      "Requirement already satisfied: pydantic!=1.8,!=1.8.1,<1.9.0,>=1.7.4 in e:\\programming\\anaconda\\lib\\site-packages (from spacy[transformers]<4.0,>=3.0->classy-classification) (1.8.2)\n",
      "Requirement already satisfied: jinja2 in e:\\programming\\anaconda\\lib\\site-packages (from spacy[transformers]<4.0,>=3.0->classy-classification) (2.11.3)\n",
      "Requirement already satisfied: cymem<2.1.0,>=2.0.2 in e:\\programming\\anaconda\\lib\\site-packages (from spacy[transformers]<4.0,>=3.0->classy-classification) (2.0.6)\n",
      "Requirement already satisfied: pathy>=0.3.5 in e:\\programming\\anaconda\\lib\\site-packages (from spacy[transformers]<4.0,>=3.0->classy-classification) (0.6.1)\n",
      "Requirement already satisfied: blis<0.8.0,>=0.4.0 in e:\\programming\\anaconda\\lib\\site-packages (from spacy[transformers]<4.0,>=3.0->classy-classification) (0.7.6)\n",
      "Requirement already satisfied: spacy-legacy<3.1.0,>=3.0.8 in e:\\programming\\anaconda\\lib\\site-packages (from spacy[transformers]<4.0,>=3.0->classy-classification) (3.0.9)\n",
      "Requirement already satisfied: thinc<8.1.0,>=8.0.12 in e:\\programming\\anaconda\\lib\\site-packages (from spacy[transformers]<4.0,>=3.0->classy-classification) (8.0.14)\n",
      "Requirement already satisfied: packaging>=20.0 in e:\\programming\\anaconda\\lib\\site-packages (from spacy[transformers]<4.0,>=3.0->classy-classification) (20.9)\n",
      "Requirement already satisfied: langcodes<4.0.0,>=3.2.0 in e:\\programming\\anaconda\\lib\\site-packages (from spacy[transformers]<4.0,>=3.0->classy-classification) (3.3.0)\n",
      "Requirement already satisfied: murmurhash<1.1.0,>=0.28.0 in e:\\programming\\anaconda\\lib\\site-packages (from spacy[transformers]<4.0,>=3.0->classy-classification) (1.0.6)\n",
      "Requirement already satisfied: setuptools in e:\\programming\\anaconda\\lib\\site-packages (from spacy[transformers]<4.0,>=3.0->classy-classification) (61.2.0)\n",
      "Requirement already satisfied: catalogue<2.1.0,>=2.0.6 in e:\\programming\\anaconda\\lib\\site-packages (from spacy[transformers]<4.0,>=3.0->classy-classification) (2.0.6)\n",
      "Requirement already satisfied: srsly<3.0.0,>=2.4.1 in e:\\programming\\anaconda\\lib\\site-packages (from spacy[transformers]<4.0,>=3.0->classy-classification) (2.4.2)\n",
      "Requirement already satisfied: spacy-loggers<2.0.0,>=1.0.0 in e:\\programming\\anaconda\\lib\\site-packages (from spacy[transformers]<4.0,>=3.0->classy-classification) (1.0.1)\n",
      "Collecting spacy-transformers<1.2.0,>=1.1.2\n",
      "  Downloading spacy_transformers-1.1.5-py2.py3-none-any.whl (51 kB)\n",
      "     -------------------------------------- 51.4/51.4 KB 291.6 kB/s eta 0:00:00\n",
      "Requirement already satisfied: pyparsing>=2.0.2 in e:\\programming\\anaconda\\lib\\site-packages (from packaging>=20.0->spacy[transformers]<4.0,>=3.0->classy-classification) (2.4.7)\n",
      "Requirement already satisfied: smart-open<6.0.0,>=5.0.0 in e:\\programming\\anaconda\\lib\\site-packages (from pathy>=0.3.5->spacy[transformers]<4.0,>=3.0->classy-classification) (5.2.1)\n",
      "Requirement already satisfied: typing-extensions>=3.7.4.3 in e:\\programming\\anaconda\\lib\\site-packages (from pydantic!=1.8,!=1.8.1,<1.9.0,>=1.7.4->spacy[transformers]<4.0,>=3.0->classy-classification) (3.7.4.3)\n",
      "Requirement already satisfied: certifi>=2017.4.17 in e:\\programming\\anaconda\\lib\\site-packages (from requests<3.0.0,>=2.13.0->spacy[transformers]<4.0,>=3.0->classy-classification) (2020.12.5)\n",
      "Requirement already satisfied: chardet<5,>=3.0.2 in e:\\programming\\anaconda\\lib\\site-packages (from requests<3.0.0,>=2.13.0->spacy[transformers]<4.0,>=3.0->classy-classification) (4.0.0)\n",
      "Requirement already satisfied: urllib3<1.27,>=1.21.1 in e:\\programming\\anaconda\\lib\\site-packages (from requests<3.0.0,>=2.13.0->spacy[transformers]<4.0,>=3.0->classy-classification) (1.26.4)\n",
      "Requirement already satisfied: idna<3,>=2.5 in e:\\programming\\anaconda\\lib\\site-packages (from requests<3.0.0,>=2.13.0->spacy[transformers]<4.0,>=3.0->classy-classification) (2.10)\n",
      "Collecting transformers<5.0.0,>=4.6.0\n",
      "  Downloading transformers-4.17.0-py3-none-any.whl (3.8 MB)\n",
      "     ---------------------------------------- 3.8/3.8 MB 6.3 MB/s eta 0:00:00\n",
      "Collecting spacy-alignments<1.0.0,>=0.7.2\n",
      "  Downloading spacy_alignments-0.8.5-cp38-cp38-win_amd64.whl (187 kB)\n",
      "     -------------------------------------- 187.4/187.4 KB 5.7 MB/s eta 0:00:00\n",
      "Requirement already satisfied: regex!=2019.12.17 in e:\\programming\\anaconda\\lib\\site-packages (from transformers<5.0.0,>=4.6.0->sentence-transformers<3.0,>=2.0->classy-classification) (2021.4.4)\n",
      "Collecting tokenizers!=0.11.3,>=0.11.1\n",
      "  Downloading tokenizers-0.12.1-cp38-cp38-win_amd64.whl (3.3 MB)\n",
      "     ---------------------------------------- 3.3/3.3 MB 14.0 MB/s eta 0:00:00\n",
      "Requirement already satisfied: pyyaml>=5.1 in e:\\programming\\anaconda\\lib\\site-packages (from transformers<5.0.0,>=4.6.0->sentence-transformers<3.0,>=2.0->classy-classification) (5.4.1)\n",
      "Requirement already satisfied: filelock in e:\\programming\\anaconda\\lib\\site-packages (from transformers<5.0.0,>=4.6.0->sentence-transformers<3.0,>=2.0->classy-classification) (3.0.12)\n",
      "Collecting sacremoses\n",
      "  Downloading sacremoses-0.0.49-py3-none-any.whl (895 kB)\n",
      "     -------------------------------------- 895.2/895.2 KB 9.4 MB/s eta 0:00:00\n",
      "Requirement already satisfied: click<9.0.0,>=7.1.1 in e:\\programming\\anaconda\\lib\\site-packages (from typer<0.5.0,>=0.3.0->spacy[transformers]<4.0,>=3.0->classy-classification) (7.1.2)\n",
      "Requirement already satisfied: MarkupSafe>=0.23 in e:\\programming\\anaconda\\lib\\site-packages (from jinja2->spacy[transformers]<4.0,>=3.0->classy-classification) (1.1.1)\n",
      "Requirement already satisfied: pillow!=8.3.0,>=5.3.0 in e:\\programming\\anaconda\\lib\\site-packages (from torchvision->sentence-transformers<3.0,>=2.0->classy-classification) (8.2.0)\n",
      "Requirement already satisfied: six in e:\\programming\\anaconda\\lib\\site-packages (from sacremoses->transformers<5.0.0,>=4.6.0->sentence-transformers<3.0,>=2.0->classy-classification) (1.15.0)\n",
      "Building wheels for collected packages: sentence-transformers\n",
      "  Building wheel for sentence-transformers (setup.py): started\n",
      "  Building wheel for sentence-transformers (setup.py): finished with status 'done'\n",
      "  Created wheel for sentence-transformers: filename=sentence_transformers-2.2.0-py3-none-any.whl size=120751 sha256=d71590cd2df015a46b7e8582b3694c3a04aa2ac348409ae3b8e63e900d2a9519\n",
      "  Stored in directory: c:\\users\\admin\\appdata\\local\\pip\\cache\\wheels\\0c\\b6\\fb\\2289a932c365293ad865fc1fe9d2db694d5584241c6d670874\n",
      "Successfully built sentence-transformers\n",
      "Installing collected packages: tokenizers, sentencepiece, spacy-alignments, sacremoses, scikit-learn, huggingface-hub, transformers, spacy-transformers, sentence-transformers, classy-classification\n",
      "  Attempting uninstall: scikit-learn\n",
      "    Found existing installation: scikit-learn 0.24.1\n",
      "    Uninstalling scikit-learn-0.24.1:\n",
      "      Successfully uninstalled scikit-learn-0.24.1\n",
      "Successfully installed classy-classification-0.4.1 huggingface-hub-0.5.1 sacremoses-0.0.49 scikit-learn-1.0.2 sentence-transformers-2.2.0 sentencepiece-0.1.96 spacy-alignments-0.8.5 spacy-transformers-1.1.5 tokenizers-0.12.1 transformers-4.17.0\n"
     ]
    }
   ],
   "source": [
    "!pip install classy-classification"
   ]
  },
  {
   "cell_type": "code",
   "execution_count": 3,
   "id": "010586a4",
   "metadata": {},
   "outputs": [],
   "source": [
    "import spacy\n",
    "import classy_classification"
   ]
  },
  {
   "cell_type": "code",
   "execution_count": 5,
   "id": "f26e827c",
   "metadata": {},
   "outputs": [
    {
     "name": "stdout",
     "output_type": "stream",
     "text": [
      "Collecting en-core-web-md==3.2.0"
     ]
    },
    {
     "name": "stderr",
     "output_type": "stream",
     "text": [
      "2022-04-16 12:52:29.163259: W tensorflow/stream_executor/platform/default/dso_loader.cc:64] Could not load dynamic library 'cudart64_110.dll'; dlerror: cudart64_110.dll not found\n",
      "2022-04-16 12:52:29.163287: I tensorflow/stream_executor/cuda/cudart_stub.cc:29] Ignore above cudart dlerror if you do not have a GPU set up on your machine.\n"
     ]
    },
    {
     "name": "stdout",
     "output_type": "stream",
     "text": [
      "\n",
      "  Downloading https://github.com/explosion/spacy-models/releases/download/en_core_web_md-3.2.0/en_core_web_md-3.2.0-py3-none-any.whl (45.7 MB)\n",
      "     ---------------------------------------- 45.7/45.7 MB 4.8 MB/s eta 0:00:00\n",
      "Requirement already satisfied: spacy<3.3.0,>=3.2.0 in e:\\programming\\anaconda\\lib\\site-packages (from en-core-web-md==3.2.0) (3.2.3)\n",
      "Requirement already satisfied: jinja2 in e:\\programming\\anaconda\\lib\\site-packages (from spacy<3.3.0,>=3.2.0->en-core-web-md==3.2.0) (2.11.3)\n",
      "Requirement already satisfied: blis<0.8.0,>=0.4.0 in e:\\programming\\anaconda\\lib\\site-packages (from spacy<3.3.0,>=3.2.0->en-core-web-md==3.2.0) (0.7.6)\n",
      "Requirement already satisfied: numpy>=1.15.0 in e:\\programming\\anaconda\\lib\\site-packages (from spacy<3.3.0,>=3.2.0->en-core-web-md==3.2.0) (1.22.3)\n",
      "Requirement already satisfied: tqdm<5.0.0,>=4.38.0 in e:\\programming\\anaconda\\lib\\site-packages (from spacy<3.3.0,>=3.2.0->en-core-web-md==3.2.0) (4.59.0)\n",
      "Requirement already satisfied: thinc<8.1.0,>=8.0.12 in e:\\programming\\anaconda\\lib\\site-packages (from spacy<3.3.0,>=3.2.0->en-core-web-md==3.2.0) (8.0.14)\n",
      "Requirement already satisfied: murmurhash<1.1.0,>=0.28.0 in e:\\programming\\anaconda\\lib\\site-packages (from spacy<3.3.0,>=3.2.0->en-core-web-md==3.2.0) (1.0.6)\n",
      "Requirement already satisfied: pathy>=0.3.5 in e:\\programming\\anaconda\\lib\\site-packages (from spacy<3.3.0,>=3.2.0->en-core-web-md==3.2.0) (0.6.1)\n",
      "Requirement already satisfied: preshed<3.1.0,>=3.0.2 in e:\\programming\\anaconda\\lib\\site-packages (from spacy<3.3.0,>=3.2.0->en-core-web-md==3.2.0) (3.0.6)\n",
      "Requirement already satisfied: setuptools in e:\\programming\\anaconda\\lib\\site-packages (from spacy<3.3.0,>=3.2.0->en-core-web-md==3.2.0) (61.2.0)\n",
      "Requirement already satisfied: spacy-legacy<3.1.0,>=3.0.8 in e:\\programming\\anaconda\\lib\\site-packages (from spacy<3.3.0,>=3.2.0->en-core-web-md==3.2.0) (3.0.9)\n",
      "Requirement already satisfied: spacy-loggers<2.0.0,>=1.0.0 in e:\\programming\\anaconda\\lib\\site-packages (from spacy<3.3.0,>=3.2.0->en-core-web-md==3.2.0) (1.0.1)\n",
      "Requirement already satisfied: cymem<2.1.0,>=2.0.2 in e:\\programming\\anaconda\\lib\\site-packages (from spacy<3.3.0,>=3.2.0->en-core-web-md==3.2.0) (2.0.6)\n",
      "Requirement already satisfied: wasabi<1.1.0,>=0.8.1 in e:\\programming\\anaconda\\lib\\site-packages (from spacy<3.3.0,>=3.2.0->en-core-web-md==3.2.0) (0.9.0)\n",
      "Requirement already satisfied: catalogue<2.1.0,>=2.0.6 in e:\\programming\\anaconda\\lib\\site-packages (from spacy<3.3.0,>=3.2.0->en-core-web-md==3.2.0) (2.0.6)\n",
      "Requirement already satisfied: pydantic!=1.8,!=1.8.1,<1.9.0,>=1.7.4 in e:\\programming\\anaconda\\lib\\site-packages (from spacy<3.3.0,>=3.2.0->en-core-web-md==3.2.0) (1.8.2)\n",
      "Requirement already satisfied: requests<3.0.0,>=2.13.0 in e:\\programming\\anaconda\\lib\\site-packages (from spacy<3.3.0,>=3.2.0->en-core-web-md==3.2.0) (2.25.1)\n",
      "Requirement already satisfied: langcodes<4.0.0,>=3.2.0 in e:\\programming\\anaconda\\lib\\site-packages (from spacy<3.3.0,>=3.2.0->en-core-web-md==3.2.0) (3.3.0)\n",
      "Requirement already satisfied: srsly<3.0.0,>=2.4.1 in e:\\programming\\anaconda\\lib\\site-packages (from spacy<3.3.0,>=3.2.0->en-core-web-md==3.2.0) (2.4.2)\n",
      "Requirement already satisfied: packaging>=20.0 in e:\\programming\\anaconda\\lib\\site-packages (from spacy<3.3.0,>=3.2.0->en-core-web-md==3.2.0) (20.9)\n",
      "Requirement already satisfied: typer<0.5.0,>=0.3.0 in e:\\programming\\anaconda\\lib\\site-packages (from spacy<3.3.0,>=3.2.0->en-core-web-md==3.2.0) (0.4.0)\n",
      "Requirement already satisfied: pyparsing>=2.0.2 in e:\\programming\\anaconda\\lib\\site-packages (from packaging>=20.0->spacy<3.3.0,>=3.2.0->en-core-web-md==3.2.0) (2.4.7)\n",
      "Requirement already satisfied: smart-open<6.0.0,>=5.0.0 in e:\\programming\\anaconda\\lib\\site-packages (from pathy>=0.3.5->spacy<3.3.0,>=3.2.0->en-core-web-md==3.2.0) (5.2.1)\n",
      "Requirement already satisfied: typing-extensions>=3.7.4.3 in e:\\programming\\anaconda\\lib\\site-packages (from pydantic!=1.8,!=1.8.1,<1.9.0,>=1.7.4->spacy<3.3.0,>=3.2.0->en-core-web-md==3.2.0) (3.7.4.3)\n",
      "Requirement already satisfied: idna<3,>=2.5 in e:\\programming\\anaconda\\lib\\site-packages (from requests<3.0.0,>=2.13.0->spacy<3.3.0,>=3.2.0->en-core-web-md==3.2.0) (2.10)\n",
      "Requirement already satisfied: certifi>=2017.4.17 in e:\\programming\\anaconda\\lib\\site-packages (from requests<3.0.0,>=2.13.0->spacy<3.3.0,>=3.2.0->en-core-web-md==3.2.0) (2020.12.5)\n",
      "Requirement already satisfied: urllib3<1.27,>=1.21.1 in e:\\programming\\anaconda\\lib\\site-packages (from requests<3.0.0,>=2.13.0->spacy<3.3.0,>=3.2.0->en-core-web-md==3.2.0) (1.26.4)\n",
      "Requirement already satisfied: chardet<5,>=3.0.2 in e:\\programming\\anaconda\\lib\\site-packages (from requests<3.0.0,>=2.13.0->spacy<3.3.0,>=3.2.0->en-core-web-md==3.2.0) (4.0.0)\n",
      "Requirement already satisfied: click<9.0.0,>=7.1.1 in e:\\programming\\anaconda\\lib\\site-packages (from typer<0.5.0,>=0.3.0->spacy<3.3.0,>=3.2.0->en-core-web-md==3.2.0) (7.1.2)\n",
      "Requirement already satisfied: MarkupSafe>=0.23 in e:\\programming\\anaconda\\lib\\site-packages (from jinja2->spacy<3.3.0,>=3.2.0->en-core-web-md==3.2.0) (1.1.1)\n",
      "Installing collected packages: en-core-web-md\n",
      "Successfully installed en-core-web-md-3.2.0\n",
      "[+] Download and installation successful\n",
      "You can now load the package via spacy.load('en_core_web_md')\n"
     ]
    }
   ],
   "source": [
    "!python -m spacy download en_core_web_md"
   ]
  },
  {
   "cell_type": "code",
   "execution_count": 4,
   "id": "d4774d14",
   "metadata": {},
   "outputs": [],
   "source": [
    "DATADIR = \"data/Text_dataset\"\n",
    "\n",
    "CATEGORIES = [\"Biochemistry\", \"Cbc\", \"Urine\", \"Other\"]"
   ]
  },
  {
   "cell_type": "code",
   "execution_count": 5,
   "id": "fb66ea21",
   "metadata": {},
   "outputs": [],
   "source": [
    "f = open(\"data/Text_dataset/Cbc/0.txt\", \"r\")\n",
    "txt0 = f.read()"
   ]
  },
  {
   "cell_type": "code",
   "execution_count": 6,
   "id": "bc1532f3",
   "metadata": {},
   "outputs": [
    {
     "name": "stdout",
     "output_type": "stream",
     "text": [
      "2nnce COMPUTRISED\n",
      "CLINICAL LABORATORY\n",
      "\n",
      "Pationt Name : MR. SANJAY RAMCHANDRA AVHAD\n",
      "\n",
      "Referral : Dhadiwal Hospital\n",
      "Report Date : 19 Oct, 2021, 09:36 a.m.\n",
      "\n",
      "â€˜Sample Date : 19 Oct, 2021, 08:55 a.m,\n",
      "\n",
      "CLINICAL LABORATORY REPORT \"\n",
      "\n",
      "â€˜Age : 48 years (Male)\n",
      "Reg. ID :1- 15409\n",
      "\n",
      "Seno OMNIA\n",
      "\n",
      "Complete Blood Count (CBC}\n",
      "\n",
      "Test Description Value(s) Reference Range\n",
      "Haemoglobin 11.5 gmidt 4-16\n",
      "Total WBC Count 6200 /emm 4000 - 14000\n",
      "DIFFERENTIAL COUNT\n",
      "Neutrophil 75% 40-70\n",
      "Lymphocytes 18% 20-40\n",
      "Eosinophil 1% 01-04\n",
      "\n",
      "â€” Monocytes 06 % 02-08\n",
      "Basophils 00\n",
      "RBC Indices\n",
      "Haematocrit (HCT) 34.5% 40-54\n",
      "RBC Count 3.34 miliemm 35-55\n",
      "Mcv 103.29 fL 80 - 100\n",
      "MCH 34.43 pg 27-32\n",
      "MCHC 33.33 gid 32-36\n",
      "ROW-cv 15.5% 115-145\n",
      "Platelet indices\n",
      "Platelet Count 83000 /cmm. 150000 - 450000\n",
      "MPV 750 74-104\n",
      "PDW 17.8 fL 15.0-17.0\n",
      "PCT 0.06 % 0.100 - 0.282\n",
      "\n",
      "â€˜one on fully Automatic Nihon Kohden MEK-6420P Haematology Analyser\n",
      "\n",
      "This is computer generated authentic document not requiring physical signature\n",
      "\n",
      "CONDITIONS OF REPORTING\n",
      "1 re not Medhcal Dia\n",
      "\n",
      "Mrs. Namrata D. Deore (Aher)\n",
      "B.Sc. D.M.L.T (Pune)\n",
      "\n",
      "â€œEND OF REPORTâ„¢*\n",
      "\n",
      "Verified by\n",
      "\n",
      "DHADIWAL HOSPITAL\n",
      "SHREEJI HEALTH CARE\n",
      "\n",
      "Opp. Thakkar Bazar Trimbak\n",
      "\n",
      "f *\n",
      "ie\n",
      "\n",
      "Dr. S.R.Shinde\n",
      "MBBS,DCP.\n",
      "\n",
      "Reg NO.40660\n",
      "Consulting Pathologist\n",
      "\n",
      "Road,Nashik.\n",
      "\n",
      "\n"
     ]
    }
   ],
   "source": [
    "print(txt0)"
   ]
  },
  {
   "cell_type": "code",
   "execution_count": 7,
   "id": "78e21402",
   "metadata": {},
   "outputs": [],
   "source": [
    "f = open(\"data/Text_dataset/Cbc/1.txt\", \"r\")\n",
    "txt1 = f.read()"
   ]
  },
  {
   "cell_type": "code",
   "execution_count": 8,
   "id": "a5c0e2f6",
   "metadata": {},
   "outputs": [],
   "source": [
    "f = open(\"data/Text_dataset/Cbc/2.txt\", \"r\")\n",
    "txt2 = f.read()"
   ]
  },
  {
   "cell_type": "code",
   "execution_count": 9,
   "id": "8e6279a4",
   "metadata": {},
   "outputs": [],
   "source": [
    "Cbc = [txt0, txt1, txt2]"
   ]
  },
  {
   "cell_type": "code",
   "execution_count": 10,
   "id": "2e75df73",
   "metadata": {},
   "outputs": [],
   "source": [
    "data = {\n",
    "    \"Cbc\": Cbc\n",
    "}"
   ]
  },
  {
   "cell_type": "code",
   "execution_count": 11,
   "id": "7f27f945",
   "metadata": {},
   "outputs": [],
   "source": [
    "f = open(\"data/Text_dataset/Biochemistry/0.txt\", \"r\", encoding=\"utf-8\")\n",
    "txt0 = f.read()"
   ]
  },
  {
   "cell_type": "code",
   "execution_count": 12,
   "id": "9b9af4a4",
   "metadata": {},
   "outputs": [],
   "source": [
    "f = open(\"data/Text_dataset/Biochemistry/34.txt\", \"r\", encoding=\"utf-8\")\n",
    "txt1 = f.read()"
   ]
  },
  {
   "cell_type": "code",
   "execution_count": 13,
   "id": "d4919572",
   "metadata": {},
   "outputs": [],
   "source": [
    "f = open(\"data/Text_dataset/Biochemistry/42.txt\", \"r\", encoding=\"utf-8\")\n",
    "txt2 = f.read()"
   ]
  },
  {
   "cell_type": "code",
   "execution_count": 14,
   "id": "bfe697cd",
   "metadata": {},
   "outputs": [],
   "source": [
    "Biochemistry = [txt0, txt1, txt2]"
   ]
  },
  {
   "cell_type": "code",
   "execution_count": 15,
   "id": "654df6f8",
   "metadata": {},
   "outputs": [],
   "source": [
    "data[\"Biochemistry\"] = Biochemistry"
   ]
  },
  {
   "cell_type": "code",
   "execution_count": 16,
   "id": "60cf13a0",
   "metadata": {},
   "outputs": [
    {
     "name": "stdout",
     "output_type": "stream",
     "text": [
      "Fitting 2 folds for each of 6 candidates, totalling 12 fits\n"
     ]
    },
    {
     "data": {
      "text/plain": [
       "<classy_classification.classifiers.spacy_few_shot_external.classySpacyFewShotExternal at 0x2617b1093d0>"
      ]
     },
     "execution_count": 16,
     "metadata": {},
     "output_type": "execute_result"
    }
   ],
   "source": [
    "nlp = spacy.blank(\"en\")\n",
    "nlp.add_pipe(\n",
    "    \"text_categorizer\", \n",
    "    config={\n",
    "        \"data\": data, \n",
    "        \"model\": \"sentence-transformers/paraphrase-multilingual-MiniLM-L12-v2\",\n",
    "        \"device\": \"gpu\"\n",
    "    }\n",
    ") "
   ]
  },
  {
   "cell_type": "code",
   "execution_count": 17,
   "id": "5a23adef",
   "metadata": {},
   "outputs": [],
   "source": [
    "f = open(\"data/Text_dataset/Biochemistry/35.txt\", \"r\", encoding=\"utf-8\")\n",
    "tst0 = f.read()"
   ]
  },
  {
   "cell_type": "code",
   "execution_count": 18,
   "id": "c072d112",
   "metadata": {},
   "outputs": [
    {
     "name": "stdout",
     "output_type": "stream",
     "text": [
      "{'Biochemistry': 0.5986537464720049, 'Cbc': 0.4013462535279951}\n"
     ]
    }
   ],
   "source": [
    "print(nlp(tst0)._.cats)"
   ]
  },
  {
   "cell_type": "code",
   "execution_count": 19,
   "id": "34108461",
   "metadata": {},
   "outputs": [],
   "source": [
    "f = open(\"data/Text_dataset/Cbc/3.txt\", \"r\", encoding=\"utf-8\")\n",
    "tst1 = f.read()"
   ]
  },
  {
   "cell_type": "code",
   "execution_count": 20,
   "id": "7041a03a",
   "metadata": {},
   "outputs": [
    {
     "name": "stdout",
     "output_type": "stream",
     "text": [
      "{'Biochemistry': 0.4341479766026837, 'Cbc': 0.5658520233973166}\n"
     ]
    }
   ],
   "source": [
    "print(nlp(tst1)._.cats)"
   ]
  },
  {
   "cell_type": "code",
   "execution_count": 7,
   "id": "d2aff9eb",
   "metadata": {},
   "outputs": [],
   "source": [
    "Biochemistry=[]\n",
    "\n",
    "path = \"data/Text_dataset/Biochemistry/\"\n",
    "for idx, txt in enumerate(os.listdir(path)):\n",
    "    f = open(os.path.join(path,txt), \"r\", encoding=\"utf-8\")\n",
    "    text = f.read()\n",
    "    Biochemistry.append(text)\n",
    "        \n",
    "Cbc=[]\n",
    "\n",
    "path = \"data/Text_dataset/Cbc/\"\n",
    "for idx, txt in enumerate(os.listdir(path)):\n",
    "    f = open(os.path.join(path,txt), \"r\", encoding=\"utf-8\")\n",
    "    text = f.read()\n",
    "    Cbc.append(text)\n",
    "    \n",
    "Urine=[]\n",
    "\n",
    "path = \"data/Text_dataset/Urine/\"\n",
    "for idx, txt in enumerate(os.listdir(path)):\n",
    "    f = open(os.path.join(path,txt), \"r\", encoding=\"utf-8\")\n",
    "    text = f.read()\n",
    "    Urine.append(text)\n",
    "    \n",
    "Other=[]\n",
    " \n",
    "path = \"data/Text_dataset/Other/\"\n",
    "for idx, txt in enumerate(os.listdir(path)):\n",
    "    f = open(os.path.join(path,txt), \"r\", encoding=\"utf-8\")\n",
    "    text = f.read()\n",
    "    Other.append(text)"
   ]
  },
  {
   "cell_type": "code",
   "execution_count": 8,
   "id": "e2002f5d",
   "metadata": {},
   "outputs": [
    {
     "data": {
      "text/plain": [
       "48"
      ]
     },
     "execution_count": 8,
     "metadata": {},
     "output_type": "execute_result"
    }
   ],
   "source": [
    "len(Biochemistry)"
   ]
  },
  {
   "cell_type": "code",
   "execution_count": 9,
   "id": "cb227284",
   "metadata": {},
   "outputs": [
    {
     "data": {
      "text/plain": [
       "37"
      ]
     },
     "execution_count": 9,
     "metadata": {},
     "output_type": "execute_result"
    }
   ],
   "source": [
    "len(Cbc)"
   ]
  },
  {
   "cell_type": "code",
   "execution_count": 10,
   "id": "086d2e90",
   "metadata": {},
   "outputs": [
    {
     "data": {
      "text/plain": [
       "11"
      ]
     },
     "execution_count": 10,
     "metadata": {},
     "output_type": "execute_result"
    }
   ],
   "source": [
    "len(Urine)"
   ]
  },
  {
   "cell_type": "code",
   "execution_count": 11,
   "id": "0e3fa48e",
   "metadata": {},
   "outputs": [
    {
     "data": {
      "text/plain": [
       "40"
      ]
     },
     "execution_count": 11,
     "metadata": {},
     "output_type": "execute_result"
    }
   ],
   "source": [
    "len(Other)"
   ]
  },
  {
   "cell_type": "code",
   "execution_count": 12,
   "id": "072a34ca",
   "metadata": {},
   "outputs": [],
   "source": [
    "import random\n",
    "random.Random(42).shuffle(Biochemistry)\n",
    "\n",
    "Biochem_train_data = Biochemistry[:25]\n",
    "Biochem_test_data = Biochemistry[25:]\n",
    "\n",
    "random.Random(42).shuffle(Cbc)\n",
    "\n",
    "Cbc_train_data = Cbc[:20]\n",
    "Cbc_test_data = Cbc[20:]\n",
    "\n",
    "random.Random(42).shuffle(Urine)\n",
    "\n",
    "Urine_train_data = Urine[:6]\n",
    "Urine_test_data = Urine[6:]\n",
    "\n",
    "random.Random(42).shuffle(Other)\n",
    "\n",
    "Other_train_data = Other[:20]\n",
    "Other_test_data = Other[20:]\n"
   ]
  },
  {
   "cell_type": "code",
   "execution_count": 13,
   "id": "6e7bd61d",
   "metadata": {},
   "outputs": [
    {
     "data": {
      "text/plain": [
       "25"
      ]
     },
     "execution_count": 13,
     "metadata": {},
     "output_type": "execute_result"
    }
   ],
   "source": [
    "len(Biochem_train_data)"
   ]
  },
  {
   "cell_type": "code",
   "execution_count": 14,
   "id": "667853e2",
   "metadata": {},
   "outputs": [
    {
     "data": {
      "text/plain": [
       "20"
      ]
     },
     "execution_count": 14,
     "metadata": {},
     "output_type": "execute_result"
    }
   ],
   "source": [
    "len(Cbc_train_data)"
   ]
  },
  {
   "cell_type": "code",
   "execution_count": 15,
   "id": "1bb22c8f",
   "metadata": {},
   "outputs": [
    {
     "data": {
      "text/plain": [
       "6"
      ]
     },
     "execution_count": 15,
     "metadata": {},
     "output_type": "execute_result"
    }
   ],
   "source": [
    "len(Urine_train_data)"
   ]
  },
  {
   "cell_type": "code",
   "execution_count": 16,
   "id": "3a6dd190",
   "metadata": {},
   "outputs": [
    {
     "data": {
      "text/plain": [
       "20"
      ]
     },
     "execution_count": 16,
     "metadata": {},
     "output_type": "execute_result"
    }
   ],
   "source": [
    "len(Other_train_data)"
   ]
  },
  {
   "cell_type": "code",
   "execution_count": 17,
   "id": "5b2906be",
   "metadata": {},
   "outputs": [],
   "source": [
    "data = {\n",
    "    \"Biochemistry\":Biochem_train_data,\n",
    "    \"Cbc\": Cbc_train_data,\n",
    "    \"Urine\":Urine_train_data,\n",
    "}"
   ]
  },
  {
   "cell_type": "code",
   "execution_count": 18,
   "id": "222f1763",
   "metadata": {},
   "outputs": [
    {
     "name": "stdout",
     "output_type": "stream",
     "text": [
      "Fitting 2 folds for each of 6 candidates, totalling 12 fits\n"
     ]
    },
    {
     "data": {
      "text/plain": [
       "<classy_classification.classifiers.spacy_few_shot_external.classySpacyFewShotExternal at 0x165e9857bb0>"
      ]
     },
     "execution_count": 18,
     "metadata": {},
     "output_type": "execute_result"
    }
   ],
   "source": [
    "nlp = spacy.blank(\"en\")\n",
    "nlp.add_pipe(\n",
    "    \"text_categorizer\", \n",
    "    config={\n",
    "        \"data\": data, \n",
    "        \"model\": \"sentence-transformers/paraphrase-multilingual-MiniLM-L12-v2\",\n",
    "        \"device\": \"gpu\"\n",
    "    }\n",
    ") "
   ]
  },
  {
   "cell_type": "code",
   "execution_count": 27,
   "id": "9b40a9c1",
   "metadata": {},
   "outputs": [
    {
     "name": "stdout",
     "output_type": "stream",
     "text": [
      "{'Biochemistry': 0.49062699151714884, 'Cbc': 0.3997654676051972, 'Urine': 0.10960754087765379}\n"
     ]
    }
   ],
   "source": [
    "print(nlp(Biochem_test_data[5])._.cats)"
   ]
  },
  {
   "cell_type": "markdown",
   "id": "e09e9e81",
   "metadata": {},
   "source": [
    "# Using BERT"
   ]
  },
  {
   "cell_type": "code",
   "execution_count": 28,
   "id": "b683cd37",
   "metadata": {},
   "outputs": [],
   "source": [
    "import pandas as pd"
   ]
  },
  {
   "cell_type": "code",
   "execution_count": 34,
   "id": "667c0c3d",
   "metadata": {},
   "outputs": [],
   "source": [
    "data = {'Text': [], 'Report_type': []}\n",
    "\n",
    "for i in Biochemistry:\n",
    "    data[\"Text\"].append(i)\n",
    "    data[\"Report_type\"].append('Biochemistry')\n",
    "    \n",
    "for i in Cbc:\n",
    "    data[\"Text\"].append(i)\n",
    "    data[\"Report_type\"].append('Cbc')\n",
    "    \n",
    "for i in Urine:\n",
    "    data[\"Text\"].append(i)\n",
    "    data[\"Report_type\"].append('Urine')"
   ]
  },
  {
   "cell_type": "code",
   "execution_count": 35,
   "id": "f32c5d01",
   "metadata": {},
   "outputs": [],
   "source": [
    "df = pd.DataFrame(data)  "
   ]
  },
  {
   "cell_type": "code",
   "execution_count": 36,
   "id": "81c355a0",
   "metadata": {},
   "outputs": [
    {
     "data": {
      "text/html": [
       "<div>\n",
       "<style scoped>\n",
       "    .dataframe tbody tr th:only-of-type {\n",
       "        vertical-align: middle;\n",
       "    }\n",
       "\n",
       "    .dataframe tbody tr th {\n",
       "        vertical-align: top;\n",
       "    }\n",
       "\n",
       "    .dataframe thead th {\n",
       "        text-align: right;\n",
       "    }\n",
       "</style>\n",
       "<table border=\"1\" class=\"dataframe\">\n",
       "  <thead>\n",
       "    <tr style=\"text-align: right;\">\n",
       "      <th></th>\n",
       "      <th>Text</th>\n",
       "      <th>Report_type</th>\n",
       "    </tr>\n",
       "  </thead>\n",
       "  <tbody>\n",
       "    <tr>\n",
       "      <th>0</th>\n",
       "      <td>‘Sa'a'W ‘ada ‘Culed) aw \"S'g'a'W ‘a’d'd ‘S'd'D...</td>\n",
       "      <td>Biochemistry</td>\n",
       "    </tr>\n",
       "    <tr>\n",
       "      <th>1</th>\n",
       "      <td>Raja Rammohan Roy Read,\\nPrarthana Samaj, Girg...</td>\n",
       "      <td>Biochemistry</td>\n",
       "    </tr>\n",
       "    <tr>\n",
       "      <th>2</th>\n",
       "      <td>==. Be ie\\nan = a ped sal Iple Collectec\\n==&gt; ...</td>\n",
       "      <td>Biochemistry</td>\n",
       "    </tr>\n",
       "    <tr>\n",
       "      <th>3</th>\n",
       "      <td>Jospaso Sunsxdos Jo suomipues 01 Jafay pease: ...</td>\n",
       "      <td>Biochemistry</td>\n",
       "    </tr>\n",
       "    <tr>\n",
       "      <th>4</th>\n",
       "      <td>-~ Podsy jo pug --\\n\\njouw\\nOOL\\n\\n{iOuld\\nE87...</td>\n",
       "      <td>Biochemistry</td>\n",
       "    </tr>\n",
       "    <tr>\n",
       "      <th>...</th>\n",
       "      <td>...</td>\n",
       "      <td>...</td>\n",
       "    </tr>\n",
       "    <tr>\n",
       "      <th>91</th>\n",
       "      <td>e-\\n\\ner ee ence ter\\n\\nanda aw\\nEV YOY WC\\nes...</td>\n",
       "      <td>Urine</td>\n",
       "    </tr>\n",
       "    <tr>\n",
       "      <th>92</th>\n",
       "      <td>= PATHOL OC\\n\\nINSULTANT PAT HOLC OG :\\n\\nPRAY...</td>\n",
       "      <td>Urine</td>\n",
       "    </tr>\n",
       "    <tr>\n",
       "      <th>93</th>\n",
       "      <td>DR. ANSARP’S PATHOLOGY LABORATORY\\n\\nCONSULTAN...</td>\n",
       "      <td>Urine</td>\n",
       "    </tr>\n",
       "    <tr>\n",
       "      <th>94</th>\n",
       "      <td>+, \\g\\n\\nRAN\\nii\\nbe\\n\\n:, a\\n\\ndream fY &amp; X-R...</td>\n",
       "      <td>Urine</td>\n",
       "    </tr>\n",
       "    <tr>\n",
       "      <th>95</th>\n",
       "      <td>SAIFEE HOSPITAL\\n\\nDEPARTMENT OF LABORATORY ME...</td>\n",
       "      <td>Urine</td>\n",
       "    </tr>\n",
       "  </tbody>\n",
       "</table>\n",
       "<p>96 rows × 2 columns</p>\n",
       "</div>"
      ],
      "text/plain": [
       "                                                 Text   Report_type\n",
       "0   ‘Sa'a'W ‘ada ‘Culed) aw \"S'g'a'W ‘a’d'd ‘S'd'D...  Biochemistry\n",
       "1   Raja Rammohan Roy Read,\\nPrarthana Samaj, Girg...  Biochemistry\n",
       "2   ==. Be ie\\nan = a ped sal Iple Collectec\\n==> ...  Biochemistry\n",
       "3   Jospaso Sunsxdos Jo suomipues 01 Jafay pease: ...  Biochemistry\n",
       "4   -~ Podsy jo pug --\\n\\njouw\\nOOL\\n\\n{iOuld\\nE87...  Biochemistry\n",
       "..                                                ...           ...\n",
       "91  e-\\n\\ner ee ence ter\\n\\nanda aw\\nEV YOY WC\\nes...         Urine\n",
       "92  = PATHOL OC\\n\\nINSULTANT PAT HOLC OG :\\n\\nPRAY...         Urine\n",
       "93  DR. ANSARP’S PATHOLOGY LABORATORY\\n\\nCONSULTAN...         Urine\n",
       "94  +, \\g\\n\\nRAN\\nii\\nbe\\n\\n:, a\\n\\ndream fY & X-R...         Urine\n",
       "95  SAIFEE HOSPITAL\\n\\nDEPARTMENT OF LABORATORY ME...         Urine\n",
       "\n",
       "[96 rows x 2 columns]"
      ]
     },
     "execution_count": 36,
     "metadata": {},
     "output_type": "execute_result"
    }
   ],
   "source": [
    "df"
   ]
  },
  {
   "cell_type": "code",
   "execution_count": 40,
   "id": "64a986bc",
   "metadata": {},
   "outputs": [],
   "source": [
    "import numpy as np\n",
    "from sklearn.preprocessing import OneHotEncoder"
   ]
  },
  {
   "cell_type": "code",
   "execution_count": 41,
   "id": "3e4f4c1f",
   "metadata": {},
   "outputs": [],
   "source": [
    "enc = OneHotEncoder(handle_unknown='ignore')"
   ]
  },
  {
   "cell_type": "code",
   "execution_count": 43,
   "id": "9ae04fb0",
   "metadata": {},
   "outputs": [],
   "source": [
    "enc_df = pd.DataFrame(enc.fit_transform(df[['Report_type']]).toarray())"
   ]
  },
  {
   "cell_type": "code",
   "execution_count": 44,
   "id": "41d6655a",
   "metadata": {},
   "outputs": [
    {
     "data": {
      "text/html": [
       "<div>\n",
       "<style scoped>\n",
       "    .dataframe tbody tr th:only-of-type {\n",
       "        vertical-align: middle;\n",
       "    }\n",
       "\n",
       "    .dataframe tbody tr th {\n",
       "        vertical-align: top;\n",
       "    }\n",
       "\n",
       "    .dataframe thead th {\n",
       "        text-align: right;\n",
       "    }\n",
       "</style>\n",
       "<table border=\"1\" class=\"dataframe\">\n",
       "  <thead>\n",
       "    <tr style=\"text-align: right;\">\n",
       "      <th></th>\n",
       "      <th>Text</th>\n",
       "      <th>Report_type</th>\n",
       "      <th>0</th>\n",
       "      <th>1</th>\n",
       "      <th>2</th>\n",
       "    </tr>\n",
       "  </thead>\n",
       "  <tbody>\n",
       "    <tr>\n",
       "      <th>0</th>\n",
       "      <td>‘Sa'a'W ‘ada ‘Culed) aw \"S'g'a'W ‘a’d'd ‘S'd'D...</td>\n",
       "      <td>Biochemistry</td>\n",
       "      <td>1.0</td>\n",
       "      <td>0.0</td>\n",
       "      <td>0.0</td>\n",
       "    </tr>\n",
       "    <tr>\n",
       "      <th>1</th>\n",
       "      <td>Raja Rammohan Roy Read,\\nPrarthana Samaj, Girg...</td>\n",
       "      <td>Biochemistry</td>\n",
       "      <td>1.0</td>\n",
       "      <td>0.0</td>\n",
       "      <td>0.0</td>\n",
       "    </tr>\n",
       "    <tr>\n",
       "      <th>2</th>\n",
       "      <td>==. Be ie\\nan = a ped sal Iple Collectec\\n==&gt; ...</td>\n",
       "      <td>Biochemistry</td>\n",
       "      <td>1.0</td>\n",
       "      <td>0.0</td>\n",
       "      <td>0.0</td>\n",
       "    </tr>\n",
       "    <tr>\n",
       "      <th>3</th>\n",
       "      <td>Jospaso Sunsxdos Jo suomipues 01 Jafay pease: ...</td>\n",
       "      <td>Biochemistry</td>\n",
       "      <td>1.0</td>\n",
       "      <td>0.0</td>\n",
       "      <td>0.0</td>\n",
       "    </tr>\n",
       "    <tr>\n",
       "      <th>4</th>\n",
       "      <td>-~ Podsy jo pug --\\n\\njouw\\nOOL\\n\\n{iOuld\\nE87...</td>\n",
       "      <td>Biochemistry</td>\n",
       "      <td>1.0</td>\n",
       "      <td>0.0</td>\n",
       "      <td>0.0</td>\n",
       "    </tr>\n",
       "    <tr>\n",
       "      <th>...</th>\n",
       "      <td>...</td>\n",
       "      <td>...</td>\n",
       "      <td>...</td>\n",
       "      <td>...</td>\n",
       "      <td>...</td>\n",
       "    </tr>\n",
       "    <tr>\n",
       "      <th>91</th>\n",
       "      <td>e-\\n\\ner ee ence ter\\n\\nanda aw\\nEV YOY WC\\nes...</td>\n",
       "      <td>Urine</td>\n",
       "      <td>0.0</td>\n",
       "      <td>0.0</td>\n",
       "      <td>1.0</td>\n",
       "    </tr>\n",
       "    <tr>\n",
       "      <th>92</th>\n",
       "      <td>= PATHOL OC\\n\\nINSULTANT PAT HOLC OG :\\n\\nPRAY...</td>\n",
       "      <td>Urine</td>\n",
       "      <td>0.0</td>\n",
       "      <td>0.0</td>\n",
       "      <td>1.0</td>\n",
       "    </tr>\n",
       "    <tr>\n",
       "      <th>93</th>\n",
       "      <td>DR. ANSARP’S PATHOLOGY LABORATORY\\n\\nCONSULTAN...</td>\n",
       "      <td>Urine</td>\n",
       "      <td>0.0</td>\n",
       "      <td>0.0</td>\n",
       "      <td>1.0</td>\n",
       "    </tr>\n",
       "    <tr>\n",
       "      <th>94</th>\n",
       "      <td>+, \\g\\n\\nRAN\\nii\\nbe\\n\\n:, a\\n\\ndream fY &amp; X-R...</td>\n",
       "      <td>Urine</td>\n",
       "      <td>0.0</td>\n",
       "      <td>0.0</td>\n",
       "      <td>1.0</td>\n",
       "    </tr>\n",
       "    <tr>\n",
       "      <th>95</th>\n",
       "      <td>SAIFEE HOSPITAL\\n\\nDEPARTMENT OF LABORATORY ME...</td>\n",
       "      <td>Urine</td>\n",
       "      <td>0.0</td>\n",
       "      <td>0.0</td>\n",
       "      <td>1.0</td>\n",
       "    </tr>\n",
       "  </tbody>\n",
       "</table>\n",
       "<p>96 rows × 5 columns</p>\n",
       "</div>"
      ],
      "text/plain": [
       "                                                 Text   Report_type    0    1  \\\n",
       "0   ‘Sa'a'W ‘ada ‘Culed) aw \"S'g'a'W ‘a’d'd ‘S'd'D...  Biochemistry  1.0  0.0   \n",
       "1   Raja Rammohan Roy Read,\\nPrarthana Samaj, Girg...  Biochemistry  1.0  0.0   \n",
       "2   ==. Be ie\\nan = a ped sal Iple Collectec\\n==> ...  Biochemistry  1.0  0.0   \n",
       "3   Jospaso Sunsxdos Jo suomipues 01 Jafay pease: ...  Biochemistry  1.0  0.0   \n",
       "4   -~ Podsy jo pug --\\n\\njouw\\nOOL\\n\\n{iOuld\\nE87...  Biochemistry  1.0  0.0   \n",
       "..                                                ...           ...  ...  ...   \n",
       "91  e-\\n\\ner ee ence ter\\n\\nanda aw\\nEV YOY WC\\nes...         Urine  0.0  0.0   \n",
       "92  = PATHOL OC\\n\\nINSULTANT PAT HOLC OG :\\n\\nPRAY...         Urine  0.0  0.0   \n",
       "93  DR. ANSARP’S PATHOLOGY LABORATORY\\n\\nCONSULTAN...         Urine  0.0  0.0   \n",
       "94  +, \\g\\n\\nRAN\\nii\\nbe\\n\\n:, a\\n\\ndream fY & X-R...         Urine  0.0  0.0   \n",
       "95  SAIFEE HOSPITAL\\n\\nDEPARTMENT OF LABORATORY ME...         Urine  0.0  0.0   \n",
       "\n",
       "      2  \n",
       "0   0.0  \n",
       "1   0.0  \n",
       "2   0.0  \n",
       "3   0.0  \n",
       "4   0.0  \n",
       "..  ...  \n",
       "91  1.0  \n",
       "92  1.0  \n",
       "93  1.0  \n",
       "94  1.0  \n",
       "95  1.0  \n",
       "\n",
       "[96 rows x 5 columns]"
      ]
     },
     "execution_count": 44,
     "metadata": {},
     "output_type": "execute_result"
    }
   ],
   "source": [
    "df = df.join(enc_df)\n",
    "df"
   ]
  },
  {
   "cell_type": "code",
   "execution_count": null,
   "id": "415dc38e",
   "metadata": {},
   "outputs": [],
   "source": []
  }
 ],
 "metadata": {
  "kernelspec": {
   "display_name": "Python 3",
   "language": "python",
   "name": "python3"
  },
  "language_info": {
   "codemirror_mode": {
    "name": "ipython",
    "version": 3
   },
   "file_extension": ".py",
   "mimetype": "text/x-python",
   "name": "python",
   "nbconvert_exporter": "python",
   "pygments_lexer": "ipython3",
   "version": "3.8.8"
  }
 },
 "nbformat": 4,
 "nbformat_minor": 5
}
