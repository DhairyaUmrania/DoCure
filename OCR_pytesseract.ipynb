{
 "cells": [
  {
   "cell_type": "code",
   "execution_count": 1,
   "id": "88524f9f",
   "metadata": {},
   "outputs": [],
   "source": [
    "import cv2\n",
    "import pytesseract\n",
    "import re\n",
    "import requests\n",
    "import pdfplumber\n",
    "import pandas as pd\n",
    "import os\n",
    "from PIL import Image"
   ]
  },
  {
   "cell_type": "code",
   "execution_count": 2,
   "id": "121f758e",
   "metadata": {},
   "outputs": [
    {
     "name": "stdout",
     "output_type": "stream",
     "text": [
      "Requirement already satisfied: tesseract in e:\\programming\\anaconda\\lib\\site-packages (0.1.3)\n",
      "Note: you may need to restart the kernel to use updated packages.\n"
     ]
    }
   ],
   "source": [
    "pip install tesseract"
   ]
  },
  {
   "cell_type": "code",
   "execution_count": 3,
   "id": "bb00cf36",
   "metadata": {},
   "outputs": [
    {
     "name": "stdout",
     "output_type": "stream",
     "text": [
      "Requirement already satisfied: pytesseract in e:\\programming\\anaconda\\lib\\site-packages (0.3.8)\n",
      "Requirement already satisfied: Pillow in e:\\programming\\anaconda\\lib\\site-packages (from pytesseract) (8.2.0)\n",
      "Note: you may need to restart the kernel to use updated packages.\n"
     ]
    }
   ],
   "source": [
    "pip install pytesseract"
   ]
  },
  {
   "cell_type": "code",
   "execution_count": 2,
   "id": "7cf801e5",
   "metadata": {},
   "outputs": [],
   "source": [
    "pytesseract.pytesseract.tesseract_cmd = r'C:\\Program Files\\Tesseract-OCR\\tesseract.exe'  # your path may be different"
   ]
  },
  {
   "cell_type": "code",
   "execution_count": 3,
   "id": "94e83af0",
   "metadata": {},
   "outputs": [],
   "source": [
    "def extract(text):\n",
    "    wbc_re = re.compile(r'(.*[Ll]eu[ck]ocyte\\D*|.*WBC\\D*|.*White Blood Cell\\D*) ([\\d,.]+) ')\n",
    "    rbc_re = re.compile(r'(.*[eE]rythrocyte\\D*|.*[r,R][b,B][c,C]\\D*|.*[Rr]ed [Bb]lood [Cb]ell\\D*|.*[Rr]ed [Cc]ell [Cc]ount\\D*) ([\\d,.]+) ')\n",
    "    hgb_re = re.compile(r'(.*[Hh][a]*emoglobin\\D*) ([\\d,.]+) ')\n",
    "    pcv_re = re.compile(r'(.*[Pp]acked [Cc]ell [Vv]olume\\D*|.*[pP][cC][vV]\\D*|.*[Hh][a]*ematocrit\\D*) ([\\d,.%]+) ')\n",
    "    mcv_re = re.compile(r'(.*[Mm]ean [Cc]orpuscular [Vv]olume\\D*|.*[mM][cC][vV]\\D*|.*[Mm]ean [Cc]ell [Vv]olume\\D*) ([\\d,.]+) ')\n",
    "    mch_re = re.compile(r'(.*[Mm]ean [Cc]orpuscular [Hh]b\\D*|.*[mM][cC][hH]\\D*) ([\\d,.]+) ')\n",
    "    mchc_re = re.compile(r'(.*[Mm]ean [Cc]ell [Hh]b Conc\\D*|.*[mM][cC][hH][cC]\\D*|.*[Mm]ean [Cc]ell [Hh]b[\\.]* [Cc]onc\\D*) ([\\d,.]+) ')\n",
    "    rcd_re = re.compile(r'(.*[Rr]ed [Cc]ell [Dd]ist\\D*|.*[Rr][cC][Dd]\\D*|.*[Rr][Dd][Ww]\\D*) ([\\d,.]+) ')\n",
    "    pc_re = re.compile(r'(.*[Pp]la[Ee]*telet[s]* [Cc]ount\\D*|.*[Pp]la[Ee]*telet[s]*\\D*) ([\\d,.]+) ')\n",
    "    mpv_re = re.compile(r'(.*[Mm]ean Pla[eE]*telet [Vv]olume\\D*|.*[Mm][Pp][Vv]\\D*) ([\\d,.]+) ')\n",
    "#     neu_re = re.compile(r'([Nn]eutrophils) ([\\d,.]+) ')\n",
    "#     lym_re = re.compile(r'(.*[Ll]ymphocyte.*) ([\\d,.]+) ')\n",
    "#     mon_re = re.compile(r'(.*[Mm]onocyte.*) ([\\d,.]+) ')\n",
    "#     eos_re = re.compile(r'(.*[Ee]osinophils.*) ([\\d,.]+) ')\n",
    "#     bas_re = re.compile(r'(.*[Bb]asophils.*) ([\\d,.]+) ')\n",
    "    \n",
    "    flag = 0\n",
    "    \n",
    "    wbc = wbc_re.search(text)\n",
    "    if(wbc != None):\n",
    "        wbc = wbc_re.search(text).group(2)\n",
    "        wbc = float(wbc.replace(',',''))\n",
    "        if(wbc>1000 and wbc<100000):\n",
    "            wbc /= 1000\n",
    "    else:\n",
    "        wbc = \"Not Available\"\n",
    "        flag += 1\n",
    "        \n",
    "    rbc = rbc_re.search(text)\n",
    "    if(rbc != None):\n",
    "        rbc = rbc_re.search(text).group(2)\n",
    "        rbc = float(rbc.replace(',',''))\n",
    "    else:\n",
    "        rbc = \"Not Available\"\n",
    "        flag += 1\n",
    "        \n",
    "    hgb = hgb_re.search(text)\n",
    "    if(hgb != None):\n",
    "        hgb = hgb_re.search(text).group(2)\n",
    "        hgb = float(hgb.replace(',',''))\n",
    "    else:\n",
    "        hgb = \"Not Available\"\n",
    "        flag += 1\n",
    "        \n",
    "    pcv = pcv_re.search(text)\n",
    "    if(pcv != None):\n",
    "        pcv = pcv_re.search(text).group(2)\n",
    "        pcv = pcv.replace('%','')\n",
    "        pcv = pcv.replace(',','')\n",
    "        pcv = float(pcv)\n",
    "    else:\n",
    "        pcv = \"Not Available\"\n",
    "        flag += 1\n",
    "        \n",
    "    mcv = mcv_re.search(text)\n",
    "    if(mcv != None):\n",
    "        mcv = mcv_re.search(text).group(2)\n",
    "        mcv = float(mcv.replace(',',''))\n",
    "    else:\n",
    "        mcv = \"Not Available\"\n",
    "        flag += 1\n",
    "        \n",
    "    mch = mch_re.search(text)\n",
    "    if(mch != None):\n",
    "        mch = mch_re.search(text).group(2)\n",
    "        mch = float(mch.replace(',',''))\n",
    "    else:\n",
    "        mch = \"Not Available\"\n",
    "        flag += 1\n",
    "        \n",
    "    mchc = mchc_re.search(text)\n",
    "    if(mchc != None):\n",
    "        mchc = mchc_re.search(text).group(2)\n",
    "        mchc = float(mchc.replace(',',''))\n",
    "    else:\n",
    "        mchc = \"Not Available\"\n",
    "        flag += 1\n",
    "        \n",
    "    rcd = rcd_re.search(text)\n",
    "    if(rcd != None):\n",
    "        rcd = rcd_re.search(text).group(2)\n",
    "        rcd = float(rcd.replace(',',''))\n",
    "    else:\n",
    "        rcd = \"Not Available\"\n",
    "        flag += 1\n",
    "        \n",
    "    pc = pc_re.search(text)\n",
    "    if(pc != None):\n",
    "        pc = pc_re.search(text).group(2)\n",
    "        pc = float(pc.replace(',',''))\n",
    "    else:\n",
    "        pc = \"Not Available\"\n",
    "        flag += 1\n",
    "        \n",
    "    mpv = mpv_re.search(text)\n",
    "    if(mpv != None):\n",
    "        mpv = mpv_re.search(text).group(2)\n",
    "        mpv = float(mpv.replace(',',''))\n",
    "    else:\n",
    "        mpv = \"Not Available\"\n",
    "        flag += 1\n",
    "        \n",
    "#     if(flag > 5):\n",
    "#         print(\"Could not find values. Please check if the correct report is uploaded.\")\n",
    "#     else:\n",
    "    print(\"Leukocyte count: \", wbc)\n",
    "    print(\"Red Blood Cell count: \", rbc)\n",
    "    print(\"Haemoglobin Count: \", hgb)\n",
    "    print(\"Packed Cell Volume: \"+ str(pcv) +\"%\")\n",
    "    print(\"Mean Cell Volume: \", mcv)\n",
    "    print(\"Mean Corpuscular Hb Conc.: \", mchc)\n",
    "    print(\"Red Cell Dist.: \", rcd)\n",
    "    print(\"Platelet Count: \", pc)\n",
    "    print(\"Mean Platelet Volume: \", mpv)\n",
    "        "
   ]
  },
  {
   "cell_type": "code",
   "execution_count": 4,
   "id": "6e4a6b33",
   "metadata": {},
   "outputs": [
    {
     "name": "stdout",
     "output_type": "stream",
     "text": [
      "1579447779936-_1579447778099.jpg\n"
     ]
    },
    {
     "ename": "TesseractError",
     "evalue": "(1, 'Error, cannot read input file E:\\\\Programming\\\\Data Science\\\\Jupyter\\\\Home\\\\KJ Somaiya\\\\LY Proj\\\\1579447779936-_1579447778099.jpg: No such file or directory Error during processing.')",
     "output_type": "error",
     "traceback": [
      "\u001b[1;31m---------------------------------------------------------------------------\u001b[0m",
      "\u001b[1;31mTesseractError\u001b[0m                            Traceback (most recent call last)",
      "\u001b[1;32m<ipython-input-4-ececaf7aa249>\u001b[0m in \u001b[0;36m<module>\u001b[1;34m\u001b[0m\n\u001b[0;32m      6\u001b[0m \u001b[1;31m#     image = cv2.cvtColor(img, cv2.COLOR_BGR2GRAY)\u001b[0m\u001b[1;33m\u001b[0m\u001b[1;33m\u001b[0m\u001b[1;33m\u001b[0m\u001b[0m\n\u001b[0;32m      7\u001b[0m     \u001b[1;31m#------\u001b[0m\u001b[1;33m\u001b[0m\u001b[1;33m\u001b[0m\u001b[1;33m\u001b[0m\u001b[0m\n\u001b[1;32m----> 8\u001b[1;33m     \u001b[0mtext\u001b[0m \u001b[1;33m=\u001b[0m \u001b[0mpytesseract\u001b[0m\u001b[1;33m.\u001b[0m\u001b[0mimage_to_string\u001b[0m\u001b[1;33m(\u001b[0m\u001b[0mimg\u001b[0m\u001b[1;33m)\u001b[0m\u001b[1;33m\u001b[0m\u001b[1;33m\u001b[0m\u001b[0m\n\u001b[0m\u001b[0;32m      9\u001b[0m     \u001b[0mprint\u001b[0m\u001b[1;33m(\u001b[0m\u001b[0mtext\u001b[0m\u001b[1;33m)\u001b[0m\u001b[1;33m\u001b[0m\u001b[1;33m\u001b[0m\u001b[0m\n\u001b[0;32m     10\u001b[0m     \u001b[0mprint\u001b[0m\u001b[1;33m(\u001b[0m\u001b[0mlen\u001b[0m\u001b[1;33m(\u001b[0m\u001b[0mtext\u001b[0m\u001b[1;33m.\u001b[0m\u001b[0msplit\u001b[0m\u001b[1;33m(\u001b[0m\u001b[1;33m)\u001b[0m\u001b[1;33m)\u001b[0m\u001b[1;33m)\u001b[0m\u001b[1;33m\u001b[0m\u001b[1;33m\u001b[0m\u001b[0m\n",
      "\u001b[1;32mE:\\Programming\\Anaconda\\lib\\site-packages\\pytesseract\\pytesseract.py\u001b[0m in \u001b[0;36mimage_to_string\u001b[1;34m(image, lang, config, nice, output_type, timeout)\u001b[0m\n\u001b[0;32m    411\u001b[0m     \u001b[0margs\u001b[0m \u001b[1;33m=\u001b[0m \u001b[1;33m[\u001b[0m\u001b[0mimage\u001b[0m\u001b[1;33m,\u001b[0m \u001b[1;34m'txt'\u001b[0m\u001b[1;33m,\u001b[0m \u001b[0mlang\u001b[0m\u001b[1;33m,\u001b[0m \u001b[0mconfig\u001b[0m\u001b[1;33m,\u001b[0m \u001b[0mnice\u001b[0m\u001b[1;33m,\u001b[0m \u001b[0mtimeout\u001b[0m\u001b[1;33m]\u001b[0m\u001b[1;33m\u001b[0m\u001b[1;33m\u001b[0m\u001b[0m\n\u001b[0;32m    412\u001b[0m \u001b[1;33m\u001b[0m\u001b[0m\n\u001b[1;32m--> 413\u001b[1;33m     return {\n\u001b[0m\u001b[0;32m    414\u001b[0m         \u001b[0mOutput\u001b[0m\u001b[1;33m.\u001b[0m\u001b[0mBYTES\u001b[0m\u001b[1;33m:\u001b[0m \u001b[1;32mlambda\u001b[0m\u001b[1;33m:\u001b[0m \u001b[0mrun_and_get_output\u001b[0m\u001b[1;33m(\u001b[0m\u001b[1;33m*\u001b[0m\u001b[1;33m(\u001b[0m\u001b[0margs\u001b[0m \u001b[1;33m+\u001b[0m \u001b[1;33m[\u001b[0m\u001b[1;32mTrue\u001b[0m\u001b[1;33m]\u001b[0m\u001b[1;33m)\u001b[0m\u001b[1;33m)\u001b[0m\u001b[1;33m,\u001b[0m\u001b[1;33m\u001b[0m\u001b[1;33m\u001b[0m\u001b[0m\n\u001b[0;32m    415\u001b[0m         \u001b[0mOutput\u001b[0m\u001b[1;33m.\u001b[0m\u001b[0mDICT\u001b[0m\u001b[1;33m:\u001b[0m \u001b[1;32mlambda\u001b[0m\u001b[1;33m:\u001b[0m \u001b[1;33m{\u001b[0m\u001b[1;34m'text'\u001b[0m\u001b[1;33m:\u001b[0m \u001b[0mrun_and_get_output\u001b[0m\u001b[1;33m(\u001b[0m\u001b[1;33m*\u001b[0m\u001b[0margs\u001b[0m\u001b[1;33m)\u001b[0m\u001b[1;33m}\u001b[0m\u001b[1;33m,\u001b[0m\u001b[1;33m\u001b[0m\u001b[1;33m\u001b[0m\u001b[0m\n",
      "\u001b[1;32mE:\\Programming\\Anaconda\\lib\\site-packages\\pytesseract\\pytesseract.py\u001b[0m in \u001b[0;36m<lambda>\u001b[1;34m()\u001b[0m\n\u001b[0;32m    414\u001b[0m         \u001b[0mOutput\u001b[0m\u001b[1;33m.\u001b[0m\u001b[0mBYTES\u001b[0m\u001b[1;33m:\u001b[0m \u001b[1;32mlambda\u001b[0m\u001b[1;33m:\u001b[0m \u001b[0mrun_and_get_output\u001b[0m\u001b[1;33m(\u001b[0m\u001b[1;33m*\u001b[0m\u001b[1;33m(\u001b[0m\u001b[0margs\u001b[0m \u001b[1;33m+\u001b[0m \u001b[1;33m[\u001b[0m\u001b[1;32mTrue\u001b[0m\u001b[1;33m]\u001b[0m\u001b[1;33m)\u001b[0m\u001b[1;33m)\u001b[0m\u001b[1;33m,\u001b[0m\u001b[1;33m\u001b[0m\u001b[1;33m\u001b[0m\u001b[0m\n\u001b[0;32m    415\u001b[0m         \u001b[0mOutput\u001b[0m\u001b[1;33m.\u001b[0m\u001b[0mDICT\u001b[0m\u001b[1;33m:\u001b[0m \u001b[1;32mlambda\u001b[0m\u001b[1;33m:\u001b[0m \u001b[1;33m{\u001b[0m\u001b[1;34m'text'\u001b[0m\u001b[1;33m:\u001b[0m \u001b[0mrun_and_get_output\u001b[0m\u001b[1;33m(\u001b[0m\u001b[1;33m*\u001b[0m\u001b[0margs\u001b[0m\u001b[1;33m)\u001b[0m\u001b[1;33m}\u001b[0m\u001b[1;33m,\u001b[0m\u001b[1;33m\u001b[0m\u001b[1;33m\u001b[0m\u001b[0m\n\u001b[1;32m--> 416\u001b[1;33m         \u001b[0mOutput\u001b[0m\u001b[1;33m.\u001b[0m\u001b[0mSTRING\u001b[0m\u001b[1;33m:\u001b[0m \u001b[1;32mlambda\u001b[0m\u001b[1;33m:\u001b[0m \u001b[0mrun_and_get_output\u001b[0m\u001b[1;33m(\u001b[0m\u001b[1;33m*\u001b[0m\u001b[0margs\u001b[0m\u001b[1;33m)\u001b[0m\u001b[1;33m,\u001b[0m\u001b[1;33m\u001b[0m\u001b[1;33m\u001b[0m\u001b[0m\n\u001b[0m\u001b[0;32m    417\u001b[0m     }[output_type]()\n\u001b[0;32m    418\u001b[0m \u001b[1;33m\u001b[0m\u001b[0m\n",
      "\u001b[1;32mE:\\Programming\\Anaconda\\lib\\site-packages\\pytesseract\\pytesseract.py\u001b[0m in \u001b[0;36mrun_and_get_output\u001b[1;34m(image, extension, lang, config, nice, timeout, return_bytes)\u001b[0m\n\u001b[0;32m    282\u001b[0m         }\n\u001b[0;32m    283\u001b[0m \u001b[1;33m\u001b[0m\u001b[0m\n\u001b[1;32m--> 284\u001b[1;33m         \u001b[0mrun_tesseract\u001b[0m\u001b[1;33m(\u001b[0m\u001b[1;33m**\u001b[0m\u001b[0mkwargs\u001b[0m\u001b[1;33m)\u001b[0m\u001b[1;33m\u001b[0m\u001b[1;33m\u001b[0m\u001b[0m\n\u001b[0m\u001b[0;32m    285\u001b[0m         \u001b[0mfilename\u001b[0m \u001b[1;33m=\u001b[0m \u001b[0mkwargs\u001b[0m\u001b[1;33m[\u001b[0m\u001b[1;34m'output_filename_base'\u001b[0m\u001b[1;33m]\u001b[0m \u001b[1;33m+\u001b[0m \u001b[0mextsep\u001b[0m \u001b[1;33m+\u001b[0m \u001b[0mextension\u001b[0m\u001b[1;33m\u001b[0m\u001b[1;33m\u001b[0m\u001b[0m\n\u001b[0;32m    286\u001b[0m         \u001b[1;32mwith\u001b[0m \u001b[0mopen\u001b[0m\u001b[1;33m(\u001b[0m\u001b[0mfilename\u001b[0m\u001b[1;33m,\u001b[0m \u001b[1;34m'rb'\u001b[0m\u001b[1;33m)\u001b[0m \u001b[1;32mas\u001b[0m \u001b[0moutput_file\u001b[0m\u001b[1;33m:\u001b[0m\u001b[1;33m\u001b[0m\u001b[1;33m\u001b[0m\u001b[0m\n",
      "\u001b[1;32mE:\\Programming\\Anaconda\\lib\\site-packages\\pytesseract\\pytesseract.py\u001b[0m in \u001b[0;36mrun_tesseract\u001b[1;34m(input_filename, output_filename_base, extension, lang, config, nice, timeout)\u001b[0m\n\u001b[0;32m    258\u001b[0m     \u001b[1;32mwith\u001b[0m \u001b[0mtimeout_manager\u001b[0m\u001b[1;33m(\u001b[0m\u001b[0mproc\u001b[0m\u001b[1;33m,\u001b[0m \u001b[0mtimeout\u001b[0m\u001b[1;33m)\u001b[0m \u001b[1;32mas\u001b[0m \u001b[0merror_string\u001b[0m\u001b[1;33m:\u001b[0m\u001b[1;33m\u001b[0m\u001b[1;33m\u001b[0m\u001b[0m\n\u001b[0;32m    259\u001b[0m         \u001b[1;32mif\u001b[0m \u001b[0mproc\u001b[0m\u001b[1;33m.\u001b[0m\u001b[0mreturncode\u001b[0m\u001b[1;33m:\u001b[0m\u001b[1;33m\u001b[0m\u001b[1;33m\u001b[0m\u001b[0m\n\u001b[1;32m--> 260\u001b[1;33m             \u001b[1;32mraise\u001b[0m \u001b[0mTesseractError\u001b[0m\u001b[1;33m(\u001b[0m\u001b[0mproc\u001b[0m\u001b[1;33m.\u001b[0m\u001b[0mreturncode\u001b[0m\u001b[1;33m,\u001b[0m \u001b[0mget_errors\u001b[0m\u001b[1;33m(\u001b[0m\u001b[0merror_string\u001b[0m\u001b[1;33m)\u001b[0m\u001b[1;33m)\u001b[0m\u001b[1;33m\u001b[0m\u001b[1;33m\u001b[0m\u001b[0m\n\u001b[0m\u001b[0;32m    261\u001b[0m \u001b[1;33m\u001b[0m\u001b[0m\n\u001b[0;32m    262\u001b[0m \u001b[1;33m\u001b[0m\u001b[0m\n",
      "\u001b[1;31mTesseractError\u001b[0m: (1, 'Error, cannot read input file E:\\\\Programming\\\\Data Science\\\\Jupyter\\\\Home\\\\KJ Somaiya\\\\LY Proj\\\\1579447779936-_1579447778099.jpg: No such file or directory Error during processing.')"
     ]
    }
   ],
   "source": [
    "DATADIR = \"E:/Programming/Data Science/Jupyter/Home/KJ Somaiya/LY Proj/data/OCR Dataset/new/\"\n",
    "i=0\n",
    "for img in sorted(os.listdir(DATADIR)):\n",
    "    print(img)\n",
    "    #add code\n",
    "#     image = cv2.cvtColor(img, cv2.COLOR_BGR2GRAY)\n",
    "    #------\n",
    "    text = pytesseract.image_to_string(img)\n",
    "    print(text)\n",
    "    print(len(text.split()))\n",
    "    i+=1\n",
    "    if i==2:\n",
    "        break\n",
    "    print(\"---------------------------------------------------------------------------------------------\") "
   ]
  },
  {
   "cell_type": "code",
   "execution_count": null,
   "id": "6e87065b",
   "metadata": {},
   "outputs": [],
   "source": []
  },
  {
   "cell_type": "markdown",
   "id": "b03d9dc1",
   "metadata": {},
   "source": [
    "# Checking each individual image"
   ]
  },
  {
   "cell_type": "markdown",
   "id": "0c5ee068",
   "metadata": {},
   "source": [
    "## 'IMG-20211108-WA0016.jpg' - Regex Problem"
   ]
  },
  {
   "cell_type": "code",
   "execution_count": 5,
   "id": "4c4a1331",
   "metadata": {},
   "outputs": [
    {
     "name": "stdout",
     "output_type": "stream",
     "text": [
      "2nnce COMPUTRISED\n",
      "CLINICAL LABORATORY\n",
      "\n",
      "Pationt Name : MR. SANJAY RAMCHANDRA AVHAD\n",
      "\n",
      "Referral : Dhadiwal Hospital\n",
      "Report Date : 19 Oct, 2021, 09:36 a.m.\n",
      "\n",
      "‘Sample Date : 19 Oct, 2021, 08:55 a.m,\n",
      "\n",
      "CLINICAL LABORATORY REPORT \"\n",
      "\n",
      "‘Age : 48 years (Male)\n",
      "Reg. ID :1- 15409\n",
      "\n",
      "Seno OMNIA\n",
      "\n",
      "Complete Blood Count (CBC}\n",
      "\n",
      "Test Description Value(s) Reference Range\n",
      "Haemoglobin 11.5 gmidt 4-16\n",
      "Total WBC Count 6200 /emm 4000 - 14000\n",
      "DIFFERENTIAL COUNT\n",
      "Neutrophil 75% 40-70\n",
      "Lymphocytes 18% 20-40\n",
      "Eosinophil 1% 01-04\n",
      "\n",
      "— Monocytes 06 % 02-08\n",
      "Basophils 00\n",
      "RBC Indices\n",
      "Haematocrit (HCT) 34.5% 40-54\n",
      "RBC Count 3.34 miliemm 35-55\n",
      "Mcv 103.29 fL 80 - 100\n",
      "MCH 34.43 pg 27-32\n",
      "MCHC 33.33 gid 32-36\n",
      "ROW-cv 15.5% 115-145\n",
      "Platelet indices\n",
      "Platelet Count 83000 /cmm. 150000 - 450000\n",
      "MPV 750 74-104\n",
      "PDW 17.8 fL 15.0-17.0\n",
      "PCT 0.06 % 0.100 - 0.282\n",
      "\n",
      "‘one on fully Automatic Nihon Kohden MEK-6420P Haematology Analyser\n",
      "\n",
      "This is computer generated authentic document not requiring physical signature\n",
      "\n",
      "CONDITIONS OF REPORTING\n",
      "1 re not Medhcal Dia\n",
      "\n",
      "Mrs. Namrata D. Deore (Aher)\n",
      "B.Sc. D.M.L.T (Pune)\n",
      "\n",
      "“END OF REPORT™*\n",
      "\n",
      "Verified by\n",
      "\n",
      "DHADIWAL HOSPITAL\n",
      "SHREEJI HEALTH CARE\n",
      "\n",
      "Opp. Thakkar Bazar Trimbak\n",
      "\n",
      "f *\n",
      "ie\n",
      "\n",
      "Dr. S.R.Shinde\n",
      "MBBS,DCP.\n",
      "\n",
      "Reg NO.40660\n",
      "Consulting Pathologist\n",
      "\n",
      "Road,Nashik.\n",
      "\n",
      "\n",
      "195\n"
     ]
    }
   ],
   "source": [
    "img = 'IMG-20211108-WA0016.jpg'\n",
    "text = pytesseract.image_to_string('dataset/'+img)\n",
    "print(text)\n",
    "print(len(text.split()))"
   ]
  },
  {
   "cell_type": "code",
   "execution_count": 8,
   "id": "a61e4744",
   "metadata": {},
   "outputs": [
    {
     "data": {
      "text/plain": [
       "'2nnce COMPUTRISED\\nCLINICAL LABORATORY\\n\\nPationt Name : MR. SANJAY RAMCHANDRA AVHAD\\n\\nReferral : Dhadiwal Hospital\\nReport Date : 19 Oct, 2021, 09:36 a.m.\\n\\n‘Sample Date : 19 Oct, 2021, 08:55 a.m,\\n\\nCLINICAL LABORATORY REPORT \"\\n\\n‘Age : 48 years (Male)\\nReg. ID :1- 15409\\n\\nSeno OMNIA\\n\\nComplete Blood Count (CBC}\\n\\nTest Description Value(s) Reference Range\\nHaemoglobin 11.5 gmidt 4-16\\nTotal WBC Count 6200 /emm 4000 - 14000\\nDIFFERENTIAL COUNT\\nNeutrophil 75% 40-70\\nLymphocytes 18% 20-40\\nEosinophil 1% 01-04\\n\\n— Monocytes 06 % 02-08\\nBasophils 00\\nRBC Indices\\nHaematocrit (HCT) 34.5% 40-54\\nRBC Count 3.34 miliemm 35-55\\nMcv 103.29 fL 80 - 100\\nMCH 34.43 pg 27-32\\nMCHC 33.33 gid 32-36\\nROW-cv 15.5% 115-145\\nPlatelet indices\\nPlatelet Count 83000 /cmm. 150000 - 450000\\nMPV 750 74-104\\nPDW 17.8 fL 15.0-17.0\\nPCT 0.06 % 0.100 - 0.282\\n\\n‘one on fully Automatic Nihon Kohden MEK-6420P Haematology Analyser\\n\\nThis is computer generated authentic document not requiring physical signature\\n\\nCONDITIONS OF REPORTING\\n1 re not Medhcal Dia\\n\\nMrs. Namrata D. Deore (Aher)\\nB.Sc. D.M.L.T (Pune)\\n\\n“END OF REPORT™*\\n\\nVerified by\\n\\nDHADIWAL HOSPITAL\\nSHREEJI HEALTH CARE\\n\\nOpp. Thakkar Bazar Trimbak\\n\\nf *\\nie\\n\\nDr. S.R.Shinde\\nMBBS,DCP.\\n\\nReg NO.40660\\nConsulting Pathologist\\n\\nRoad,Nashik.\\n\\n'"
      ]
     },
     "execution_count": 8,
     "metadata": {},
     "output_type": "execute_result"
    }
   ],
   "source": [
    "text"
   ]
  },
  {
   "cell_type": "code",
   "execution_count": 9,
   "id": "58a7978c",
   "metadata": {},
   "outputs": [
    {
     "name": "stdout",
     "output_type": "stream",
     "text": [
      "Leukocyte count:  6.2\n",
      "Red Blood Cell count:  3.34\n",
      "Haemoglobin Count:  11.5\n",
      "Packed Cell Volume: 34.5%\n",
      "Mean Cell Volume:  103.29\n",
      "Mean Corpuscular Hb Conc.:  33.33\n",
      "Red Cell Dist.:  Not Available\n",
      "Platelet Count:  83000.0\n",
      "Mean Platelet Volume:  750.0\n"
     ]
    }
   ],
   "source": [
    "extract(text)"
   ]
  },
  {
   "cell_type": "code",
   "execution_count": 10,
   "id": "93b3285d",
   "metadata": {},
   "outputs": [],
   "source": [
    "wbc_re = re.compile(r'(.*[Ll]eu[ck]ocyte\\D*|.*WBC\\D*|.*White Blood Cell\\D*) (\\d+)')"
   ]
  },
  {
   "cell_type": "code",
   "execution_count": 11,
   "id": "46d0a9a5",
   "metadata": {},
   "outputs": [],
   "source": [
    "wbc = wbc_re.search(text)"
   ]
  },
  {
   "cell_type": "code",
   "execution_count": 12,
   "id": "712b9b03",
   "metadata": {},
   "outputs": [
    {
     "name": "stdout",
     "output_type": "stream",
     "text": [
      "<re.Match object; span=(375, 395), match='Total WBC Count 6200'>\n"
     ]
    }
   ],
   "source": [
    "print(wbc)"
   ]
  },
  {
   "cell_type": "code",
   "execution_count": 13,
   "id": "512db9b0",
   "metadata": {},
   "outputs": [],
   "source": [
    "pcv_re = re.compile(r'(.*[Pp]acked [Cc]ell [Vv]olume\\D*|.*[pP][cC][vV]\\D*|.*[Hh][a]*ematocrit\\D*) ([\\d,.%]+) ')"
   ]
  },
  {
   "cell_type": "code",
   "execution_count": 14,
   "id": "fe60e741",
   "metadata": {},
   "outputs": [],
   "source": [
    "pcv = pcv_re.search(text)"
   ]
  },
  {
   "cell_type": "code",
   "execution_count": 15,
   "id": "3371d900",
   "metadata": {},
   "outputs": [
    {
     "name": "stdout",
     "output_type": "stream",
     "text": [
      "34.5%\n"
     ]
    }
   ],
   "source": [
    "print(pcv[2])"
   ]
  },
  {
   "cell_type": "markdown",
   "id": "5acea4cc",
   "metadata": {},
   "source": [
    "## 'IMG-20211108-WA0019.jpg' - Regex issue"
   ]
  },
  {
   "cell_type": "code",
   "execution_count": 16,
   "id": "51aa4396",
   "metadata": {},
   "outputs": [
    {
     "name": "stdout",
     "output_type": "stream",
     "text": [
      "EE COME\n",
      "\n",
      "L LABORATORY REPORT\n",
      "\n",
      "Patient Name : MR. SANJAY RAMCHANDRA AVHAD\n",
      "\n",
      "‘Age : 48 years (Male\n",
      "Referral : Dhadiwal Hospital z years (Male)\n",
      "\n",
      "Reg. 10 :1- 15409\n",
      "Report Date : 25 Oct, 2021, 11:36 a.m.\n",
      "\n",
      "‘Sample Date : 25 Oct, 2021, 10:50 a.m.\n",
      "\n",
      "Sore HUNTAYAN UH\n",
      "\n",
      "Complete Blood Count (CBC\n",
      "\n",
      "Test Description Value(s) Reference Range\n",
      "Haemoglobin 9.3 gmat 4-18\n",
      "\n",
      "Total WBC Count 9900 /emm, 4000 - 141000\n",
      "DIFFERENTIAL COUNT =\n",
      "\n",
      "Neutrophil 78% 40-70\n",
      "Lymphocytes 15% 20-40\n",
      "Eosinophil 1% 04-04\n",
      "Jonocytes 06 % 02-08\n",
      "Basophils 00\n",
      "\n",
      "RBC Indices\n",
      "\n",
      "Haematocrit (HCT) 28.5% 40-54\n",
      "\n",
      "RBC Count 2.75 milermm 35-55\n",
      "mcv 103.64 fL 80-100\n",
      "MCH 33.82 pg 27-32\n",
      "MCHC 32.63 gm/dl 32-36\n",
      "\n",
      "ROW-CV 156 115-145\n",
      "Platelet Indices\n",
      "\n",
      "Platelet Count 75000 Jems 150000 - 450000\n",
      "MPV 6.6 fL 74-104\n",
      "\n",
      "POW 18.7 fl 15.0-17.0\n",
      "PCT 0.05 % 0,100 - 0.282\n",
      "\n",
      "Jone on fully Automatic Nihon Kohden MEK-6420P Haematology Analyser\n",
      "\n",
      "**END OF REPORT™*\n",
      "This is computer generated authentic document not requiring physical signature\n",
      "\n",
      "is\n",
      "ie\n",
      "Dr. 8.R.Shinde\n",
      "nBasber\n",
      "\n",
      "Reg N0.40660 |\n",
      "Seeing Paoli\n",
      "\n",
      "HER) Mrs. Namrata D. Deore (Aher)\n",
      "\n",
      "B.Sc, D.M.L.T (Pune)\n",
      "\n",
      "DHADIWAL HOSPITAL\n",
      "HRESJ! HEALTH CARE\n",
      "\n",
      "Opp. Thakkar Bazar Trimbal\n",
      "\n",
      "Road, Nashik.\n",
      "\n"
     ]
    }
   ],
   "source": [
    "img = 'IMG-20211108-WA0019.jpg'\n",
    "text = pytesseract.image_to_string('dataset/'+img)\n",
    "print(text)"
   ]
  },
  {
   "cell_type": "code",
   "execution_count": 17,
   "id": "1d77a446",
   "metadata": {},
   "outputs": [
    {
     "name": "stdout",
     "output_type": "stream",
     "text": [
      "Leukocyte count:  9.9\n",
      "Red Blood Cell count:  2.75\n",
      "Haemoglobin Count:  9.3\n",
      "Packed Cell Volume: 28.5%\n",
      "Mean Cell Volume:  103.64\n",
      "Mean Corpuscular Hb Conc.:  32.63\n",
      "Red Cell Dist.:  Not Available\n",
      "Platelet Count:  75000.0\n",
      "Mean Platelet Volume:  6.6\n"
     ]
    }
   ],
   "source": [
    "extract(text)"
   ]
  },
  {
   "cell_type": "markdown",
   "id": "1ba2f78a",
   "metadata": {},
   "source": [
    "## img = 'IMG_20210920_175000.jpg'"
   ]
  },
  {
   "cell_type": "code",
   "execution_count": 18,
   "id": "74b3e979",
   "metadata": {},
   "outputs": [
    {
     "name": "stdout",
     "output_type": "stream",
     "text": [
      "mmohan Roy Road,\n",
      "Samaj, Girgaon,\n",
      "Mumbai - 400004\n",
      "1800221166\n",
      "\n",
      "Jebsite : www.rfhospital.org\n",
      "\n",
      "t a. 7\n",
      "\n",
      "Qar EH\n",
      "Or ri\n",
      "\n",
      "» Reliance\n",
      "- fees .\n",
      "\n",
      "and Re\n",
      "\n",
      "ros\n",
      "\n",
      "Name - Himatbhai Hirabhai Umarania Age/Gender- 73y/M Collected : 24/08/2018 05:02\n",
      "Patient ID : 0010137028 Visit Type ‘OP Received : 24/08/2018 05:02\n",
      "Referred By : Dr. Hemal Shah Contact : 8080750123 Reported : 24/08/2018 10:04\n",
      "Accession : 1800073147\n",
      "DEPARTMENT OF LABORATORY MEDICINE - HAEMATOLOGY\n",
      ">. s est Name Result Units Biological Reference Range\n",
      "Complete Blood Count\n",
      "Red cell count 5.96 H x10412/L 45-55\n",
      "EDTA Whole Blood\n",
      "Haemoglobin 15.0 g/dL 13.0-17.0\n",
      "EDTA Whole Blood)\n",
      "Haematocrit 46.4 % 40.0-50.0\n",
      "EDTA Whole Blood\n",
      "MCV Tio L fl 83-101\n",
      "MCH 252 & pg 27 .0-32.0\n",
      "EDTA Whole Biood\n",
      "MCHC 32.3 g/dL 31.5-34.5\n",
      "EDTA Whole Blood\n",
      "RDW 18.8 H % 11.6-14.0\n",
      "EDTA Whole Blood)\n",
      "= ea leukocyte count 13.96 H X 10°9N-. 4-10\n",
      "\" OTA Whole Biloos Auiomated)\n",
      "Neutrophils 132 % 40-80\n",
      "(EDTA Whole Blood)\n",
      "Lymphocytes 17 © % 20-40\n",
      "EDTA Whole Blood)\n",
      "Monocytes 8.3 %o 2-10\n",
      "EDTA Whole Blood)\n",
      "DR. ARCHANA VAZIFDAR DR. SEENA GEORGE\n",
      "M.D.,.Fellowship Oncopath\n",
      "\n",
      "M.D ( Pathology)\n",
      "Consultant Hematopathologist\n",
      "Laboratory Medicine\n",
      "\n",
      "Consultant Surgical Pathologist\n",
      "Laboratory Medicine\n",
      "\n",
      "Sieneas scenes\n",
      "\n",
      "_— eR Rt\n",
      "\n"
     ]
    }
   ],
   "source": [
    "img = 'IMG_20210920_175000.jpg'\n",
    "text = pytesseract.image_to_string('dataset/'+img)\n",
    "print(text)"
   ]
  },
  {
   "cell_type": "code",
   "execution_count": 19,
   "id": "fa24fa37",
   "metadata": {},
   "outputs": [
    {
     "name": "stdout",
     "output_type": "stream",
     "text": [
      "Leukocyte count:  13.96\n",
      "Red Blood Cell count:  5.96\n",
      "Haemoglobin Count:  15.0\n",
      "Packed Cell Volume: 46.4%\n",
      "Mean Cell Volume:  Not Available\n",
      "Mean Corpuscular Hb Conc.:  32.3\n",
      "Red Cell Dist.:  18.8\n",
      "Platelet Count:  Not Available\n",
      "Mean Platelet Volume:  Not Available\n"
     ]
    }
   ],
   "source": [
    "extract(text)"
   ]
  },
  {
   "cell_type": "markdown",
   "id": "5c7e8919",
   "metadata": {},
   "source": [
    "## IMG_20210920_175110.jpg - OCR issue"
   ]
  },
  {
   "cell_type": "code",
   "execution_count": 20,
   "id": "bc9626af",
   "metadata": {},
   "outputs": [
    {
     "name": "stdout",
     "output_type": "stream",
     "text": [
      "L)\n",
      "\n",
      "Himatbhai Hirabhai Umar\n",
      "\n",
      "ent ID 0010137028\n",
      "\n",
      "Dr. Ems Physician\n",
      "\n",
      "a eenmemnanaaaas ———\n",
      "\n",
      "ania Age/Gender: 73 y/M\n",
      "Visit Type\n",
      "Contact\n",
      "\n",
      "OP\n",
      "\n",
      "» Reliance\n",
      "\n",
      "- Foundat\n",
      "\n",
      "nets LACLEDE —\n",
      "\n",
      "Collected : 22/08/2018 12:40\n",
      "Received : 22/08/2018 12:40\n",
      "Reported : 22/08/2018 14:32\n",
      "\n",
      "DEPARTMENT OF LABORATORY MEDICINE - HAEMATOLOGY\n",
      "\n",
      "* ea By\n",
      "session 1800072551\n",
      "Test Name\n",
      "\n",
      "Eosinophils\n",
      "Basophils\n",
      "DTA Whole B\n",
      "\n",
      "Ne doe ideng\n",
      "(f Vhole B\n",
      "\n",
      "| mil pi yles#\n",
      ". Whoie Blood\n",
      "\n",
      "Monox ytes#\n",
      "\n",
      "| Whole B\n",
      "\n",
      "E¢ —.\n",
      "A le Blo\n",
      "\n",
      "Bi megabit\n",
      "\n",
      "NVhole Blood)\n",
      "\n",
      "Platelet Count\n",
      "\n",
      "TA Whole Blood)\n",
      "\n",
      "MPV\n",
      "\n",
      "DR. ARCHANA VAZIFDAR\n",
      "\n",
      "M.D { Pathology)\n",
      "Consultant Hematopathologist\n",
      "Laboratory Medicine\n",
      "\n",
      "Result\n",
      "\n",
      "0.08\n",
      "0.03\n",
      "341\n",
      "\n",
      "8.6\n",
      "\n",
      "Mase:\n",
      "\n",
      "a\n",
      "\n",
      "Units\n",
      "\n",
      "x10*°9 celis'1\n",
      "\n",
      "x10°9 cells/L\n",
      "\n",
      "x10°9 celis/l\n",
      "\n",
      "ee Raperence Range\n",
      "\n",
      "01-06\n",
      "\n",
      "0.2-1.0\n",
      "\n",
      "DR. PREESHA BALAN\n",
      "\n",
      "MD,DNB, FRCPath. (UK)\n",
      "Clinical Associate\n",
      "Laboratory Medicine\n",
      "\n",
      "x10°9 celis/L. 0.02-0.5\n",
      "x10°9 cells/L 0.0-0.1\n",
      "X 10*°9/. 450-410\n",
      "fl 75-10.5\n",
      "DR. SEENA GEORGE\n",
      "\n",
      "M.D.,Fellowship Oncopath\n",
      "Consultant Surgical Pathologist\n",
      "Laboratory Medicine\n",
      "\n",
      "Page 2 of 3\n",
      "\n",
      "\n"
     ]
    }
   ],
   "source": [
    "img = 'IMG_20210920_175110.jpg'\n",
    "text = pytesseract.image_to_string('dataset/'+img)\n",
    "print(text)"
   ]
  },
  {
   "cell_type": "markdown",
   "id": "af14f9c3",
   "metadata": {},
   "source": [
    "## IMG_20210920_175315.jpg - Main Regex Issue, minor OCR issue"
   ]
  },
  {
   "cell_type": "code",
   "execution_count": 21,
   "id": "24784059",
   "metadata": {},
   "outputs": [
    {
     "name": "stdout",
     "output_type": "stream",
     "text": [
      "DR. ANSARI’S PATHOLOGY LABORATORY\n",
      "\n",
      "CONSULTANT PATHOLOGISTS\n",
      "\n",
      "pr. S- A- 4 ari — Dr. (Mrs.) Talat S.Ansari\n",
      "wD. (Pat-?- SD B; M.B.B S. (Mum.) M.D. (Path.), D-P.B; M.B.B.S. (Mum.)\n",
      "MMC Reg- N eS MMC Reg. Nos.: 39051 & 6478\n",
      "eNAVJIVA THOLOGY & X-RAY CLINIC KEDY DIAGNOSTIC CENTRE ° DAWOOD NURSING HOME\n",
      "\n",
      "7/101, 106, 107, Navjivan Society, Lamington Road, 78/79/80, Kedy Shopping Centre, 21. Memni Bldg. Dimitikar Rd.,\n",
      "\n",
      "Os, eee Bellasis Road, Mumbai-400 008, Mumbai-400 008,\n",
      "9, 2307 9490 Phone : 2301 0084 Phone : 2301 5797 / 2305 1797\n",
      ") a.m. to 5.00 p.m. Timing : 8.00 a.m. to 5.00 p.m. Timing : 8.00 a.m. to 5.00 p.m\n",
      "Lab ID - Biai |\n",
      "we i | WUUSALWANLO\n",
      "\n",
      "patient Name : Mr. HIMMATBHAI UMRANIA |Reg. Date - 08/05/2018\n",
      "\n",
      "Ref By = Di ps ie Sues [Report Date : 08/05 /2018\n",
      "\n",
      "Cons. Dr. rae | Age/Sex - 74 Year/Male\n",
      "\n",
      "Main Lab\n",
      "\n",
      "Location\n",
      "\n",
      "HAEMOGRAM\n",
      "\n",
      "INVESTIGATION RESULT REF RANGE UNIT\n",
      "Leucocytes 13,500 4000 to 11000 per cu.mm.\n",
      "Erythrocytes 3.46 4.6 to 6.2 mill/cu.mm.\n",
      "Haemoglobin 9.00 14 to 18 gm/dl\n",
      "Haematocrit 27.80 40 to 54 %\n",
      "\n",
      "Mean Cell Volume 80.64 78 to 94 fl\n",
      "\n",
      "Mean Cell Hb. 26.01 27 to 32 pg\n",
      "\n",
      "Mean Cell Hb. Conc. 32.26 32 to 36 g/dl\n",
      "Platelets 330000 150000.to 450000 per cu.mm.\n",
      "DIFFERENTIAL LEUCO\n",
      "\n",
      "Neutrophils 76 40 to 75 %\n",
      "Eosinophils 03 ito6 %\n",
      "Basophils 00 0 to 0.5 %\n",
      "Lymphocytes 17 20 to 45 %o\n",
      "Monocytes 04 2 to 8 %\n",
      "\n",
      "Band Forms 00 0 to 3 %\n",
      "Morphology of Leucocytes : NORMAL\n",
      "\n",
      "Morphology of Erythrocytes - MICROCYTOSIS (+) ; MACROCYTOSIS (+),\n",
      "\n",
      "HYPOCHROMIA (+), ANISOCYTOSIS (+).\n",
      "\n",
      "Platelets on Smear :Adequate On Smear\n",
      "\n",
      "TESTS PERFORMED ON SYSMEX XP 400(JAPAN)/MEDONIC CELL ANALYSER(SWEDEN)\n",
      "\n",
      "-=--END OF REPORT-----\n",
      "Results relate only to the sample as received. Kindly Correlate with clinical conditions.\n",
      "\n",
      "Dr. S.A. oad - (Mrs.) Talat S. Ansari\n",
      "\n",
      "M.D.(Path),F.C.P.S; D.P.B; M.B.B.S.\n",
      "\n",
      "‘D.(Path.), D.P.B; M.B.B.S.\n",
      "\n",
      "\n"
     ]
    }
   ],
   "source": [
    "img = 'IMG_20210920_175315.jpg'\n",
    "text = pytesseract.image_to_string('dataset/'+img)\n",
    "print(text)"
   ]
  },
  {
   "cell_type": "code",
   "execution_count": 22,
   "id": "de5b9bbf",
   "metadata": {},
   "outputs": [
    {
     "data": {
      "text/plain": [
       "'DR. ANSARI’S PATHOLOGY LABORATORY\\n\\nCONSULTANT PATHOLOGISTS\\n\\npr. S- A- 4 ari — Dr. (Mrs.) Talat S.Ansari\\nwD. (Pat-?- SD B; M.B.B S. (Mum.) M.D. (Path.), D-P.B; M.B.B.S. (Mum.)\\nMMC Reg- N eS MMC Reg. Nos.: 39051 & 6478\\neNAVJIVA THOLOGY & X-RAY CLINIC KEDY DIAGNOSTIC CENTRE ° DAWOOD NURSING HOME\\n\\n7/101, 106, 107, Navjivan Society, Lamington Road, 78/79/80, Kedy Shopping Centre, 21. Memni Bldg. Dimitikar Rd.,\\n\\nOs, eee Bellasis Road, Mumbai-400 008, Mumbai-400 008,\\n9, 2307 9490 Phone : 2301 0084 Phone : 2301 5797 / 2305 1797\\n) a.m. to 5.00 p.m. Timing : 8.00 a.m. to 5.00 p.m. Timing : 8.00 a.m. to 5.00 p.m\\nLab ID - Biai |\\nwe i | WUUSALWANLO\\n\\npatient Name : Mr. HIMMATBHAI UMRANIA |Reg. Date - 08/05/2018\\n\\nRef By = Di ps ie Sues [Report Date : 08/05 /2018\\n\\nCons. Dr. rae | Age/Sex - 74 Year/Male\\n\\nMain Lab\\n\\nLocation\\n\\nHAEMOGRAM\\n\\nINVESTIGATION RESULT REF RANGE UNIT\\nLeucocytes 13,500 4000 to 11000 per cu.mm.\\nErythrocytes 3.46 4.6 to 6.2 mill/cu.mm.\\nHaemoglobin 9.00 14 to 18 gm/dl\\nHaematocrit 27.80 40 to 54 %\\n\\nMean Cell Volume 80.64 78 to 94 fl\\n\\nMean Cell Hb. 26.01 27 to 32 pg\\n\\nMean Cell Hb. Conc. 32.26 32 to 36 g/dl\\nPlatelets 330000 150000.to 450000 per cu.mm.\\nDIFFERENTIAL LEUCO\\n\\nNeutrophils 76 40 to 75 %\\nEosinophils 03 ito6 %\\nBasophils 00 0 to 0.5 %\\nLymphocytes 17 20 to 45 %o\\nMonocytes 04 2 to 8 %\\n\\nBand Forms 00 0 to 3 %\\nMorphology of Leucocytes : NORMAL\\n\\nMorphology of Erythrocytes - MICROCYTOSIS (+) ; MACROCYTOSIS (+),\\n\\nHYPOCHROMIA (+), ANISOCYTOSIS (+).\\n\\nPlatelets on Smear :Adequate On Smear\\n\\nTESTS PERFORMED ON SYSMEX XP 400(JAPAN)/MEDONIC CELL ANALYSER(SWEDEN)\\n\\n-=--END OF REPORT-----\\nResults relate only to the sample as received. Kindly Correlate with clinical conditions.\\n\\nDr. S.A. oad - (Mrs.) Talat S. Ansari\\n\\nM.D.(Path),F.C.P.S; D.P.B; M.B.B.S.\\n\\n‘D.(Path.), D.P.B; M.B.B.S.\\n\\n'"
      ]
     },
     "execution_count": 22,
     "metadata": {},
     "output_type": "execute_result"
    }
   ],
   "source": [
    "text"
   ]
  },
  {
   "cell_type": "code",
   "execution_count": 23,
   "id": "3702f195",
   "metadata": {},
   "outputs": [],
   "source": [
    "mcv_re = re.compile(r'(.*[Mm]ean [Cc]orpuscular [Vv]olume\\D*|.*[mM][cC][vV]\\D*|.*[Mm]ean [Cc]ell [Vv]olume\\D*) ([\\d,.]+) ')"
   ]
  },
  {
   "cell_type": "code",
   "execution_count": 24,
   "id": "764d81c2",
   "metadata": {},
   "outputs": [],
   "source": [
    "mcv = mcv_re.search(text)"
   ]
  },
  {
   "cell_type": "code",
   "execution_count": 25,
   "id": "d9e553ab",
   "metadata": {},
   "outputs": [
    {
     "name": "stdout",
     "output_type": "stream",
     "text": [
      "80.64\n"
     ]
    }
   ],
   "source": [
    "print(mcv[2])"
   ]
  },
  {
   "cell_type": "code",
   "execution_count": 26,
   "id": "63b2cf9e",
   "metadata": {},
   "outputs": [],
   "source": [
    "mch_re = re.compile(r'(.*[Mm]ean [Cc]ell [Hh]b\\D*|.*[mM][cC][hH]\\D*) ([\\d,.]+) ')\n"
   ]
  },
  {
   "cell_type": "code",
   "execution_count": 27,
   "id": "d1121d47",
   "metadata": {},
   "outputs": [],
   "source": [
    "mch = mch_re.search(text)"
   ]
  },
  {
   "cell_type": "code",
   "execution_count": 28,
   "id": "ae133e9c",
   "metadata": {},
   "outputs": [
    {
     "name": "stdout",
     "output_type": "stream",
     "text": [
      "26.01\n"
     ]
    }
   ],
   "source": [
    "print(mch[2])"
   ]
  },
  {
   "cell_type": "code",
   "execution_count": 29,
   "id": "0a205820",
   "metadata": {},
   "outputs": [],
   "source": [
    "mchc_re = re.compile(r'(.*[mM][cC][hH][cC]\\D*|.*[Mm]ean [Cc]ell [Hh]b[\\.]* [Cc]onc[\\b]*\\D*) ([\\d,.]+) ')"
   ]
  },
  {
   "cell_type": "code",
   "execution_count": 30,
   "id": "ad6f992c",
   "metadata": {},
   "outputs": [],
   "source": [
    "mchc = mchc_re.search(text)"
   ]
  },
  {
   "cell_type": "code",
   "execution_count": 31,
   "id": "a14040ba",
   "metadata": {},
   "outputs": [
    {
     "name": "stdout",
     "output_type": "stream",
     "text": [
      "32.26\n"
     ]
    }
   ],
   "source": [
    "print(mchc[2])"
   ]
  },
  {
   "cell_type": "code",
   "execution_count": 32,
   "id": "72a88889",
   "metadata": {},
   "outputs": [],
   "source": [
    "pc_re = re.compile(r'(.*[Pp]la[Ee]*telet[s]* [Cc]ount\\D*|.*[Pp]la[Ee]*telet[s]*\\D*) ([\\d,.]+) ')"
   ]
  },
  {
   "cell_type": "code",
   "execution_count": 33,
   "id": "e0b9d7b4",
   "metadata": {},
   "outputs": [],
   "source": [
    "pc = pc_re.search(text)"
   ]
  },
  {
   "cell_type": "code",
   "execution_count": 34,
   "id": "4e540ab6",
   "metadata": {},
   "outputs": [
    {
     "name": "stdout",
     "output_type": "stream",
     "text": [
      "330000\n"
     ]
    }
   ],
   "source": [
    "print(pc[2])"
   ]
  },
  {
   "cell_type": "code",
   "execution_count": 35,
   "id": "b0a12b61",
   "metadata": {},
   "outputs": [
    {
     "name": "stdout",
     "output_type": "stream",
     "text": [
      "Leukocyte count:  13.5\n",
      "Red Blood Cell count:  3.46\n",
      "Haemoglobin Count:  9.0\n",
      "Packed Cell Volume: 27.8%\n",
      "Mean Cell Volume:  80.64\n",
      "Mean Corpuscular Hb Conc.:  32.26\n",
      "Red Cell Dist.:  Not Available\n",
      "Platelet Count:  330000.0\n",
      "Mean Platelet Volume:  Not Available\n"
     ]
    }
   ],
   "source": [
    "extract(text)"
   ]
  },
  {
   "cell_type": "markdown",
   "id": "d7413e8b",
   "metadata": {},
   "source": [
    "## IMG_20210920_180404.jpg - OCR Issue: Bad image"
   ]
  },
  {
   "cell_type": "code",
   "execution_count": 36,
   "id": "b3485738",
   "metadata": {},
   "outputs": [
    {
     "name": "stdout",
     "output_type": "stream",
     "text": [
      "i.\n",
      "\n",
      "ii Vivir) iw\n",
      "\n",
      "WOES § } A\n",
      "\n",
      "*\n",
      "\n",
      "80) Jay\n",
      "\n",
      "ALi8 J es\n",
      "\n",
      "N. M. MEDICAL CENTRE\n",
      "(e\n",
      "\n",
      "Leaders in hi-tech diagnosis\n",
      "\n",
      "CHOWPATTY CENTRE : — uae RAMABAI ROAD, MUMBAI - 400 007\n",
      "\n",
      ": : AX : 91-22-368 8008 :\n",
      "SANDRA CENTRE : oe 27th ROAD, OPP. BANDRA TALKIES, OFF LINKING ROAD\n",
      "(W), MUMBAI - 400 O50. PHONE : 645 9850\n",
      "\n",
      "53545\n",
      "\n",
      "YQ\n",
      "BR\n",
      "\n",
      "ST a\n",
      "feucocy tes BC) per c.mm & O00 4000-11600\n",
      "eythrocytes (RBC) Mill/c.mm 5.43 5.5] 50}\n",
      "Esemogiobin (HGB) gm % Fi0.1 14-18 12-16\n",
      "22a Ce o me HCT) % S72 40-54 27-47\n",
      "@ . 3 , F . A On.O7\n",
      "gZoan Corp.Volume (mMc¥) uu? $68.6 Q>.-9? a }\n",
      "Z é shit or as O-t E>\n",
      "dean Corp. HGe (MCH) uugm yin.6 i a es\n",
      "Zt... ZL ID on\n",
      "4240) Core iSR CONC (MCHC ) e 4 O72 CS: > ?\n",
      "- : vas oe mMmmoaldn OGY\n",
      "Breer COUNT ATyY® CELLS e eC. MOR: HOLL OGY\n",
      "ig . etal ree as\n",
      "ae : ‘ i\n",
      "Ty at 3 O HY POCHROMASTA ’\n",
      "trophils Go % ATYP.LYMPHS 09 « WYO f\n",
      "Y PLASMA CELLS 00 % ANTSOCYTOSTIS 4\n",
      "Band Heutro OG 4% PLP ree\n",
      "ci :\n",
      "\"ey 9 Creel t2 (298 eee TIS Ts {\n",
      "+ Of % METAMYELO OG % BOT. LLUGY I! >\n",
      "| se “A .\n",
      "ary a\n",
      "00 % MEI GCY EES OO % POL YCHROMA tA\n",
      "— en 2 4 &. oi a Be i\n",
      "Basophils ns\n",
      "ARO DOC YTES\n",
      ": a6 PROMYELO 00 % MACROCYTES\n",
      "‘teas i eae :\n",
      "TOOMCY TES 4\n",
      "STs 00 % MICRO 1 2\n",
      "g 3S oH) @\n",
      "ae - r e 4\n",
      "PENCIL SHAPED CELLS\n",
      "Be\n",
      "TEAR DROP CELLS +\n",
      "\n",
      "NORMAL RANGE ~ 4\n",
      "\n",
      "LAKHS /c.mm\n",
      "4YPOCHROMTIC ANAEMIA ~\n",
      "\n",
      "DR. AYK. SINGH\n",
      "\n",
      "M.D.,D.P.B.,D.N.8.\n",
      "CONSULTANT PATHOLOGIST\n",
      "\n",
      "ieee’ ai Soo AMEE LEAD CLES\n",
      "\n",
      "\n"
     ]
    }
   ],
   "source": [
    "img = 'IMG_20210920_180404.jpg'\n",
    "text = pytesseract.image_to_string('dataset/'+img)\n",
    "print(text)"
   ]
  },
  {
   "cell_type": "markdown",
   "id": "8a354c65",
   "metadata": {},
   "source": [
    "## IMG_20210920_180409.jpg - OCR issue: bad image"
   ]
  },
  {
   "cell_type": "code",
   "execution_count": 40,
   "id": "eca58f22",
   "metadata": {},
   "outputs": [
    {
     "name": "stdout",
     "output_type": "stream",
     "text": [
      "4 IYO? Wai\n",
      "Kany\n",
      "\n",
      "PNUD) UO)\n",
      "\n",
      "N. M. MEDICAL CENTRE\n",
      "\n",
      "Leaders in hi-tech diagnosis\n",
      "\n",
      "CHOWPATTY CENTRE : MEHTA HOUSE, 36, PA\n",
      "BANDRA CENTRE : SHAMSUNDER, 27th ROAD\n",
      "\n",
      "NAME «MISS. SWATI MEHTA\n",
      "\n",
      "REFERRED BY: DR. S. A. DOSHT LAB NO.\n",
      "\n",
      "DATE: 13/11/98 AGE : 23 YEARSSEx\n",
      "\n",
      "EXAMINATION GF BLoOoG\n",
      "\n",
      "NDITA RAMABAI ROAD, MUMBAI - 400 007.\n",
      "PHONE : 368 8001 FAx: 91-22-368 8008\n",
      "\n",
      ", OPP. BANDAA TALKIES, OFF LINKING ROAD,\n",
      "BANDRA (W), MUMBAI - 400 050. PHONE : 6845 9850\n",
      "\n",
      "EST\n",
      "laucocy tes CWBC) ber c.mm 5 O66\n",
      "pythrocy tes CRBC) Malil/e.mm 5.42\n",
      "igamoglobin (HGR) gm % bie 4\n",
      "Mack Cell Volume CHCT) % eee.\n",
      "lean Corp.Volume (MCV) ue 268.6\n",
      "jean Corp.HGB (MCH) uugm 212.6\n",
      "fean Corp.HG@B.cONC. (MCHC) % oI\n",
      "TPE .COUNT ae cal ie\n",
      "oph! ae G2 ATYP.LYMPHS 00 %\n",
      "ye UL pal.\n",
      "Band Neutro OO % PLASMA CELLS OO %\n",
      "a BOP %\n",
      "J} OS % METAMY £10 OC\n",
      "\n",
      "MYELOCYTES 60 %\n",
      "\n",
      "%\n",
      "20, % PROMYELO CS %\n",
      "Lymphocytes eG\n",
      "\n",
      "RLASTS OO %\n",
      "\n",
      "Monocytes O?2 %\n",
      "\n",
      "mei Ler Jo mM i\n",
      "ee eROMIC ANAEMIA.\n",
      "\n",
      ": CYTIG HYPOCK\n",
      "REMARKS : MICRO\n",
      "\n",
      "CONSULTANT PAT\n",
      "\n",
      "seston tsar\n",
      "\n",
      "OTs =\n",
      "HY POCHROM ASTA\n",
      "\n",
      "POLKILOCY\n",
      "\n",
      "HOLOGIST\n",
      "\n",
      "<4\n",
      "\n",
      "~.\n",
      "\n",
      "“a\n",
      "\n",
      "Pr\n",
      "\n",
      "o\n",
      "\n",
      ",\n",
      "\n",
      "y\n",
      "\n",
      "2\n",
      "+\n",
      "3\n",
      "+\n",
      "Pa\n",
      "<\n",
      "2\n",
      "<\n",
      "<\n",
      "~\n",
      "*\n",
      "~\n",
      "~\n",
      "=\n",
      "} fr \\ n\n",
      "yf |\n",
      "\n",
      "sa\n",
      "\n",
      "\n"
     ]
    }
   ],
   "source": [
    "img = 'IMG_20210920_180409.jpg'\n",
    "text = pytesseract.image_to_string('dataset/'+img)\n",
    "print(text)"
   ]
  },
  {
   "cell_type": "markdown",
   "id": "34c89075",
   "metadata": {},
   "source": [
    "# Data preprocessing"
   ]
  },
  {
   "cell_type": "markdown",
   "id": "1eea871e",
   "metadata": {},
   "source": [
    "## Greyscale and removing noise"
   ]
  },
  {
   "cell_type": "code",
   "execution_count": 39,
   "id": "7e2c5c13",
   "metadata": {},
   "outputs": [],
   "source": [
    "DATADIR = \"E:/Programming/Data Science/Jupyter/Home/KJ Somaiya/LY Proj/dataset\"\n",
    "for img in os.listdir(DATADIR):\n",
    "    image = cv2.imread('dataset/'+img)\n",
    "    print(img)\n",
    "    image = cv2.cvtColor(image, cv2.COLOR_BGR2GRAY)\n",
    "    image = cv2.medianBlur(image, 1)\n",
    "#     image = cv2.threshold(image, 0, 255, cv2.THRESH_BINARY + cv2.THRESH_OTSU)[1]\n",
    "    text = pytesseract.image_to_string(image)\n",
    "    extract(text)\n",
    "    print(\"----------------------------------\")"
   ]
  },
  {
   "cell_type": "code",
   "execution_count": null,
   "id": "6fcb3de1",
   "metadata": {},
   "outputs": [],
   "source": []
  },
  {
   "cell_type": "code",
   "execution_count": 41,
   "id": "097dc7a8",
   "metadata": {},
   "outputs": [],
   "source": [
    "import scispacy\n",
    "import spacy"
   ]
  },
  {
   "cell_type": "code",
   "execution_count": null,
   "id": "0a57537d",
   "metadata": {},
   "outputs": [
    {
     "name": "stdout",
     "output_type": "stream",
     "text": [
      "[COMPUTRISED\n",
      "CLINICAL LABORATORY\n",
      "\n",
      "Pationt, MR, SANJAY, RAMCHANDRA, AVHAD\n",
      "\n",
      "Referral, Dhadiwal Hospital\n",
      "Report, Sample Date, LABORATORY REPORT “\n",
      "\n",
      "‘Age, years, Male, Reg, ID, Complete Blood Count, Range\n",
      "Haemoglobin, COUNT\n",
      ", Neutrophil, Lymphocytes, Monocytes, 00\n",
      "RBC, Indices\n",
      "Haematocrit, HCT, RBC, Count, miliemm, MCH, Platelet indices\n",
      ", Platelet Count, MPV, PDW, PCT, Automatic Nihon Kohden MEK-6420P, Haematology Analyser\n",
      "\n",
      ", computer, authentic, document, physical signature, REPORTING\n",
      "1 re not Medical Dia\n",
      "\n",
      "Mrs. Namrata D. Deore, D.M.L.T, Pune, REPORT*\n",
      "\n",
      ", HOSPITAL\n",
      "SHREEJI, CARE\n",
      "\n",
      "Opp, Trimbak\n",
      "\n",
      "ef *\n",
      "ie\n",
      "\n",
      "Dr., S.R.Shinde\n",
      "MBBS, DCP, Reg NO.40660\n",
      "Consulting Pathologist\n",
      "\n",
      "Road, Nashik]\n",
      "----------------------------------\n",
      "[EE, COME\n",
      "\n",
      "L LABORATORY REPORT\n",
      "\n",
      "Patient, MR, SANJAY, RAMCHANDRA, AVHAD\n",
      "\n",
      "‘Age, years, Male\n",
      "Referral, Dhadiwal Hospital z years, Male, Reg, 15409\n",
      "Report, Sample Date, Range\n",
      "Haemoglobin, gmidt, Neutrophil, Lymphocytes, Indices\n",
      "\n",
      "Haematocrit, HCT, Count, ermm, MCH, MPV, PCT, Automatic Nihon Kohden MEK-6420P, Haematology Analyser\n",
      "\n",
      "“END OF REPORT™*\n",
      ", computer, authentic, document, physical signature\n",
      "\n",
      "(ae\n",
      "ee\n",
      "Dr., |\n",
      "Seeing Paoli\n",
      "\n",
      "HER) Mrs. Namrata D. Deore, D.M.L.T, Pune, HOSPITAL\n",
      "HRESJ!, Bazar, Nashik]\n",
      "----------------------------------\n",
      "[mmohan Roy Road, Girgaon, Mumbai, 400004\n",
      "1800221166\n",
      "\n",
      "Jebsite, www.rfhospital.org\n",
      "\n",
      ", Reliance, aes\n",
      "\n",
      ", Re\n",
      "\n",
      "ros\n",
      "\n",
      "Name, Himatbhai, Hirabhai, Umarania, y/M, Collected, Patient, ID, Visit Type, OP, Dr. Hemal Shah Contact, Accession, LABORATORY MEDICINE, HAEMATOLOGY\n",
      ">, Biological Reference Range, Red cell, Blood\n",
      "Haemoglobin, Haematocrit, Blood\n",
      ", MCV, MCH, Biood\n",
      "MCHC, Blood\n",
      "RDW, ROTA, Whole Blood Auiomated, Neutrophils, EDTA Whole Blood, Lymphocytes, Monocytes, DR, ARCHANA, VAZIFDAR, DR, M.D.,.Fellowship, Oncopath\n",
      "\n",
      "M.D, Pathology, RN]\n",
      "----------------------------------\n",
      "[aA ee\n",
      "\n",
      "ae :\n",
      "\n",
      ", H. N\n",
      "Raja, Roy Road, Lime J »\n",
      "Prarthana Samaj, Girgaon, Rehance\n",
      "\n",
      "Call Centre, Foundation Hospital\n",
      "Website, Resesrch, Centce\n",
      "Name, Himatbhai, Hirabhai, Umarania, Collected, PatientID, Visit Type, OP, Dr. Hemal Shah Contact, Accession, Sie cee poige eee ee Z\n",
      "DEPARTMENT, LABORATORY MEDICINE, HAEMATOLOGY\n",
      ", Result, Biological Reference Range, EDTA Whole Blood, Basophils, EDTA Whole Blood, Neutrophils, x1049, EDTA Whole Blood, Lymphocytes, x1049, EDTA Whole Blood, Monocytes, x1049, EDTA Whole Blood, Eosinophils, x1049, EDTA Whole Blood, Basophils, EDTA Whole Blood, EDTA Whole Blood, ail\n",
      "(EDTA Whole Blood)\n",
      "\n",
      "Avan ifdan, DR, ARCHANA, VAZIFDAR, DR, SEENA GEORGE\n",
      "\n",
      "M.D, Pathology]\n",
      "----------------------------------\n",
      "[|\n",
      "\n",
      "Raja, Roy Road, Girgaon, Mumbai, Rehance\n",
      "r Koundation Hospital\n",
      "\n",
      "And Research Centre\n",
      "\n",
      "Website, www.rfhospital.org\n",
      "Name, Himatbhai, Hirabhai, Umarania, y/M, Collected, Patient, ID, Visit Type, |\n",
      "Referred, Dr. Ems, Physician, Contact, Accession, LABORATORY MEDICINE, HAEMATOLOGY\n",
      "Test, Biological Reference Range, Sof TORT, ZANE, EDTA Whole Blood, EDTA Whole Blood, Haematocrit, EDTA Whole Blood, MCV, EDTA Whole Blood, MCH, LE, EDTA Whole Blood, EDTA Whole Blood, RDW, EDTA Whole Blood, Total leukocyte count, EDTA Whole Blood, Neutrophils, EDTA Whole Blood, Lymphocytes, EDTA Whole Blood, Monocytes, EDTA Whole Blood, DR, ARCHANA, VAZIFDAR, DR, PREESHA, BALAN, DR, Pathology, DNB, FRCPath, UK]\n",
      "----------------------------------\n",
      "[»\n",
      "\n",
      "Himatbhai Hirabhai, Umar\n",
      "\n",
      "ent ID, Ems Physician, nmnananaas, —\n",
      "\n",
      "ania, Age/Gender:73y/M\n",
      "Visit, Type\n",
      "Contact\n",
      "\n",
      "OP\n",
      "\n",
      ", Foundat\n",
      "\n",
      "nee LICENCED, Collected, Received, Reported, LABORATORY MEDICINE, HAEMATOLOGY\n",
      "\n",
      "* ea By\n",
      "session, Name\n",
      "\n",
      "Eosinophils, Basophils\n",
      ", DTA, Whole B\n",
      "\n",
      "Ne doe, idony\n",
      "(f Vhole B\n",
      "\n",
      "| my pin, yles, Whoie, Blood\n",
      "\n",
      "Monox, ytes, Whole B\n",
      "\n",
      "E¢ coos, thie\n",
      "A le Blo\n",
      "\n",
      "Bi tig labo\n",
      "\n",
      "NVhole Blood)\n",
      "\n",
      "Platelet Count\n",
      "\n",
      "TA, Whole Blood, MPV\n",
      "\n",
      "DR, ARCHANA VAZIFDAR\n",
      "\n",
      "M.D { Pathology, celis'l\n",
      "\n",
      "x10, PREESHA, BALAN\n",
      "\n",
      "MD, DNB, FRCPath, UK]\n",
      "----------------------------------\n",
      "[DR, ANSARIS, LABORATORY\n",
      "\n",
      "CONSULTANT PATHOLOGISTS\n",
      "\n",
      "pr., ari, Dr., M.B.B S., Path, D-P.B, M.B.B.S., MMC, Reg- N Sie MMC, Reg, X-RAY CLINIC, DAWOOD, HOME\n",
      "\n",
      ", Navjivan Society, Lamington Road, Kedy Shopping Centre, Memni Bldg, Dimitikar Rd, ane Bellasis Road, Mumbai-400, Phone, Phone, Timing, Timing, ID, Bias, |\n",
      "a i | WUUALWANLO\n",
      "\n",
      "patient, Mr. HIMMATBHAI, UMRANIA, Date, DEP, Report, Dr., eae, Age/Sex, Year/Male\n",
      "\n",
      "Main Lab\n",
      "\n",
      "Location\n",
      "\n",
      "HAEMOGRAM\n",
      "\n",
      "INVESTIGATION, UNIT\n",
      "Leucocytes, Erythrocytes, mill/cu.mm, Haemoglobin, Haematocrit, Hb, g/dl\n",
      "Platelets, Neutrophils, Eosinophils, Basophils, Lymphocytes, Monocytes, Morphology, Leucocytes, NORMAL\n",
      "\n",
      "Morphology, Erythrocytes, MICROCYTOSIS, MACROCYTOSIS, ANISOCYTOSIS, Platelets, Smear, Adequate, Smear\n",
      "\n",
      "TESTS PERFORMED ON SYSMEX XP 400(JAPAN)/MEDONIC CELL ANALYSER(SWEDEN)\n",
      "\n",
      "---END OF, REPORT-----\n",
      "Results, sample, Kindly Correlate, clinical conditions, D.P.B, D.(Path, D.P.B]\n",
      "----------------------------------\n",
      "[lic\n",
      "\n",
      "ii hive, iw\n",
      "\n",
      "WOATE § } A\n",
      "\n",
      "*\n",
      "\n",
      "80, hi-tech, diagnosis, CHOWPATTY, es uae RAMABAI, ROAD, MUMBAI, AX, ROAD, OPP, BANDRA, TALKIES, OFF, ROAD\n",
      "(W, MUMBAI, c.mm, RBC, HGB, HCT, F, QD, }\n",
      "Z, shit, Ot, EO\n",
      "dean Corp.HGe, MCH, gin.6G eo oe Zee\n",
      "Zt... ZL, TD, SR, CONC, CMCHC, 4y, OTe, vas, Maman, OGY\n",
      "Breer COUNT ATyve, MOR, OGY\n",
      "iad, eta Pe Sak\n",
      "oe, ’\n",
      "trophils, ATYP.LYMPHS, f\n",
      "Y PLASMA CELLS 00 % ANTSOCYTOSIS 4\n",
      "Band Heutro OO, PLP, Cece, FQ, TIS, METAMYELO, OG, BOT, LUCY I!, GOT, EES, OO, POL, YCHROMA, tA\n",
      "— ae &, Basophils, MACROCYTES\n",
      ", TOOMCY, TES, r, 4\n",
      "PENCIL SHAPED CELLO\n",
      "a\n",
      "TEAR, DROP CELLS, /c.mm\n",
      "AY, POCHROMTIC, PATHOLOGIST\n",
      "\n",
      ", AAR, ARAL, SS, OANA, TAGS\n",
      "\n",
      "]\n",
      "----------------------------------\n"
     ]
    }
   ],
   "source": [
    "DATADIR = \"E:/Programming/Data Science/Jupyter/Home/KJ Somaiya/LY Proj/dataset\"\n",
    "for img in os.listdir(DATADIR):\n",
    "    image = cv2.imread('dataset/'+img)\n",
    "#     print(img)\n",
    "#     image = cv2.cvtColor(image, cv2.COLOR_BGR2GRAY)\n",
    "#     image = cv2.medianBlur(image, 1)\n",
    "#     image = cv2.threshold(image, 0, 255, cv2.THRESH_BINARY + cv2.THRESH_OTSU)[1]\n",
    "    text = pytesseract.image_to_string(image)\n",
    "    nlp = spacy.load(\"en_core_sci_md\")\n",
    "    doc = nlp(text)\n",
    "    print(list(doc.ents))\n",
    "    print(\"----------------------------------\")"
   ]
  },
  {
   "cell_type": "code",
   "execution_count": null,
   "id": "4dbbc937",
   "metadata": {},
   "outputs": [],
   "source": []
  }
 ],
 "metadata": {
  "kernelspec": {
   "display_name": "Python 3 (ipykernel)",
   "language": "python",
   "name": "python3"
  },
  "language_info": {
   "codemirror_mode": {
    "name": "ipython",
    "version": 3
   },
   "file_extension": ".py",
   "mimetype": "text/x-python",
   "name": "python",
   "nbconvert_exporter": "python",
   "pygments_lexer": "ipython3",
   "version": "3.12.6"
  }
 },
 "nbformat": 4,
 "nbformat_minor": 5
}
