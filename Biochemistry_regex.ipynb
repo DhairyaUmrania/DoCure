{
 "cells": [
  {
   "cell_type": "code",
   "execution_count": 1,
   "id": "57b7d88b",
   "metadata": {},
   "outputs": [],
   "source": [
    "import cv2\n",
    "import pytesseract\n",
    "import re\n",
    "import requests\n",
    "import pdfplumber\n",
    "import pandas as pd\n",
    "import os\n",
    "from PIL import Image"
   ]
  },
  {
   "cell_type": "code",
   "execution_count": 2,
   "id": "831981c4",
   "metadata": {},
   "outputs": [],
   "source": [
    "pytesseract.pytesseract.tesseract_cmd = r'C:\\Program Files\\Tesseract-OCR\\tesseract.exe'"
   ]
  },
  {
   "cell_type": "code",
   "execution_count": 4,
   "id": "73606108",
   "metadata": {
    "scrolled": false
   },
   "outputs": [
    {
     "name": "stdout",
     "output_type": "stream",
     "text": [
      "IMG-20211108-WA0010.jpg\n",
      "Sample Date : 31 Oct, 2021, 08:00 a.m,\n",
      "\n",
      "Age : 48 years (Male).\n",
      "Reg. ID :1- 15409\n",
      "\n",
      "Sample 10 : 1\n",
      "MM\n",
      "Test Description rs Cre SHBIEE)\n",
      "Creatinine : nl Reference Range\n",
      "Serum ee 07-14\n",
      "Bilirubin\n",
      "Bilirubin Total (Serum) 7.46 moat Wee\n",
      "Bilirubin Direct 3.50 mgldL Dees\n",
      "Bi bin Indirect 3.66 mg/dL 02-09\n",
      "Electrolytes\n",
      "\n",
      "Jodium 122.4 mEq/L 135 - 150\n",
      "Potassium 3.26 mEq/L. 3.5-5.0\n",
      "\n",
      "Chloride 4112.6 mEq/L. 94-110\n",
      "\n",
      "into Validate\n",
      "\n",
      "“END OF REPORT”\n",
      "\n",
      "This is computer generated authentic document not requiring physical signature\n",
      "\n",
      "(tess\n",
      "Dr. S.RShinde\n",
      "MBBS,DCP_\n",
      "Reg NO.40660\n",
      "Consulting Pathologist\n",
      "\n",
      "\n",
      "----------------------------------\n",
      "IMG-20211108-WA0011.jpg\n",
      "NICAL LABORATORY REPORT.\n",
      "f\n",
      "\n",
      "patient Name: MR. SANJAY RAMCHANDRA avaD\n",
      "[ eteral: Dhadiwal Hospital\n",
      "\n",
      "‘Age : 48 years (Male)\n",
      "Report Date : 01 Nov, 2021, 09:22 am, wade)\n",
      "\n",
      "Sample Date : 01 Nov, 2021, 08:24 a.m\n",
      "\n",
      "Sere HAMLIN\n",
      "Electrolyt\n",
      "Test Description Value(s) i Reference Range\n",
      "Sodium To7.S mEqL 135 - 150\n",
      "Potassium 4.83 mEq/L 35-50\n",
      "Chloride 97.5 mEq/l. 94-110\n",
      "\n",
      "“END OF REPORT**\n",
      "This is computer generated authentic document not requiring physical signature\n",
      "\n",
      "a\n",
      "Dr. S.R.Shinde\n",
      "MBBS,DCP\n",
      "\n",
      "Reg NO.40660\n",
      "Consulting Pathologist\n",
      "\n",
      "Scan to Validate\n",
      "\n",
      "Mrs, Namrata D. Deore (Aher)\n",
      "\n",
      "B.Sc. D.M.LT (Pune)\n",
      "DHADIWAL HOSPITAL\n",
      "SHRECJ! HEALTH CAR\n",
      "Opp. Thakkar Bazar Trimbak\n",
      "\n",
      "\n",
      "----------------------------------\n",
      "IMG_20210920_175044.jpg\n",
      "taja Rammohan Roy Road,\n",
      "Prarthana Samaj, Girgaon,\n",
      "Mumbai - 400004\n",
      "\n",
      "Call Centre : 1800221166\n",
      "\n",
      "www.rfhospital.org\n",
      "\n",
      "| Website :\n",
      "\n",
      "aA\n",
      "\n",
      "Sir H.N\n",
      "“2 Rehance\n",
      "\n",
      "- Foundation Hospital\n",
      "\n",
      "And\n",
      "\n",
      "Research Centre\n",
      "\n",
      "Name\n",
      "PatientID : 0010137028\n",
      "Referred By : Dr. Hemal Shah\n",
      "\n",
      ": Himatbhai Hirabhai Umarania Age/Gender: 73 y/M\n",
      "\n",
      "OP\n",
      ": 8080750123\n",
      "\n",
      "Visit Type\n",
      "Contact\n",
      "\n",
      "Collected : 24/08/2018 05:02 |\n",
      "\n",
      "Accession : 1800073147\n",
      "| DEPARTMENT OF LABORATORY MEDICINE -B\n",
      "Test Name Result Units\n",
      "a] agar ae\n",
      "Potassium 4.89 mmol/L\n",
      "\n",
      "| (Serum, lon-selective electrode)\n",
      "\n",
      "DR. ANJANA HOSANGADI\n",
      "\n",
      "M.D (Pathology) ;\n",
      "Consultant Pathologist\n",
      "Laboratory Medicine\n",
      "\n",
      "°° End of Report °°\n",
      "\n",
      "i\n",
      "Received : 24/08/2018 05:02 |\n",
      "Reported : 24/08/2018 11:19\n",
      "IOCHEMISTRY\n",
      "Biological Reference Range\n",
      "3.5-5.1\n",
      "DR. SRIKANT GHARPURE\n",
      "M.D, DPB, DCP (London)\n",
      "Consultant Pathologist\n",
      "Laboratory Medicine\n",
      "Page 1 of 1\n",
      "\n",
      "sranmerronrtasnanteninneinel\n",
      "\n",
      "seater peer uate DRS AE I TTT\n",
      "\n",
      "----------------------------------\n",
      "IMG_20210920_175052.jpg\n",
      "Raja Rammohan Roy Read,\n",
      "Prarthana Samaj, Girgaon,\n",
      "Mumbai - 400004\n",
      "\n",
      "Call Centre : 1800221166\n",
      "\n",
      "Website : www. rfhospital.ors\n",
      "\n",
      "ieee\n",
      "\n",
      "Name : Himatbhai Hirabhai Umarania Age/Gender : 73 y/M\n",
      "Patient ID: 0010137028\n",
      "Referred By : Dr. Hemal Shah\n",
      "Accession : 1800073147\n",
      "\n",
      "Sir H.N.\n",
      "“9 Rehance\n",
      "\n",
      "Foundation Hospital\n",
      "\n",
      "ANd Research Centre\n",
      "\n",
      "Collected : 24/08/2018 05:02\n",
      "Visit Type :OP Received : 24/08/2018 05:02\n",
      "Contact :8080750123 Reported : 24/08/2018 11:19\n",
      "\n",
      "a\n",
      "a\n",
      "\n",
      "DEPARTMENT OF LABORATORY MEDICINE - BIOCHEMISTRY\n",
      "\n",
      "DR. ANJANA HOSANGADI\n",
      "\n",
      "M.D (Pathology)\n",
      "Consultant Pathologist\n",
      "\n",
      "Laboratory Medicine\n",
      "\n",
      ". Test Name Result Units Biological Reference Range\n",
      "> - meee sedaath 3\n",
      "Potassium 4.89 mmol/L S50). 1\n",
      "(Serum, lon-selective electrode)\n",
      "c° End of Report °°\n",
      "DR. SRIKANT GHARPURE\n",
      "\n",
      "M.D, DPB, DCP (London)\n",
      "Consultant Pathologist\n",
      "Laboratory Medicine\n",
      "\n",
      "Page 1 of 1\n",
      "\n",
      "----------------------------------\n",
      "IMG_20210920_175122.jpg\n",
      "Raja Rammohan Roy Road,\n",
      "Prarthana Samaj, Girgaon,\n",
      "Mumbai - 400004\n",
      "\n",
      "Call Centre : 1800221166\n",
      "\n",
      "Website : www.rfhospital.orge\n",
      "\n",
      "Name : Himatbhai Hirabhai Umarania Age/Gender:\n",
      "PatientID - 90010137028 Visit Type:\n",
      "Referred By : Dr. Ems Physician Contact\n",
      "\n",
      "Accession : 1800072551\n",
      "\n",
      "73y/M\n",
      "OP\n",
      "\n",
      "eel NN,\n",
      "«2 Reliance\n",
      "\n",
      ". Foundation Hospital\n",
      "\n",
      "And Researeh Centre\n",
      "\n",
      "Collected : 22/08/2018 12:40\n",
      "Received : 22/08/2018 12:40 |\n",
      "Reported : 22/08/2018 14:35 |\n",
      "\n",
      "DEPARTMENT OF LABORATORY MEDICINE - BIOCHEMISTRY\n",
      "\n",
      "Test Name Result\n",
      "\n",
      "Units\n",
      "\n",
      "Biological Reference Rang i\n",
      "\n",
      "Creatine Kinase MB (CK-MB) 179\n",
      "(Serum,CMIA/Electrochemiluminescence)\n",
      "Clinical Information / Interpretation:\n",
      "CK-MB:\n",
      "\n",
      "Creatine kinase - MB levels increase with myocardial dary\n",
      "\n",
      "ng/mL\n",
      "\n",
      "0-5.20\n",
      "\n",
      "lage. Extreme elevations of CKMB can also be associated with skeletal\n",
      "\n",
      "muscle cell turnover as in polymyositis or to a lesser degree in rhabdomyolysis, carbon monoxide poisoning, crush injuries,\n",
      "pulmonary embolism, hypothyroidism and muscular dystrophy. Serial quantitation of serum creatine kinase MB (CKMB) levels,\n",
      "often performed at admission and 8-hours, 16-hours, and 24-hours after admission has traditionally been used as an aid in the\n",
      "diagnosis of myocardial injury . CKMB may be useful if the initial {roponin determination is abnormal or if a hospitalized patient has\n",
      "\n",
      "a suspected reinfarction.\n",
      "\n",
      "©° End of Report e°\n",
      "\n",
      "DR. ANJANA HOSANGADI\n",
      "\n",
      "M.D (Pathology)\n",
      "Consultant Pathologist\n",
      "Laboratory Medicine\n",
      "\n",
      "DR. SRIKANT GHARPURE\n",
      "\n",
      "M.D, DPB, DCP (London)\n",
      "Consultant Pathologist\n",
      "Laboratory Medicine\n",
      "\n",
      "Page 1 of 1\n",
      "\n",
      "<nonanoncentasbenieenecemael\n",
      "\n"
     ]
    }
   ],
   "source": [
    "DATADIR = \"E:/Programming/Data Science/Jupyter/Home/KJ Somaiya/LY Proj/data/OCR Dataset/Biochemistry\"\n",
    "i=0\n",
    "for img in os.listdir(DATADIR):\n",
    "    print(img)\n",
    "    text = pytesseract.image_to_string('data/OCR Dataset/Biochemistry/'+img)\n",
    "    print(text)\n",
    "    i += 1\n",
    "    if(i==5):\n",
    "        break\n",
    "    print(\"----------------------------------\") "
   ]
  },
  {
   "cell_type": "code",
   "execution_count": 26,
   "id": "8166a9b8",
   "metadata": {},
   "outputs": [],
   "source": [
    "image = \"E:/Programming/Data Science/Jupyter/Home/KJ Somaiya/LY Proj/data/OCR Dataset/Biochemistry/IMG_20210920_175446.jpg\""
   ]
  },
  {
   "cell_type": "code",
   "execution_count": 27,
   "id": "97e895a9",
   "metadata": {},
   "outputs": [],
   "source": [
    "text = pytesseract.image_to_string(image)"
   ]
  },
  {
   "cell_type": "code",
   "execution_count": 37,
   "id": "6ab4b410",
   "metadata": {},
   "outputs": [
    {
     "name": "stdout",
     "output_type": "stream",
     "text": [
      "CONSULTANT PAI HOLOGISTS\n",
      "\n",
      "G DR. ANSARUS PATHOLOGY LABORATORY\n",
      "\n",
      "\\ Ansari Dr. (Mrs.) f alaf\n",
      "pr\", ) y p.s; D.P.BiM B.B.S. (Mum) Afy f\n",
      "aga i, 38750 8 0475 ss\n",
      "ue - AN pATHOLOGY & X-RAY CLINIC © KEDY DIAGNOSTIC CENTRE «= PAWOOD™' poise\n",
      "; eNAY 5 407 Navjivan Soctely Lamington Road 72/79/80, Kedy Shopping Centre j , : F\n",
      "7101. 1 p08 Bellasis Road Minbar 400 99%\n",
      "puma 7 4179, 2307 9490 Phone ; 2301 0084\n",
      "phone >, : 5 00 p.m Timing ; 8.00 a.m. to §.00 pt\n",
      "Br, 8.00 a.m. 10 -- \\\n",
      "TMine - a a . _ se si\n",
      "ab 1D ae | anni\n",
      "patient Name : Mr. HIMMATBHAT UMRANIA ‘Reg. Date - 08/05/2618\n",
      "pef BY : Dr. A.V. SHAH Report Date : 08/05/2012\n",
      "ao )6hChl Cl cual : 74 Year /Mate\n",
      "Location - Main Lab\n",
      "\n",
      "SERUM ELECTROLYTES\n",
      "\n",
      "Test Observed Value Unit Ref Range\n",
      "s,SODIUM 138.00 mmol/L 435-150 mmol/L\n",
      "s,POTASSIUM 4.55 mmol/L 3.5-5.0 mmoi/L\n",
      "S,CHLORIDES 103.30 mmol/L 94-110 mmol/L\n",
      "__END OF REPORT—— Ff\n",
      "\n",
      "Results relate only to the sample as received. Kindly Correlate with clinical conditions.\n",
      "\n",
      "pr. (Mrs.) Talat S. Ansari\n",
      "M.D.(Path.), D.P.B; MBBS.\n",
      "\n",
      "Path) .cP.5; D.P.B; M.B.B.S.\n",
      "\n",
      "\n"
     ]
    }
   ],
   "source": [
    "print(text)"
   ]
  },
  {
   "cell_type": "code",
   "execution_count": 46,
   "id": "3acf4c34",
   "metadata": {},
   "outputs": [],
   "source": [
    "pot_re = re.compile(r'(.*[Pp][Oo][Tt][Aa][Ss][Ss][Ii][Uu][Mm]\\D*) ([\\d,.]+) ')"
   ]
  },
  {
   "cell_type": "code",
   "execution_count": 47,
   "id": "b31cbc9a",
   "metadata": {},
   "outputs": [],
   "source": [
    "pot = pot_re.search(text)"
   ]
  },
  {
   "cell_type": "code",
   "execution_count": 48,
   "id": "60a4e19e",
   "metadata": {},
   "outputs": [
    {
     "data": {
      "text/plain": [
       "<re.Match object; span=(763, 780), match='s,POTASSIUM 4.55 '>"
      ]
     },
     "execution_count": 48,
     "metadata": {},
     "output_type": "execute_result"
    }
   ],
   "source": [
    "pot"
   ]
  },
  {
   "cell_type": "code",
   "execution_count": 49,
   "id": "ee6dd603",
   "metadata": {},
   "outputs": [
    {
     "data": {
      "text/plain": [
       "'4.55'"
      ]
     },
     "execution_count": 49,
     "metadata": {},
     "output_type": "execute_result"
    }
   ],
   "source": [
    "pot[2]"
   ]
  },
  {
   "cell_type": "code",
   "execution_count": 50,
   "id": "a4725ea6",
   "metadata": {},
   "outputs": [],
   "source": [
    "sod_re = re.compile(r'(.*[Ss][Oo][Dd][Ii][Uu][Mm]\\D*) ([\\d,.]+) ')"
   ]
  },
  {
   "cell_type": "code",
   "execution_count": 51,
   "id": "68b23089",
   "metadata": {},
   "outputs": [],
   "source": [
    "sod = sod_re.search(text)"
   ]
  },
  {
   "cell_type": "code",
   "execution_count": 52,
   "id": "e9c47093",
   "metadata": {},
   "outputs": [
    {
     "data": {
      "text/plain": [
       "<re.Match object; span=(725, 741), match='s,SODIUM 138.00 '>"
      ]
     },
     "execution_count": 52,
     "metadata": {},
     "output_type": "execute_result"
    }
   ],
   "source": [
    "sod"
   ]
  },
  {
   "cell_type": "code",
   "execution_count": 53,
   "id": "91e23ca5",
   "metadata": {},
   "outputs": [],
   "source": [
    "chl_re = re.compile(r'(.*[Cc][Hh][Ll][Oo][Rr][Ii][Dd][Ee]\\D*) ([\\d,.]+) ')"
   ]
  },
  {
   "cell_type": "code",
   "execution_count": 54,
   "id": "932a4dbc",
   "metadata": {},
   "outputs": [
    {
     "data": {
      "text/plain": [
       "<re.Match object; span=(802, 821), match='S,CHLORIDES 103.30 '>"
      ]
     },
     "execution_count": 54,
     "metadata": {},
     "output_type": "execute_result"
    }
   ],
   "source": [
    "chl = chl_re.search(text)\n",
    "chl"
   ]
  },
  {
   "cell_type": "code",
   "execution_count": null,
   "id": "de5d3797",
   "metadata": {},
   "outputs": [],
   "source": []
  }
 ],
 "metadata": {
  "kernelspec": {
   "display_name": "Python 3",
   "language": "python",
   "name": "python3"
  },
  "language_info": {
   "codemirror_mode": {
    "name": "ipython",
    "version": 3
   },
   "file_extension": ".py",
   "mimetype": "text/x-python",
   "name": "python",
   "nbconvert_exporter": "python",
   "pygments_lexer": "ipython3",
   "version": "3.8.8"
  }
 },
 "nbformat": 4,
 "nbformat_minor": 5
}
